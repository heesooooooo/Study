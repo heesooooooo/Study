{
 "cells": [
  {
   "cell_type": "code",
   "execution_count": 1,
   "id": "f0627a82",
   "metadata": {},
   "outputs": [
    {
     "name": "stdout",
     "output_type": "stream",
     "text": [
      "실행문장 실행\n",
      "if문 밖에 있는 실행문장\n"
     ]
    }
   ],
   "source": [
    "if True :\n",
    "    print(\"실행문장 실행\")\n",
    "print('if문 밖에 있는 실행문장')    "
   ]
  },
  {
   "cell_type": "code",
   "execution_count": 2,
   "id": "99beeffb",
   "metadata": {},
   "outputs": [
    {
     "name": "stdout",
     "output_type": "stream",
     "text": [
      "if문 밖에 있는 실행문장\n"
     ]
    }
   ],
   "source": [
    "if False : \n",
    "    print(\"실행문장 실행\")\n",
    "print('if문 밖에 있는 실행문장')"
   ]
  },
  {
   "cell_type": "code",
   "execution_count": 3,
   "id": "2faa49a0",
   "metadata": {},
   "outputs": [
    {
     "name": "stdout",
     "output_type": "stream",
     "text": [
      "택시를 탄다\n"
     ]
    }
   ],
   "source": [
    "# 조건문을 이용해서 money라는 변수에 10000원 이상이라면 '택시를 탄다' 문구를 출력\n",
    "\n",
    "# 변수 설정\n",
    "money = 12000\n",
    "# 조건문 작성\n",
    "if money >= 10000 :\n",
    "    print(\"택시를 탄다\")"
   ]
  },
  {
   "cell_type": "code",
   "execution_count": 2,
   "id": "f2ff9b7b",
   "metadata": {},
   "outputs": [
    {
     "name": "stdout",
     "output_type": "stream",
     "text": [
      "얼마 있나요? >> 1000000원\n",
      "택시를 탄다\n"
     ]
    }
   ],
   "source": [
    "# 번외) 입력받은 숫자 뒤에 '원'이라는 문자 붙여보기\n",
    "# 조건문을 이용해서 money라는 변수에 10000원 이상이라면 '택시를 탄다' 문구를 출력\n",
    "# 만약 money가 10000원 미만이라면 '버스를 탄다' 문구 출력\n",
    "\n",
    "# 변수 설정\n",
    "money = input('얼마 있나요? >> ') # 문자형 str (10000원< 이라고 입력하고 싶을 때) \n",
    "# 문자열 쪼개기 - split\n",
    "\n",
    "money = int(money.split('원')[0]) # '원' 기준으로 자른 거의 첫번째\n",
    "\n",
    "# 조건문 작성\n",
    "if money >= 10000 :\n",
    "    print(\"택시를 탄다\")\n",
    "else :\n",
    "    print(\"버스를 탄다\")"
   ]
  },
  {
   "cell_type": "code",
   "execution_count": 1,
   "id": "5b80b33e",
   "metadata": {},
   "outputs": [
    {
     "name": "stdout",
     "output_type": "stream",
     "text": [
      "정수 입력 >> 9\n",
      "3과 5의 배수가 아닙니다\n"
     ]
    }
   ],
   "source": [
    "num = int(input(\"정수 입력 >> \"))\n",
    "if (num % 3 == 0) & (num % 5 == 0) : # and보단 & 쓰기, 괄호로 묶기\n",
    "    print(\"3과 5의 배수입니다\")\n",
    "else :\n",
    "    print(\"3과 5의 배수가 아닙니다\")"
   ]
  },
  {
   "cell_type": "code",
   "execution_count": 4,
   "id": "0126cc29",
   "metadata": {},
   "outputs": [
    {
     "name": "stdout",
     "output_type": "stream",
     "text": [
      "마스크 개수 입력 >> 12\n",
      "8개들이 포장지 개수 : 1\n",
      "5개들이 포장지 개수 : 1\n"
     ]
    }
   ],
   "source": [
    "countOfMask = int(input(\"마스크 개수 입력 >> \"))\n",
    "print(f\"8개들이 포장지 개수 : {countOfMask//8}\")\n",
    "\n",
    "if (countOfMask%8)%5==0 :\n",
    "    print(f\"5개들이 포장지 개수 : {(countOfMask%8)//5}\")\n",
    "else :\n",
    "    print(f\"5개들이 포장지 개수 : {(countOfMask%8)//5+1}\")"
   ]
  },
  {
   "cell_type": "code",
   "execution_count": 16,
   "id": "2f9bac00",
   "metadata": {},
   "outputs": [
    {
     "name": "stdout",
     "output_type": "stream",
     "text": [
      "마스크 개수 입력 >> 7\n",
      "8개 들이 마스크 박스 갯수 : 0\n",
      "5개 들이 마스크 박스 갯수 : 2\n"
     ]
    }
   ],
   "source": [
    "# 선생님 풀이\n",
    "\n",
    "com = int(input(\"마스크 개수 입력 >> \"))\n",
    "\n",
    "if com > 0 :\n",
    "    eight = com // 8\n",
    "    \n",
    "    if (com % 8) > 5 : #5개 박스 몇개 필요?\n",
    "        five = 2\n",
    "    else :\n",
    "        five = 1\n",
    "        \n",
    "print(f\"8개 들이 마스크 박스 갯수 : {eight}\")\n",
    "print(f\"5개 들이 마스크 박스 갯수 : {five}\")"
   ]
  },
  {
   "cell_type": "code",
   "execution_count": 25,
   "id": "435411ce",
   "metadata": {},
   "outputs": [
    {
     "name": "stdout",
     "output_type": "stream",
     "text": [
      "첫 번째 정수 입력 >> 2\n",
      "두 번째 정수 입력 >> 2\n",
      "두 수가 똑같습니다.\n"
     ]
    }
   ],
   "source": [
    "num1 = int(input(\"첫 번째 정수 입력 >> \"))\n",
    "num2 = int(input(\"두 번째 정수 입력 >> \"))\n",
    "\n",
    "if num1 > num2 :\n",
    "    print('첫 번째 정수가 더 큽니다.')\n",
    "elif num1 < num2 :\n",
    "    print('두 번째 정수가 더 큽니다.')\n",
    "else :\n",
    "    print('두 수가 똑같습니다.')"
   ]
  },
  {
   "cell_type": "code",
   "execution_count": 5,
   "id": "a64fc7de",
   "metadata": {},
   "outputs": [
    {
     "name": "stdout",
     "output_type": "stream",
     "text": [
      "점수 입력 >> 90\n",
      "90는 A학점 입니다.\n"
     ]
    }
   ],
   "source": [
    "score = int(input('점수 입력 >> '))\n",
    "\n",
    "if (score<=100) & (score>=90) :\n",
    "    print(f'{score}는 A학점 입니다.')\n",
    "elif (score<90) & (score>=80) :\n",
    "    print(f'{score}는 B학점 입니다.')\n",
    "elif (score<80) & (score>=70) :\n",
    "    print(f'{score}는 C학점 입니다.')\n",
    "elif (score<70) & (score>=60) :\n",
    "    print(f'{score}는 D학점 입니다.')\n",
    "elif score > 100 :\n",
    "    print('점수 잘못 입력했어요')\n",
    "else : \n",
    "    print(f'{score}는 F학점 입니다.')\n",
    "    "
   ]
  },
  {
   "cell_type": "code",
   "execution_count": 7,
   "id": "da26fcf5",
   "metadata": {},
   "outputs": [
    {
     "name": "stdout",
     "output_type": "stream",
     "text": [
      "점수 입력 >> 89\n",
      "89점은 B학점입니다.\n"
     ]
    }
   ],
   "source": [
    "# 선생님 풀이\n",
    "# 변수 score에 점수를 입력 받아서 학점을 부여하세요\n",
    "\n",
    "score = int(input('점수 입력 >> '))\n",
    "\n",
    "grade = '' # '' 비워도 됨........ 선언 안해도 됨???\n",
    "\n",
    "if score > 100 :\n",
    "    print('점수 잘못 입력했어요')\n",
    "else : \n",
    "    if score >= 90 :\n",
    "        grade = 'A'\n",
    "    elif score >= 80 :  # if에서 이미 90이상 잡았기 때문에 또 안 써도 됨\n",
    "        grade = 'B'   \n",
    "    elif score >= 70 :\n",
    "        grade = 'C'\n",
    "    elif score >= 60 :\n",
    "        grade = 'D'\n",
    "    else :\n",
    "        grade = 'F'\n",
    "        \n",
    "    print(f'{score}점은 {grade}학점입니다.') # else문 안에.. "
   ]
  },
  {
   "cell_type": "code",
   "execution_count": null,
   "id": "c25f5185",
   "metadata": {},
   "outputs": [],
   "source": [
    "# 나이를 입력받고 나이에 맞는 버스요금을 책정하세요\n",
    "age = int(input('나이 입력 >> '))\n",
    "money = 1500  # 기본 요금으로 설정\n",
    "\n",
    "if age<5 :\n",
    "    money =  money*0.5\n",
    "elif age<20 : # 5살 미만 if에서 했으니까 5살이상 조건 안 걸어도 됨\n",
    "    money = money*0.75\n",
    "elif age>=65 :\n",
    "    money = money*0.25\n",
    "else :\n",
    "    money = 1500\n",
    "    \n",
    "print(f'요금은 {int(money)}원 입니다.')"
   ]
  },
  {
   "cell_type": "code",
   "execution_count": 67,
   "id": "1e227b6c",
   "metadata": {},
   "outputs": [
    {
     "name": "stdout",
     "output_type": "stream",
     "text": [
      "1.콜라 600원 / 2.사이다 800원 / 3.물 1000원\n",
      "insert coin >> 500\n",
      "메뉴 선택 >> 2\n",
      "돈 더 내놔!!\n"
     ]
    }
   ],
   "source": [
    "print('1.콜라 600원 / 2.사이다 800원 / 3.물 1000원')\n",
    "money = int(input('insert coin >> '))\n",
    "menu = int(input('메뉴 선택 >> '))\n",
    "if money >=600 :\n",
    "    if menu == 1 :\n",
    "        print(f'잔돈 >> 1000원 {(money-600)//1000}개, 500원 {(money-600)%1000//500}개, 100원 {(money-600)%500//100}개 ')\n",
    "    elif menu == 2 :    \n",
    "        if money >=800 :\n",
    "            print(f'잔돈 >> 1000원 {(money-800)//1000}개, 500원 {(money-800)%1000//500}개, 100원 {(money-800)%500//100}개 ')\n",
    "        else :\n",
    "            print('잔액 부족')\n",
    "    elif menu == 3 :    \n",
    "        if money >=1000 :\n",
    "            print(f'잔돈 >> 1000원 {(money-1000)//1000}개, 500원 {(money-1000)%1000//500}개, 100원 {(money-1000)%500//100}개 ')\n",
    "        else :\n",
    "            print('잔액 부족') \n",
    "    else :\n",
    "        print('잘못된 메뉴')\n",
    "else :\n",
    "    print('돈 더 내놔!!')"
   ]
  },
  {
   "cell_type": "code",
   "execution_count": 2,
   "id": "6269db4c",
   "metadata": {},
   "outputs": [
    {
     "name": "stdout",
     "output_type": "stream",
     "text": [
      "1.콜라 600원  2.사이다 800원  3.물 1000원\n",
      "insert coin >> 500\n",
      "메뉴 선택 >> 1\n",
      "돈 더 내놔!!\n"
     ]
    }
   ],
   "source": [
    "# 깔끔하게 정리.....?\n",
    "\n",
    "print('1.콜라 600원  2.사이다 800원  3.물 1000원')\n",
    "money = int(input('insert coin >> '))\n",
    "menu = int(input('메뉴 선택 >> '))\n",
    "if money >=600 :\n",
    "    if menu == 1 :\n",
    "        price =600\n",
    "    elif menu == 2 :    \n",
    "        if money >=800 :\n",
    "            price = 800\n",
    "        else :\n",
    "            print('잔액 부족')\n",
    "    elif menu == 3 :    \n",
    "        if money >=1000 :\n",
    "            price = 1000\n",
    "        else :\n",
    "            print('잔액 부족') \n",
    "    else :\n",
    "        print('잘못된 메뉴')\n",
    "        \n",
    "    print(f'잔돈 >> 1000원 {(money-price)//1000}개, 500원 {(money-price)%1000//500}개, 100원 {(money-price)%500//100}개 ')\n",
    " \n",
    "\n",
    "\n",
    "else :\n",
    "    print('돈 더 내놔!!')"
   ]
  },
  {
   "cell_type": "code",
   "execution_count": 69,
   "id": "cca41ec5",
   "metadata": {},
   "outputs": [
    {
     "name": "stdout",
     "output_type": "stream",
     "text": [
      "1.콜라 600원  2.사이다 800원  3.물 1000원\n",
      "insert coin >> 5000\n",
      "메뉴 선택 >> 4\n",
      "잘못된 메뉴입니다\n",
      "1000원 : 5장, 500원 : 0개, 100원 : 5개\n"
     ]
    }
   ],
   "source": [
    "#선생님 풀이\n",
    "change = 0 \n",
    "\n",
    "print('1.콜라 600원  2.사이다 800원  3.물 1000원')\n",
    "money = int(input('insert coin >> '))\n",
    "menu = int(input('메뉴 선택 >> '))\n",
    "\n",
    "if menu == 1 :\n",
    "    if money < 600 : \n",
    "        print('잔액이 모자랍니다.')\n",
    "        change = money\n",
    "    else :\n",
    "        change = money - 600\n",
    "        print('콜라 나왔습니다..')\n",
    "elif menu == 2 :\n",
    "    if money < 800 : \n",
    "        print('잔액이 모자랍니다.')\n",
    "        change = money\n",
    "    else :\n",
    "        change = money - 800\n",
    "        print('사이다 나왔습니다..')\n",
    "elif menu == 3 :\n",
    "    if money < 1000 : \n",
    "        print('잔액이 모자랍니다.')\n",
    "        change = money\n",
    "    else :\n",
    "        change = money - 1000\n",
    "        print('물 나왔습니다..')\n",
    "else :\n",
    "    print('잘못된 메뉴입니다')\n",
    "    change = money\n",
    "    \n",
    "t = change // 1000\n",
    "f = change % 1000 // 500\n",
    "h = change % 1000 % 500 // 100\n",
    "\n",
    "print(f'1000원 : {t}장, 500원 : {f}개, 100원 : {t}개')\n",
    "    "
   ]
  },
  {
   "cell_type": "code",
   "execution_count": null,
   "id": "83f7a359",
   "metadata": {},
   "outputs": [],
   "source": []
  }
 ],
 "metadata": {
  "kernelspec": {
   "display_name": "Python 3 (ipykernel)",
   "language": "python",
   "name": "python3"
  },
  "language_info": {
   "codemirror_mode": {
    "name": "ipython",
    "version": 3
   },
   "file_extension": ".py",
   "mimetype": "text/x-python",
   "name": "python",
   "nbconvert_exporter": "python",
   "pygments_lexer": "ipython3",
   "version": "3.11.5"
  }
 },
 "nbformat": 4,
 "nbformat_minor": 5
}
