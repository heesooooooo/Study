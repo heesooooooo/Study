{
 "cells": [
  {
   "cell_type": "code",
   "execution_count": 3,
   "id": "9c5d5832",
   "metadata": {},
   "outputs": [
    {
     "name": "stdout",
     "output_type": "stream",
     "text": [
      "파이썬 최고!! 1번째\n",
      "파이썬 최고!! 2번째\n",
      "파이썬 최고!! 3번째\n",
      "파이썬 최고!! 4번째\n",
      "파이썬 최고!! 5번째\n",
      "파이썬 최고!! 6번째\n",
      "파이썬 최고!! 7번째\n",
      "파이썬 최고!! 8번째\n",
      "파이썬 최고!! 9번째\n",
      "파이썬 최고!! 10번째\n"
     ]
    }
   ],
   "source": [
    "# while문을 사용해서 '파이썬 최고'를 10번 출력하세요\n",
    "num = 1\n",
    "while num<11 :\n",
    "    print(f'파이썬 최고!! {num}번째')\n",
    "    num += 1"
   ]
  },
  {
   "cell_type": "code",
   "execution_count": 4,
   "id": "362b71cf",
   "metadata": {},
   "outputs": [
    {
     "name": "stdout",
     "output_type": "stream",
     "text": [
      "무한루프\n"
     ]
    }
   ],
   "source": [
    "while True :\n",
    "    print('무한루프')\n",
    "    break"
   ]
  },
  {
   "cell_type": "code",
   "execution_count": 5,
   "id": "657a8ca1",
   "metadata": {},
   "outputs": [
    {
     "name": "stdout",
     "output_type": "stream",
     "text": [
      "1\n",
      "2\n",
      "3\n"
     ]
    }
   ],
   "source": [
    "num = 1\n",
    "\n",
    "while True : \n",
    "    print(num)\n",
    "    num += 1\n",
    "    if num > 3 : \n",
    "        break"
   ]
  },
  {
   "cell_type": "code",
   "execution_count": 8,
   "id": "a590426d",
   "metadata": {},
   "outputs": [
    {
     "name": "stdout",
     "output_type": "stream",
     "text": [
      "이름 입력 >> 엄희수\n",
      "엄희수 최고!\n",
      "이름 입력 >> 강아람\n",
      "아파서 속상해요\n"
     ]
    }
   ],
   "source": [
    "# while문 활용 문제\n",
    "# while문을 활용해서 이름을 입력받고\n",
    "# 입력받은 이름 최고! 출력\n",
    "# 단, 입력받은 이름이 강아람이면 '아파서 속상해요'라고 출력하고 \n",
    "# while문을 멈추도록 하자\n",
    "\n",
    "while True :\n",
    "    name = input('이름 입력 >> ')\n",
    "    if name == '강아람':     # 강아람 최고! 가 뜨면 안되니까 위에\n",
    "        print('아파서 속상해요')\n",
    "        break\n",
    "    else :\n",
    "        print(f'{name} 최고!')\n",
    "        \n"
   ]
  },
  {
   "cell_type": "code",
   "execution_count": 15,
   "id": "0fb1216a",
   "metadata": {},
   "outputs": [
    {
     "name": "stdout",
     "output_type": "stream",
     "text": [
      "첫 번째 정수 입력 >> 1\n",
      "두 번째 정수 입력 >> 2\n",
      "두 정수의 합 : 3\n",
      "첫 번째 정수 입력 >> 7\n",
      "두 번째 정수 입력 >> 3\n",
      "두 정수의 합 : 10\n",
      "첫 번째 정수 입력 >> 0\n",
      "두 번째 정수 입력 >> 0\n",
      "프로그램이 종료되었습니다.\n"
     ]
    }
   ],
   "source": [
    "# 두개의 정수를 입력받아서 더하는 코드를 작성할 것\n",
    "# 단 입력 받은 두 숫자가 모두 0이라면 멈출 것\n",
    "while True :\n",
    "    num1 = int(input('첫 번째 정수 입력 >> '))\n",
    "    num2 = int(input('두 번째 정수 입력 >> '))\n",
    "    \n",
    "    if (num1 == 0) & (num2 == 0) :   # 둘 다 0이면 두 정수의 합 뜨면 안되니까 위에\n",
    "        print('프로그램이 종료되었습니다.')\n",
    "        break\n",
    "    \n",
    "    print(f'두 정수의 합 : {num1+num2}') #else써도되고안써도됨\n",
    "    # 위치 확인... 먼저 0,0인지 if문에서 확인하고\n",
    "    # 아니면 if 안 들어가고 바로 프린트"
   ]
  },
  {
   "cell_type": "code",
   "execution_count": 21,
   "id": "cb5304f7",
   "metadata": {},
   "outputs": [
    {
     "name": "stdout",
     "output_type": "stream",
     "text": [
      "현재 몸무게 : 80\n",
      "목표 몸무게 : 70\n",
      "1주차 감량 몸무게 : 2\n",
      "2주차 감량 몸무게 : 3\n",
      "3주차 감량 몸무게 : 4\n",
      "4주차 감량 몸무게 : 5\n",
      "66kg 달성!! 축하합니다!\n"
     ]
    }
   ],
   "source": [
    "now = int(input('현재 몸무게 : '))\n",
    "goal = int(input('목표 몸무게 : '))\n",
    "num = 1\n",
    "while True :\n",
    "    loss = int(input(f'{num}주차 감량 몸무게 : '))\n",
    "    now -= loss\n",
    "    num += 1\n",
    "    if now <= goal :\n",
    "        print(f'{now}kg 달성!! 축하합니다')\n",
    "        break\n",
    "    "
   ]
  },
  {
   "cell_type": "code",
   "execution_count": 9,
   "id": "0c3b8e1d",
   "metadata": {},
   "outputs": [
    {
     "name": "stdout",
     "output_type": "stream",
     "text": [
      "현재 몸무게 : 80\n",
      "목표 몸무게 : 70\n",
      "1주차 감량 몸무게 : 2\n",
      "2주차 감량 몸무게 : 3\n",
      "3주차 감량 몸무게 : 5\n",
      "70kg 달성!! 축하합니다\n"
     ]
    }
   ],
   "source": [
    "# 선생님 풀이\n",
    "now = int(input('현재 몸무게 : '))\n",
    "goal = int(input('목표 몸무게 : '))\n",
    "num = 1\n",
    "while now > goal : # 현재>목표 일 때 반복문 돌리고\n",
    "    loss = int(input(f'{num}주차 감량 몸무게 : '))\n",
    "    num += 1\n",
    "    now -= loss\n",
    "print(f'{now}kg 달성!! 축하합니다') #현재<=목표면 반복문 빠져나와서 목표달성 출력"
   ]
  },
  {
   "cell_type": "code",
   "execution_count": 28,
   "id": "81e1e7cf",
   "metadata": {},
   "outputs": [
    {
     "name": "stdout",
     "output_type": "stream",
     "text": [
      "숫자를 입력하세요 >> 22\n",
      "22보다 큰 수입니다.\n",
      "숫자를 입력하세요 >> 50\n",
      "50보다 큰 수입니다.\n",
      "숫자를 입력하세요 >> 60\n",
      "60보다 큰 수입니다.\n",
      "숫자를 입력하세요 >> 80\n",
      "80보다 큰 수입니다.\n",
      "숫자를 입력하세요 >> 90\n",
      "90보다 작은 수입니다.\n",
      "숫자를 입력하세요 >> 85\n",
      "85보다 큰 수입니다.\n",
      "숫자를 입력하세요 >> 87\n",
      "87보다 큰 수입니다.\n",
      "숫자를 입력하세요 >> 88\n",
      "정답!!!\n"
     ]
    }
   ],
   "source": [
    "# up down 게임 만들기\n",
    "import random\n",
    "num = random.randint(1,100)\n",
    "\n",
    "while True : \n",
    "    a = int(input('숫자를 입력하세요 >> '))\n",
    "    \n",
    "    if num > a : \n",
    "        print(f'{a}보다 큰 수입니다.')\n",
    "    elif num < a :\n",
    "        print(f'{a}보다 작은 수입니다.')\n",
    "    else : \n",
    "        print('정답!!!')\n",
    "        break\n"
   ]
  },
  {
   "cell_type": "code",
   "execution_count": 29,
   "id": "1daf2326",
   "metadata": {},
   "outputs": [
    {
     "name": "stdout",
     "output_type": "stream",
     "text": [
      "안\n",
      "녕\n",
      "하\n",
      "세\n",
      "요\n"
     ]
    }
   ],
   "source": [
    "hi = '안녕하세요'\n",
    "for s  in hi:\n",
    "    print(s)"
   ]
  },
  {
   "cell_type": "code",
   "execution_count": 36,
   "id": "aeb14ecc",
   "metadata": {},
   "outputs": [
    {
     "name": "stdout",
     "output_type": "stream",
     "text": [
      "1번 학생은 합격입니다.\n",
      "2번 학생은 불합격입니다.\n",
      "3번 학생은 합격입니다.\n",
      "4번 학생은 합격입니다.\n",
      "5번 학생은 불합격입니다.\n"
     ]
    }
   ],
   "source": [
    "score_list = [90,45,70,60,55]\n",
    "num = 0\n",
    "for i in score_list :\n",
    "    num += 1\n",
    "    if i >= 60  :\n",
    "        print(f'{num}번 학생은 합격입니다.')\n",
    "    else : \n",
    "        print(f'{num}번 학생은 불합격입니다.')\n"
   ]
  },
  {
   "cell_type": "code",
   "execution_count": 41,
   "id": "42592a12",
   "metadata": {},
   "outputs": [
    {
     "name": "stdout",
     "output_type": "stream",
     "text": [
      "1번은 57점이며, C등급입니다.\n",
      "2번은 86점이며, A등급입니다.\n",
      "3번은 63점이며, B등급입니다.\n",
      "4번은 92점이며, A등급입니다.\n",
      "5번은 35점이며, C등급입니다.\n",
      "6번은 79점이며, B등급입니다.\n"
     ]
    }
   ],
   "source": [
    "python_score = [57, 86, 63, 92, 35, 79] # 파이썬 점수를 저장한 리스트\n",
    "num = 1 # 1번 학생, 2번 학생...\n",
    "\n",
    "for i in python_score :\n",
    "    if i >=80 :\n",
    "        grade = 'A'\n",
    "    elif i >= 60 :\n",
    "        grade = 'B'\n",
    "    else :\n",
    "        grade = 'C'    \n",
    "        \n",
    "    print(f'{num}번은 {i}점이며, {grade}등급입니다.')\n",
    "    num+=1"
   ]
  },
  {
   "cell_type": "code",
   "execution_count": 45,
   "id": "64b05fb7",
   "metadata": {},
   "outputs": [
    {
     "name": "stdout",
     "output_type": "stream",
     "text": [
      "1 2 3 4 5 6 7 8 9 "
     ]
    }
   ],
   "source": [
    "# print(end = 출력 후에 어떤 작업을 할 것인가? 옵션지정, 개행, 띄어쓰기)\n",
    "for i in range(1,10,1) :\n",
    "    print(i, end=' ')   # 옆으로 출력\n",
    "    "
   ]
  },
  {
   "cell_type": "code",
   "execution_count": 46,
   "id": "64c1e7e4",
   "metadata": {},
   "outputs": [
    {
     "name": "stdout",
     "output_type": "stream",
     "text": [
      "1 2 3 4 5 6 7 8 9 "
     ]
    }
   ],
   "source": [
    "# range 함수의 속성\n",
    "# range (시작값, 끝 값 +1, 증감량)\n",
    "# 1. 하나의 값을 생략하는 경우 (증감량 생략(기본값을 +1))\n",
    "for i in range(1,10) : \n",
    "    print(i,end = \" \")"
   ]
  },
  {
   "cell_type": "code",
   "execution_count": 47,
   "id": "0ad28273",
   "metadata": {},
   "outputs": [
    {
     "name": "stdout",
     "output_type": "stream",
     "text": [
      "0 1 2 3 4 5 6 7 8 9 "
     ]
    }
   ],
   "source": [
    "# 2. 두 개의 값을 생략하는 경우 (시작값 생략(기본값 0), 증감량 생략(기본값을 +1))\n",
    "for i in range(10) : \n",
    "    print(i,end = \" \")"
   ]
  },
  {
   "cell_type": "code",
   "execution_count": 50,
   "id": "9c1417b7",
   "metadata": {},
   "outputs": [
    {
     "name": "stdout",
     "output_type": "stream",
     "text": [
      "97 96 95 94 93 92 91 90 89 88 87 86 85 84 83 82 81 80 79 78 77 "
     ]
    }
   ],
   "source": [
    "for i in range(97,76,-1) :\n",
    "    print(i, end = ' ')"
   ]
  },
  {
   "cell_type": "code",
   "execution_count": 52,
   "id": "8c58d303",
   "metadata": {},
   "outputs": [
    {
     "name": "stdout",
     "output_type": "stream",
     "text": [
      "23 24 25 26 27 28 29 30 31 32 33 34 35 36 37 38 39 "
     ]
    }
   ],
   "source": [
    "for i in range(23,40) :\n",
    "    print(i, end = ' ')"
   ]
  },
  {
   "cell_type": "code",
   "execution_count": 53,
   "id": "b35b4ca0",
   "metadata": {},
   "outputs": [
    {
     "name": "stdout",
     "output_type": "stream",
     "text": [
      "1 2\n",
      "3 4\n",
      "5 6\n"
     ]
    }
   ],
   "source": [
    "# 이차원 리스트 출력하기\n",
    "list1 = [[1,2],\n",
    "         [3,4],\n",
    "         [5,6]]\n",
    "\n",
    "for i, j in list1 :\n",
    "    print(i,j)"
   ]
  },
  {
   "cell_type": "code",
   "execution_count": 60,
   "id": "fe9f2097",
   "metadata": {},
   "outputs": [
    {
     "name": "stdout",
     "output_type": "stream",
     "text": [
      "1\n"
     ]
    }
   ],
   "source": [
    "list2 = [4,5,2,1,99,15,2,7,27]\n",
    "min1 = list2[0]   # 첫번째 인덱스를 최소값으로 넣어놓고 비교\n",
    "\n",
    "for i in list2 :\n",
    "    min1 = i if min1 > i else min1\n",
    "print(min1)"
   ]
  },
  {
   "cell_type": "code",
   "execution_count": 63,
   "id": "a5b1eeee",
   "metadata": {},
   "outputs": [
    {
     "name": "stdout",
     "output_type": "stream",
     "text": [
      "1683\n"
     ]
    }
   ],
   "source": [
    "sum1 = 0\n",
    "for i in range(1,34) :\n",
    "    sum1 += (3*i)\n",
    "print(sum1)"
   ]
  },
  {
   "cell_type": "code",
   "execution_count": 64,
   "id": "db05b267",
   "metadata": {},
   "outputs": [
    {
     "name": "stdout",
     "output_type": "stream",
     "text": [
      "1683\n"
     ]
    }
   ],
   "source": [
    "# 3의 배수 더하기\n",
    "sum1 = 0\n",
    "for i in range(0,101,3) :\n",
    "    sum1 += i\n",
    "print(sum1)"
   ]
  },
  {
   "cell_type": "code",
   "execution_count": 68,
   "id": "731a52fb",
   "metadata": {},
   "outputs": [
    {
     "name": "stdout",
     "output_type": "stream",
     "text": [
      "2 x 1 = 2 \n",
      "2 x 2 = 4 \n",
      "2 x 3 = 6 \n",
      "2 x 4 = 8 \n",
      "2 x 5 = 10 \n",
      "2 x 6 = 12 \n",
      "2 x 7 = 14 \n",
      "2 x 8 = 16 \n",
      "2 x 9 = 18 \n"
     ]
    }
   ],
   "source": [
    "for i in range(1,10) :\n",
    "    print(f'2 x {i} = {2*i} ' )"
   ]
  },
  {
   "cell_type": "code",
   "execution_count": 74,
   "id": "b1e1bcad",
   "metadata": {},
   "outputs": [
    {
     "name": "stdout",
     "output_type": "stream",
     "text": [
      "정수 입력 >> 48\n",
      "48의 약수 : 1 2 3 4 6 8 12 16 24 48 "
     ]
    }
   ],
   "source": [
    "# 약수 구하기\n",
    "num = int(input('정수 입력 >> '))\n",
    "\n",
    "print(f'{num}의 약수 :', end=' ')\n",
    "for i in range(1, num+1) :\n",
    "    if num%i == 0 :\n",
    "        print(i, end=' ')"
   ]
  },
  {
   "cell_type": "code",
   "execution_count": null,
   "id": "6ccab13f",
   "metadata": {},
   "outputs": [],
   "source": []
  }
 ],
 "metadata": {
  "kernelspec": {
   "display_name": "Python 3 (ipykernel)",
   "language": "python",
   "name": "python3"
  },
  "language_info": {
   "codemirror_mode": {
    "name": "ipython",
    "version": 3
   },
   "file_extension": ".py",
   "mimetype": "text/x-python",
   "name": "python",
   "nbconvert_exporter": "python",
   "pygments_lexer": "ipython3",
   "version": "3.11.5"
  }
 },
 "nbformat": 4,
 "nbformat_minor": 5
}
