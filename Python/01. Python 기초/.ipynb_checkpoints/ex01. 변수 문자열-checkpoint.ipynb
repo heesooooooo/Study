{
 "cells": [
  {
   "cell_type": "code",
   "execution_count": 3,
   "id": "4a80b1eb",
   "metadata": {},
   "outputs": [],
   "source": [
    "# 앞의 색이 파란색이면 Command mode (주피터 노트북 제어)\n",
    "# 앞의 색이 노란색이면 Edit mode(코드 작성 및 내용 입력)\n",
    "# 자바에서 주석은 //, 파이썬에서의 주석은 #"
   ]
  },
  {
   "cell_type": "code",
   "execution_count": 4,
   "id": "be633e14",
   "metadata": {},
   "outputs": [],
   "source": [
    "# Command mode 조작법\n",
    "# 파란 색상일 때 b : 아래에 셀 추가\n",
    "# 파란 색상일 떄 a : 위에 셀 추가\n",
    "# 파란 색상일 때 dd : 셀 삭제\n",
    "# 파란 색상일 때 ENTER : Edit Mode로 전환\n",
    "# 파란 색상일 때 x : 셀 잘라내기\n",
    "# 파란 색상일 때 v : 셀 붙여넣기\n",
    "\n",
    "# 자동완성 : tab"
   ]
  },
  {
   "cell_type": "markdown",
   "id": "03e376e3",
   "metadata": {},
   "source": [
    "파란 색상일 때 m : 마크다운(연습장과 같은 역할)\n",
    "y : 마크업\n",
    "\n",
    "# 제목1\n",
    "## 제목 2\n",
    "### 제목 3\n",
    "#### 제목 4\n",
    "##### 제목 5\n",
    "###### 제목 6\n",
    "\n",
    "- 안녕하세요 오늘 파이썬 처음이시죠\n",
    "    - 앞으로 파이썬도 많이 사랑해주세요"
   ]
  },
  {
   "cell_type": "code",
   "execution_count": 5,
   "id": "307a7580",
   "metadata": {},
   "outputs": [],
   "source": [
    "# 코드가 작성된 줄에서 실행은 ctrl + enter\n",
    "num1 = 1"
   ]
  },
  {
   "cell_type": "code",
   "execution_count": 6,
   "id": "dff37915",
   "metadata": {},
   "outputs": [
    {
     "data": {
      "text/plain": [
       "1"
      ]
     },
     "execution_count": 6,
     "metadata": {},
     "output_type": "execute_result"
    }
   ],
   "source": [
    "num1"
   ]
  },
  {
   "cell_type": "code",
   "execution_count": 7,
   "id": "70dc2bdd",
   "metadata": {},
   "outputs": [],
   "source": [
    "# 공통 단축키\n",
    "# ctrl + enter : 현재 셀 실행\n",
    "# shift + enter : 현재 셀 실행 후 아래셀로 이동"
   ]
  },
  {
   "cell_type": "code",
   "execution_count": 8,
   "id": "ef5a5dff",
   "metadata": {},
   "outputs": [],
   "source": [
    "# 만들어볼까요?"
   ]
  },
  {
   "cell_type": "markdown",
   "id": "e3db38ce",
   "metadata": {},
   "source": [
    "# 01 변수"
   ]
  },
  {
   "cell_type": "code",
   "execution_count": 9,
   "id": "915375b4",
   "metadata": {},
   "outputs": [
    {
     "name": "stdout",
     "output_type": "stream",
     "text": [
      "3\n"
     ]
    }
   ],
   "source": [
    "num = 3\n",
    "print(num)"
   ]
  },
  {
   "cell_type": "code",
   "execution_count": 10,
   "id": "af62ce9c",
   "metadata": {},
   "outputs": [
    {
     "data": {
      "text/plain": [
       "3"
      ]
     },
     "execution_count": 10,
     "metadata": {},
     "output_type": "execute_result"
    }
   ],
   "source": [
    "num = 3\n",
    "num"
   ]
  },
  {
   "cell_type": "code",
   "execution_count": 11,
   "id": "b4065903",
   "metadata": {},
   "outputs": [
    {
     "data": {
      "text/plain": [
       "13"
      ]
     },
     "execution_count": 11,
     "metadata": {},
     "output_type": "execute_result"
    }
   ],
   "source": [
    "num1 = 13\n",
    "num1"
   ]
  },
  {
   "cell_type": "code",
   "execution_count": 12,
   "id": "f81b64a6",
   "metadata": {},
   "outputs": [
    {
     "data": {
      "text/plain": [
       "25"
      ]
     },
     "execution_count": 12,
     "metadata": {},
     "output_type": "execute_result"
    }
   ],
   "source": [
    "num2 = 25\n",
    "num2"
   ]
  },
  {
   "cell_type": "code",
   "execution_count": 13,
   "id": "43e26ac0",
   "metadata": {},
   "outputs": [
    {
     "data": {
      "text/plain": [
       "77"
      ]
     },
     "execution_count": 13,
     "metadata": {},
     "output_type": "execute_result"
    }
   ],
   "source": [
    "num2 = 77\n",
    "num2"
   ]
  },
  {
   "cell_type": "code",
   "execution_count": 14,
   "id": "e25ece31",
   "metadata": {},
   "outputs": [
    {
     "name": "stdout",
     "output_type": "stream",
     "text": [
      "3.1425\n",
      "3.12\n"
     ]
    }
   ],
   "source": [
    "num3 = 3.1425\n",
    "num4 = 1.25\n",
    "num4 = 3.12\n",
    "print(num3)\n",
    "print(num4)"
   ]
  },
  {
   "cell_type": "code",
   "execution_count": 15,
   "id": "17222a7d",
   "metadata": {},
   "outputs": [
    {
     "name": "stdout",
     "output_type": "stream",
     "text": [
      "Funny python\n",
      "Easy python\n"
     ]
    }
   ],
   "source": [
    "str1 = \"Funny python\"\n",
    "str2 = 'Easy python'\n",
    "print(str1)\n",
    "print(str2)"
   ]
  },
  {
   "cell_type": "code",
   "execution_count": 16,
   "id": "45ffece0",
   "metadata": {
    "scrolled": true
   },
   "outputs": [
    {
     "data": {
      "text/plain": [
       "['False',\n",
       " 'None',\n",
       " 'True',\n",
       " 'and',\n",
       " 'as',\n",
       " 'assert',\n",
       " 'async',\n",
       " 'await',\n",
       " 'break',\n",
       " 'class',\n",
       " 'continue',\n",
       " 'def',\n",
       " 'del',\n",
       " 'elif',\n",
       " 'else',\n",
       " 'except',\n",
       " 'finally',\n",
       " 'for',\n",
       " 'from',\n",
       " 'global',\n",
       " 'if',\n",
       " 'import',\n",
       " 'in',\n",
       " 'is',\n",
       " 'lambda',\n",
       " 'nonlocal',\n",
       " 'not',\n",
       " 'or',\n",
       " 'pass',\n",
       " 'raise',\n",
       " 'return',\n",
       " 'try',\n",
       " 'while',\n",
       " 'with',\n",
       " 'yield']"
      ]
     },
     "execution_count": 16,
     "metadata": {},
     "output_type": "execute_result"
    }
   ],
   "source": [
    "import keyword\n",
    "keyword.kwlist"
   ]
  },
  {
   "cell_type": "code",
   "execution_count": 17,
   "id": "d3798714",
   "metadata": {},
   "outputs": [
    {
     "name": "stdout",
     "output_type": "stream",
     "text": [
      "10\n",
      "15\n"
     ]
    }
   ],
   "source": [
    "a = 10\n",
    "b = 15\n",
    "print(a)\n",
    "print(b)"
   ]
  },
  {
   "cell_type": "code",
   "execution_count": 18,
   "id": "5dbe4c0d",
   "metadata": {},
   "outputs": [
    {
     "name": "stdout",
     "output_type": "stream",
     "text": [
      "10\n",
      "15\n"
     ]
    }
   ],
   "source": [
    "a, b = 10, 15\n",
    "print(a)\n",
    "print(b)"
   ]
  },
  {
   "cell_type": "code",
   "execution_count": 19,
   "id": "bedf5616",
   "metadata": {},
   "outputs": [
    {
     "name": "stdout",
     "output_type": "stream",
     "text": [
      "python\n",
      "python\n"
     ]
    }
   ],
   "source": [
    "str1 = 'python'\n",
    "str2 = 'python'\n",
    "print(str1)\n",
    "print(str2)"
   ]
  },
  {
   "cell_type": "code",
   "execution_count": 20,
   "id": "087f5b91",
   "metadata": {},
   "outputs": [
    {
     "name": "stdout",
     "output_type": "stream",
     "text": [
      "python\n",
      "python\n"
     ]
    }
   ],
   "source": [
    "st1 = str2 = 'python'\n",
    "print(str1)\n",
    "print(str2)"
   ]
  },
  {
   "cell_type": "code",
   "execution_count": 21,
   "id": "50b0c6d9",
   "metadata": {},
   "outputs": [
    {
     "name": "stdout",
     "output_type": "stream",
     "text": [
      "300\n"
     ]
    }
   ],
   "source": [
    "x = 100\n",
    "y = 200\n",
    "sum1 = x + y\n",
    "print(sum1)"
   ]
  },
  {
   "cell_type": "code",
   "execution_count": 22,
   "id": "369590e0",
   "metadata": {},
   "outputs": [
    {
     "data": {
      "text/plain": [
       "10"
      ]
     },
     "execution_count": 22,
     "metadata": {},
     "output_type": "execute_result"
    }
   ],
   "source": [
    "sum([1,2,3,4])"
   ]
  },
  {
   "cell_type": "code",
   "execution_count": 23,
   "id": "aeea79c0",
   "metadata": {},
   "outputs": [
    {
     "name": "stdout",
     "output_type": "stream",
     "text": [
      "she's gone\n"
     ]
    }
   ],
   "source": [
    "str = 'she\\'s gone'\n",
    "print(str)"
   ]
  },
  {
   "cell_type": "code",
   "execution_count": 24,
   "id": "a9b1f048",
   "metadata": {},
   "outputs": [
    {
     "data": {
      "text/plain": [
       "\"she's gone\""
      ]
     },
     "execution_count": 24,
     "metadata": {},
     "output_type": "execute_result"
    }
   ],
   "source": [
    "s = \"she's gone\"\n",
    "s"
   ]
  },
  {
   "cell_type": "code",
   "execution_count": 25,
   "id": "dfab5d3a",
   "metadata": {},
   "outputs": [
    {
     "name": "stdout",
     "output_type": "stream",
     "text": [
      "여러줄로 구성된 \n",
      "문자열을 하나로 \n",
      "출력하고 싶을 때\n"
     ]
    }
   ],
   "source": [
    "# 여러줄로 구성된 문자열을 변수에 대입하고 싶을 때\n",
    "# 여러줄로 구성된\n",
    "# 문자열을 변수에 \n",
    "# 대입하고 싶을 때 \n",
    "# println *3\n",
    "# \\n(개행 문자)\n",
    "s = \"여러줄로 구성된 \\n문자열을 하나로 \\n출력하고 싶을 때\"\n",
    "print(s)"
   ]
  },
  {
   "cell_type": "code",
   "execution_count": 2,
   "id": "1b9a65d8",
   "metadata": {},
   "outputs": [
    {
     "name": "stdout",
     "output_type": "stream",
     "text": [
      "여러줄로 구성된 \n",
      "문자열을 \n",
      "하나로 \n",
      "출력하고 싶을 때\n"
     ]
    }
   ],
   "source": [
    "s = \"\"\"여러줄로 구성된 \n",
    "문자열을 \n",
    "하나로 \n",
    "출력하고 싶을 때\"\"\"\n",
    "print(s)"
   ]
  },
  {
   "cell_type": "code",
   "execution_count": 27,
   "id": "49999104",
   "metadata": {},
   "outputs": [
    {
     "name": "stdout",
     "output_type": "stream",
     "text": [
      "\n",
      "1교시 : HTML/CSS\n",
      "2교시 : HTML/CSS\n",
      "3교시 : HTML/CSS\n",
      "4교시 : HTML/CSS\n",
      "5교시 : 파이썬 라이브러리\n",
      "6교시 : 파이썬 라이브러리\n",
      "7교시 : 파이썬 라이브러리\n"
     ]
    }
   ],
   "source": [
    "# 문자열 포맷팅\n",
    "# 문자 내부에서 자주 바뀌는 부분을 변수 처리해서 원하는 결과를 출력하는 방법\n",
    "\n",
    "am = 'HTML/CSS'\n",
    "pm = '파이썬 라이브러리'\n",
    "\n",
    "s = f\"\"\"\n",
    "1교시 : {am}\n",
    "2교시 : {am}\n",
    "3교시 : {am}\n",
    "4교시 : {am}\n",
    "5교시 : {pm}\n",
    "6교시 : {pm}\n",
    "7교시 : {pm}\"\"\"\n",
    "print(s)"
   ]
  },
  {
   "cell_type": "markdown",
   "id": "6e17ac32",
   "metadata": {},
   "source": [
    "### 인덱싱 / 슬라이싱(1회차)\n",
    "- 인덱싱 : 무엇인가를 '가리킨다'라는 의미\n",
    "- 슬라이싱 : 무엇인가를 '잘라낸다'라는 의미"
   ]
  },
  {
   "cell_type": "code",
   "execution_count": 28,
   "id": "3e266386",
   "metadata": {},
   "outputs": [
    {
     "data": {
      "text/plain": [
       "'i'"
      ]
     },
     "execution_count": 28,
     "metadata": {},
     "output_type": "execute_result"
    }
   ],
   "source": [
    "s = 'my name is KN'\n",
    "s[8]"
   ]
  },
  {
   "cell_type": "code",
   "execution_count": 29,
   "id": "aef22432",
   "metadata": {},
   "outputs": [
    {
     "data": {
      "text/plain": [
       "'K'"
      ]
     },
     "execution_count": 29,
     "metadata": {},
     "output_type": "execute_result"
    }
   ],
   "source": [
    "s[-2]\n",
    "# 뒤에서부터 카운트"
   ]
  },
  {
   "cell_type": "code",
   "execution_count": 30,
   "id": "c0a6417b",
   "metadata": {},
   "outputs": [],
   "source": [
    "# 문자열 인덱싱 실습\n",
    "# 여러분들의 이름 이니셜에 해당하는 글자를 가져와주세요\n",
    "# ex) my name is KN -> 'K', 'N'"
   ]
  },
  {
   "cell_type": "code",
   "execution_count": 2,
   "id": "a796cdfd",
   "metadata": {},
   "outputs": [
    {
     "data": {
      "text/plain": [
       "('H', 'S')"
      ]
     },
     "execution_count": 2,
     "metadata": {},
     "output_type": "execute_result"
    }
   ],
   "source": [
    "s = 'my name is HS'\n",
    "s[11], s[12]"
   ]
  },
  {
   "cell_type": "code",
   "execution_count": 32,
   "id": "5c722fb4",
   "metadata": {},
   "outputs": [],
   "source": [
    "# 인덱스의 시작번호는 항상 0부터 시작한다!\n",
    "# 슬라이싱에서 인덱스의 끝 번호는 항상 어떻게 처리한다? +1을 해준다."
   ]
  },
  {
   "cell_type": "code",
   "execution_count": 33,
   "id": "1de8946c",
   "metadata": {},
   "outputs": [
    {
     "data": {
      "text/plain": [
       "'name'"
      ]
     },
     "execution_count": 33,
     "metadata": {},
     "output_type": "execute_result"
    }
   ],
   "source": [
    "# 인덱싱으로 글자 하나하나 가져오는거 불편하다!\n",
    "# 범위를 정해서 단어를 가져와보자\n",
    "# 데이터 슬라이싱 -> 끝번호는 미포함\n",
    "# s[ 인덱스 시작번호 : 인덱스 끝번호 + 1 ]\n",
    "s[3:7] "
   ]
  },
  {
   "cell_type": "code",
   "execution_count": 34,
   "id": "cdcc9e99",
   "metadata": {},
   "outputs": [
    {
     "data": {
      "text/plain": [
       "'my name is HS'"
      ]
     },
     "execution_count": 34,
     "metadata": {},
     "output_type": "execute_result"
    }
   ],
   "source": [
    "s"
   ]
  },
  {
   "cell_type": "code",
   "execution_count": 37,
   "id": "a692dbbe",
   "metadata": {},
   "outputs": [
    {
     "data": {
      "text/plain": [
       "'my'"
      ]
     },
     "execution_count": 37,
     "metadata": {},
     "output_type": "execute_result"
    }
   ],
   "source": [
    "# my를 가져와보자\n",
    "s[0:2]"
   ]
  },
  {
   "cell_type": "code",
   "execution_count": 44,
   "id": "041d247b",
   "metadata": {},
   "outputs": [
    {
     "data": {
      "text/plain": [
       "'is'"
      ]
     },
     "execution_count": 44,
     "metadata": {},
     "output_type": "execute_result"
    }
   ],
   "source": [
    "# is를 가져와보자\n",
    "s[8:10]"
   ]
  },
  {
   "cell_type": "code",
   "execution_count": 5,
   "id": "ef27e8e0",
   "metadata": {},
   "outputs": [
    {
     "data": {
      "text/plain": [
       "'HS'"
      ]
     },
     "execution_count": 5,
     "metadata": {},
     "output_type": "execute_result"
    }
   ],
   "source": [
    "# HS를 가져와보자\n",
    "s[-2 : ]"
   ]
  },
  {
   "cell_type": "code",
   "execution_count": 47,
   "id": "4eef1632",
   "metadata": {},
   "outputs": [
    {
     "name": "stdout",
     "output_type": "stream",
     "text": [
      "my name\n",
      "my name\n"
     ]
    }
   ],
   "source": [
    "# 슬라이싱에서 값을 생략하는 것에 대한 의미\n",
    "# 변수 [ 시작값 인덱스 : 끝값 인덱스 + 1 ]\n",
    "# 시작값이 생략되는 경우 -> 데이터의 처음부터(인덱스 번호 0번부터)\n",
    "print(s[0:7])\n",
    "print(s[ :7])"
   ]
  },
  {
   "cell_type": "code",
   "execution_count": 50,
   "id": "8e0f16a8",
   "metadata": {},
   "outputs": [
    {
     "name": "stdout",
     "output_type": "stream",
     "text": [
      "HS\n",
      "HS\n"
     ]
    }
   ],
   "source": [
    "# 끝값이 생략되는 경우 -> 데이터의 끝부분까지 (인덱스 번호 마지막까지)\n",
    "print(s[11:13])\n",
    "print(s[11: ])"
   ]
  },
  {
   "cell_type": "code",
   "execution_count": 51,
   "id": "366efa18",
   "metadata": {},
   "outputs": [
    {
     "data": {
      "text/plain": [
       "'my name is HS'"
      ]
     },
     "execution_count": 51,
     "metadata": {},
     "output_type": "execute_result"
    }
   ],
   "source": [
    "# 문자열에 처음부터 끝까지 모든 문자를 가져오고 싶으면 어떻게 해야할까?\n",
    "s[:]"
   ]
  },
  {
   "cell_type": "code",
   "execution_count": 52,
   "id": "c707f9e9",
   "metadata": {},
   "outputs": [
    {
     "data": {
      "text/plain": [
       "'my name is HS'"
      ]
     },
     "execution_count": 52,
     "metadata": {},
     "output_type": "execute_result"
    }
   ],
   "source": [
    "s"
   ]
  },
  {
   "cell_type": "code",
   "execution_count": 54,
   "id": "b66bc877",
   "metadata": {},
   "outputs": [
    {
     "data": {
      "text/plain": [
       "'안녕하세요안녕하세요'"
      ]
     },
     "execution_count": 54,
     "metadata": {},
     "output_type": "execute_result"
    }
   ],
   "source": [
    "# 문자열 더하기\n",
    "s1 = '안녕하세요'\n",
    "s1 + s1"
   ]
  },
  {
   "cell_type": "code",
   "execution_count": 8,
   "id": "a8ac0711",
   "metadata": {},
   "outputs": [
    {
     "name": "stdout",
     "output_type": "stream",
     "text": [
      "날짜 : 2024년 1월 30일\n",
      "날씨 : 맑음\n"
     ]
    }
   ],
   "source": [
    "# 다음과 같은 문자열에서 날짜와 날씨를 따로 뽑아서 출력해보자\n",
    "s = \"2024년 1월 30일의 날씨는 맑음입니다.\"\n",
    "print(\"날짜 : \" + s[:12])\n",
    "print(\"날씨 : \" + s[-6:-4])"
   ]
  },
  {
   "cell_type": "code",
   "execution_count": 11,
   "id": "46f5acc9",
   "metadata": {},
   "outputs": [
    {
     "data": {
      "text/plain": [
       "'오늘은 1월 4일입니다.'"
      ]
     },
     "execution_count": 11,
     "metadata": {},
     "output_type": "execute_result"
    }
   ],
   "source": [
    "# 문자열 포매팅 실습\n",
    "# 문자열 포매팅 : 문자 내부의 특정한 값을 바꿔야 할 경우 사용\n",
    "# 1. %d 포매팅\n",
    "day = 4\n",
    "s = '오늘은 1월 %d일입니다.'%day\n",
    "s"
   ]
  },
  {
   "cell_type": "code",
   "execution_count": 68,
   "id": "f7d82659",
   "metadata": {},
   "outputs": [
    {
     "data": {
      "text/plain": [
       "'오늘은 11월 4일입니다.'"
      ]
     },
     "execution_count": 68,
     "metadata": {},
     "output_type": "execute_result"
    }
   ],
   "source": [
    "month = 11\n",
    "day = 4\n",
    "s = '오늘은 %d월 %d일입니다.'%(month,day)\n",
    "s"
   ]
  },
  {
   "cell_type": "code",
   "execution_count": 70,
   "id": "ae42ea1a",
   "metadata": {
    "scrolled": false
   },
   "outputs": [
    {
     "data": {
      "text/plain": [
       "'오늘은 3월 4일입니다.'"
      ]
     },
     "execution_count": 70,
     "metadata": {},
     "output_type": "execute_result"
    }
   ],
   "source": [
    "# 2. format함수를 이용한 포매팅\n",
    "month = 3\n",
    "day = 4\n",
    "s = '오늘은 {}월 {}일입니다.'.format(month, day)\n",
    "s"
   ]
  },
  {
   "cell_type": "code",
   "execution_count": 72,
   "id": "5068f96f",
   "metadata": {},
   "outputs": [
    {
     "data": {
      "text/plain": [
       "'오늘은 3월 4일입니다.'"
      ]
     },
     "execution_count": 72,
     "metadata": {},
     "output_type": "execute_result"
    }
   ],
   "source": [
    "# 3. f포매팅\n",
    "month = 3\n",
    "day = 4\n",
    "s = f'오늘은 {month}월 {day}일입니다.'\n",
    "s"
   ]
  },
  {
   "cell_type": "code",
   "execution_count": 74,
   "id": "8b9a7dcb",
   "metadata": {},
   "outputs": [
    {
     "name": "stdout",
     "output_type": "stream",
     "text": [
      "150와 200의 합은 350입니다.\n"
     ]
    }
   ],
   "source": [
    "x = 150\n",
    "y = 200\n",
    "sum2 = x + y\n",
    "print(f'{x}와 {y}의 합은 {sum2}입니다.')"
   ]
  },
  {
   "cell_type": "code",
   "execution_count": 78,
   "id": "535d0057",
   "metadata": {},
   "outputs": [
    {
     "data": {
      "text/plain": [
       "'안녕 하세요'"
      ]
     },
     "execution_count": 78,
     "metadata": {},
     "output_type": "execute_result"
    }
   ],
   "source": [
    "# strip() : 문자의 양쪽 공백을 없애주는 함수\n",
    "s = \"                안녕 하세요             \"\n",
    "s\n",
    "s.strip()"
   ]
  },
  {
   "cell_type": "code",
   "execution_count": 79,
   "id": "35be0ded",
   "metadata": {},
   "outputs": [
    {
     "data": {
      "text/plain": [
       "'안녕하세요'"
      ]
     },
     "execution_count": 79,
     "metadata": {},
     "output_type": "execute_result"
    }
   ],
   "source": [
    "# replace(기존의 문자, 바꿀 문자)\n",
    "s = '안녕 하세요'\n",
    "s.replace(\" \",\"\")"
   ]
  },
  {
   "cell_type": "code",
   "execution_count": 82,
   "id": "23cb502b",
   "metadata": {},
   "outputs": [
    {
     "data": {
      "text/plain": [
       "'안녕하세요. 연재씨, 연재씨는 오늘 잘 보내고 있나요?'"
      ]
     },
     "execution_count": 82,
     "metadata": {},
     "output_type": "execute_result"
    }
   ],
   "source": [
    "s = '안녕하세요. 상원씨, 상원씨는 오늘 잘 보내고 있나요?'\n",
    "s.replace(\"상원\",'연재')"
   ]
  },
  {
   "cell_type": "code",
   "execution_count": 6,
   "id": "db3d3ddd",
   "metadata": {},
   "outputs": [
    {
     "data": {
      "text/plain": [
       "['우석', ' 우건', ' 준범', ' 동완']"
      ]
     },
     "execution_count": 6,
     "metadata": {},
     "output_type": "execute_result"
    }
   ],
   "source": [
    "# split()\n",
    "s = \"우석, 우건, 준범, 동완\"\n",
    "s.split(\",\")"
   ]
  },
  {
   "cell_type": "code",
   "execution_count": 85,
   "id": "04c9f812",
   "metadata": {},
   "outputs": [
    {
     "data": {
      "text/plain": [
       "' 준범'"
      ]
     },
     "execution_count": 85,
     "metadata": {},
     "output_type": "execute_result"
    }
   ],
   "source": [
    "s = \"우석, 우건, 준범, 동완\"\n",
    "s.split(\",\")[2]"
   ]
  },
  {
   "cell_type": "code",
   "execution_count": 86,
   "id": "395ffcc6",
   "metadata": {},
   "outputs": [
    {
     "data": {
      "text/plain": [
       "['', '석, ', '건, 준범, 동완']"
      ]
     },
     "execution_count": 86,
     "metadata": {},
     "output_type": "execute_result"
    }
   ],
   "source": [
    "# split()\n",
    "s = \"우석, 우건, 준범, 동완\"\n",
    "s.split(\"우\")"
   ]
  },
  {
   "cell_type": "code",
   "execution_count": 87,
   "id": "52180ead",
   "metadata": {},
   "outputs": [
    {
     "data": {
      "text/plain": [
       "['우석, 우건, ', ', 동완']"
      ]
     },
     "execution_count": 87,
     "metadata": {},
     "output_type": "execute_result"
    }
   ],
   "source": [
    "# split()\n",
    "s = \"우석, 우건, 준범, 동완\"\n",
    "s.split(\"준범\")"
   ]
  },
  {
   "cell_type": "code",
   "execution_count": null,
   "id": "618ed5da",
   "metadata": {},
   "outputs": [],
   "source": []
  }
 ],
 "metadata": {
  "kernelspec": {
   "display_name": "Python 3 (ipykernel)",
   "language": "python",
   "name": "python3"
  },
  "language_info": {
   "codemirror_mode": {
    "name": "ipython",
    "version": 3
   },
   "file_extension": ".py",
   "mimetype": "text/x-python",
   "name": "python",
   "nbconvert_exporter": "python",
   "pygments_lexer": "ipython3",
   "version": "3.11.5"
  }
 },
 "nbformat": 4,
 "nbformat_minor": 5
}
