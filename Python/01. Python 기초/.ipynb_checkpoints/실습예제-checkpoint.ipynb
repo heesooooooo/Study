{
 "cells": [
  {
   "cell_type": "code",
   "execution_count": 4,
   "id": "6dbf51f1",
   "metadata": {},
   "outputs": [
    {
     "name": "stdout",
     "output_type": "stream",
     "text": [
      "*\n",
      "**\n",
      "***\n",
      "****\n",
      "*****\n",
      "******\n"
     ]
    }
   ],
   "source": [
    "# 1\n",
    "for i in range(1,7) :\n",
    "    print('*'*i)"
   ]
  },
  {
   "cell_type": "code",
   "execution_count": 5,
   "id": "a843b93e",
   "metadata": {},
   "outputs": [
    {
     "name": "stdout",
     "output_type": "stream",
     "text": [
      "줄 수 입력 >> 3\n",
      "*\n",
      "**\n",
      "***\n"
     ]
    }
   ],
   "source": [
    "# 2\n",
    "num = int(input('줄 수 입력 >> '))\n",
    "for i in range(1,num+1) :\n",
    "    print('*'*i)"
   ]
  },
  {
   "cell_type": "code",
   "execution_count": 6,
   "id": "4e54b96b",
   "metadata": {},
   "outputs": [
    {
     "name": "stdout",
     "output_type": "stream",
     "text": [
      "*\n",
      "**\n",
      "***\n",
      "****\n",
      "*****\n",
      "******\n",
      "*****\n",
      "****\n",
      "***\n",
      "**\n",
      "*\n"
     ]
    }
   ],
   "source": [
    "# 3\n",
    "for i in range(1,7) :\n",
    "    print('*'*i)\n",
    "for i in range(5,0,-1) :\n",
    "    print('*'*i)"
   ]
  },
  {
   "cell_type": "code",
   "execution_count": 1,
   "id": "9eddcbe4",
   "metadata": {},
   "outputs": [
    {
     "name": "stdout",
     "output_type": "stream",
     "text": [
      "첫 번째 정수 입력 >> 10\n",
      "두 번째 정수 입력 >> 30\n",
      "10 11 12 13 14 15 16 17 18 19 20 21 22 23 24 25 26 27 28 29 30 "
     ]
    }
   ],
   "source": [
    "# 4\n",
    "start = int(input('첫 번째 정수 입력 >> '))\n",
    "end = int(input('두 번째 정수 입력 >> '))\n",
    "for i in range(start, end+1):\n",
    "    print(i, end=' ')"
   ]
  },
  {
   "cell_type": "code",
   "execution_count": 4,
   "id": "b5e774ed",
   "metadata": {},
   "outputs": [
    {
     "name": "stdout",
     "output_type": "stream",
     "text": [
      "첫 번째 정수 입력 >> 10\n",
      "두 번째 정수 입력 >> 20\n",
      "배수 입력 >> 2\n",
      "2의 배수의 합 : 90\n"
     ]
    }
   ],
   "source": [
    "# 5\n",
    "num1 = int(input('첫 번째 정수 입력 >> '))\n",
    "num2 = int(input('두 번째 정수 입력 >> '))\n",
    "n = int(input('배수 입력 >> '))\n",
    "\n",
    "sum1 = 0\n",
    "for i in range(0,num2+1,n) :\n",
    "    if i>=num1 :\n",
    "        sum1 += i\n",
    "\n",
    "print(f'{n}의 배수의 합 : {sum1}')\n"
   ]
  },
  {
   "cell_type": "code",
   "execution_count": 20,
   "id": "c4b2460e",
   "metadata": {},
   "outputs": [
    {
     "name": "stdout",
     "output_type": "stream",
     "text": [
      "Life is too short, You need python."
     ]
    }
   ],
   "source": [
    "# 6 \n",
    "s = '.nohtyp deen uoY ,trohs oot si efiL'\n",
    "for i in range(len(s)-1,-1,-1) :   #len은 35인데 인덱스 0부터니까 -1\n",
    "    print(s[i], end = \"\")"
   ]
  },
  {
   "cell_type": "code",
   "execution_count": 45,
   "id": "f5739a1b",
   "metadata": {},
   "outputs": [
    {
     "name": "stdout",
     "output_type": "stream",
     "text": [
      "2*1=2\t2*2=4\t2*3=6\t2*4=8\t2*5=10\t2*6=12\t2*7=14\t2*8=16\t2*9=18\t\n",
      "3*1=3\t3*2=6\t3*3=9\t3*4=12\t3*5=15\t3*6=18\t3*7=21\t3*8=24\t3*9=27\t\n",
      "4*1=4\t4*2=8\t4*3=12\t4*4=16\t4*5=20\t4*6=24\t4*7=28\t4*8=32\t4*9=36\t\n",
      "5*1=5\t5*2=10\t5*3=15\t5*4=20\t5*5=25\t5*6=30\t5*7=35\t5*8=40\t5*9=45\t\n",
      "6*1=6\t6*2=12\t6*3=18\t6*4=24\t6*5=30\t6*6=36\t6*7=42\t6*8=48\t6*9=54\t\n",
      "7*1=7\t7*2=14\t7*3=21\t7*4=28\t7*5=35\t7*6=42\t7*7=49\t7*8=56\t7*9=63\t\n",
      "8*1=8\t8*2=16\t8*3=24\t8*4=32\t8*5=40\t8*6=48\t8*7=56\t8*8=64\t8*9=72\t\n",
      "9*1=9\t9*2=18\t9*3=27\t9*4=36\t9*5=45\t9*6=54\t9*7=63\t9*8=72\t9*9=81\t\n"
     ]
    }
   ],
   "source": [
    "# 7 \n",
    "for j in range(2,10):\n",
    "    for i in range(1,10) :\n",
    "        print(f'{j}*{i}={j*i}', end='\\t')\n",
    "    print(\"\")"
   ]
  },
  {
   "cell_type": "code",
   "execution_count": 44,
   "id": "ac79090f",
   "metadata": {},
   "outputs": [
    {
     "name": "stdout",
     "output_type": "stream",
     "text": [
      "2*1=2\t3*1=3\t4*1=4\t5*1=5\t6*1=6\t7*1=7\t8*1=8\t9*1=9\t\n",
      "2*2=4\t3*2=6\t4*2=8\t5*2=10\t6*2=12\t7*2=14\t8*2=16\t9*2=18\t\n",
      "2*3=6\t3*3=9\t4*3=12\t5*3=15\t6*3=18\t7*3=21\t8*3=24\t9*3=27\t\n",
      "2*4=8\t3*4=12\t4*4=16\t5*4=20\t6*4=24\t7*4=28\t8*4=32\t9*4=36\t\n",
      "2*5=10\t3*5=15\t4*5=20\t5*5=25\t6*5=30\t7*5=35\t8*5=40\t9*5=45\t\n",
      "2*6=12\t3*6=18\t4*6=24\t5*6=30\t6*6=36\t7*6=42\t8*6=48\t9*6=54\t\n",
      "2*7=14\t3*7=21\t4*7=28\t5*7=35\t6*7=42\t7*7=49\t8*7=56\t9*7=63\t\n",
      "2*8=16\t3*8=24\t4*8=32\t5*8=40\t6*8=48\t7*8=56\t8*8=64\t9*8=72\t\n",
      "2*9=18\t3*9=27\t4*9=36\t5*9=45\t6*9=54\t7*9=63\t8*9=72\t9*9=81\t\n"
     ]
    }
   ],
   "source": [
    "# 8 \n",
    "for i in range(1,10) :\n",
    "    for j in range(2,10):\n",
    "        print(f'{j}*{i}={j*i}', end='\\t')\n",
    "    print('')"
   ]
  },
  {
   "cell_type": "code",
   "execution_count": 43,
   "id": "032e5b0a",
   "metadata": {},
   "outputs": [
    {
     "name": "stdout",
     "output_type": "stream",
     "text": [
      "짝수 3, 홀수 8개\n"
     ]
    }
   ],
   "source": [
    "# 9 \n",
    "list1 = [1,30,7,9,17,3,5,23,44,32,35]\n",
    "odd = 0\n",
    "even = 0\n",
    "for i in list1 :\n",
    "    if i%2==0 :\n",
    "        even +=1\n",
    "    else :\n",
    "        odd +=1\n",
    "print(f'짝수 {even}, 홀수 {odd}개')\n"
   ]
  },
  {
   "cell_type": "code",
   "execution_count": 3,
   "id": "6a186c88",
   "metadata": {},
   "outputs": [
    {
     "name": "stdout",
     "output_type": "stream",
     "text": [
      "============================================\n",
      "이름\tPython\tJava\t DB\t평균\t학점\n",
      "============================================\n",
      "박매일 \t 89 \t 78 \t 99 \t 88 \t B\n",
      "김미희 \t 67 \t 88 \t 77 \t 77 \t C\n",
      "강예진 \t 100 \t 55 \t 96 \t 83 \t B\n",
      "최성우 \t 99 \t 99 \t 99 \t 99 \t A\n",
      "============================================\n",
      "평균\t 88 \t 80 \t 92 \t "
     ]
    }
   ],
   "source": [
    "# 10\n",
    "score_list = [['박매일',89,78,99],\n",
    "              ['김미희',67,88,77],\n",
    "              ['강예진',100,55,96],\n",
    "              ['최성우',99,99,99]\n",
    "              ]\n",
    "\n",
    "print('============================================')\n",
    "print('이름\\tPython\\tJava\\t DB\\t평균\\t학점')\n",
    "print('============================================')\n",
    "for i in score_list :   # 이렇게 하면 score_list[i][0] 말고 i[0] 가능\n",
    "    avg=(i[1]+i[2]+i[3])//3  # //\n",
    "    if avg>=90 :\n",
    "        grade = 'A'\n",
    "    elif avg>=80 :\n",
    "        grade = 'B'\n",
    "    elif avg>=70 :\n",
    "        grade = 'C'\n",
    "    elif avg>=60 :\n",
    "        grade = 'D'\n",
    "    else :\n",
    "        grade = 'F'\n",
    "    print(i[0],'\\t',i[1],'\\t',i[2],'\\t',i[3],\n",
    "          '\\t',avg,'\\t',grade)\n",
    "print('============================================')\n",
    "print('평균\\t ',end='')\n",
    "\n",
    "for i in range(1,4) :    # 범위...? [1]파이썬/[2]자바/[3]디비\n",
    "    sum1=0      # 다음 과목 넘어갈 때 sum1 초기화\n",
    "    for j in range(0,len(score_list)) :\n",
    "        sum1 += score_list[j][i] \n",
    "    print(sum1//len(score_list),'\\t',end=' ')\n",
    "   "
   ]
  },
  {
   "cell_type": "code",
   "execution_count": null,
   "id": "40a1c6a4",
   "metadata": {},
   "outputs": [],
   "source": []
  }
 ],
 "metadata": {
  "kernelspec": {
   "display_name": "Python 3 (ipykernel)",
   "language": "python",
   "name": "python3"
  },
  "language_info": {
   "codemirror_mode": {
    "name": "ipython",
    "version": 3
   },
   "file_extension": ".py",
   "mimetype": "text/x-python",
   "name": "python",
   "nbconvert_exporter": "python",
   "pygments_lexer": "ipython3",
   "version": "3.11.5"
  }
 },
 "nbformat": 4,
 "nbformat_minor": 5
}
