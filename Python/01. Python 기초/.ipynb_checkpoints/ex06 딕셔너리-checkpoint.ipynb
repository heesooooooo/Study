{
 "cells": [
  {
   "cell_type": "code",
   "execution_count": 1,
   "id": "b8c1687c",
   "metadata": {},
   "outputs": [
    {
     "data": {
      "text/plain": [
       "{}"
      ]
     },
     "execution_count": 1,
     "metadata": {},
     "output_type": "execute_result"
    }
   ],
   "source": [
    "# 값이 비어있는 빈 딕셔너리 만들기\n",
    "a = {}\n",
    "a"
   ]
  },
  {
   "cell_type": "code",
   "execution_count": 2,
   "id": "b91dd666",
   "metadata": {},
   "outputs": [
    {
     "data": {
      "text/plain": [
       "{'name': 'HS'}"
      ]
     },
     "execution_count": 2,
     "metadata": {},
     "output_type": "execute_result"
    }
   ],
   "source": [
    "b = {'name' : 'HS'}\n",
    "b"
   ]
  },
  {
   "cell_type": "code",
   "execution_count": 3,
   "id": "77e58328",
   "metadata": {},
   "outputs": [
    {
     "data": {
      "text/plain": [
       "{1: 5, 2: 3}"
      ]
     },
     "execution_count": 3,
     "metadata": {},
     "output_type": "execute_result"
    }
   ],
   "source": [
    "c = {1:5, 2:3}\n",
    "c"
   ]
  },
  {
   "cell_type": "code",
   "execution_count": 18,
   "id": "fb948563",
   "metadata": {},
   "outputs": [
    {
     "data": {
      "text/plain": [
       "{'name': 'HS', 'age': 28, 'phone': '010-3840-9566'}"
      ]
     },
     "execution_count": 18,
     "metadata": {},
     "output_type": "execute_result"
    }
   ],
   "source": [
    "dic1 = {'name':'HS', 'age':28, 'phone':'010-3840-9566'}\n",
    "dic1"
   ]
  },
  {
   "cell_type": "code",
   "execution_count": 19,
   "id": "b519ef69",
   "metadata": {},
   "outputs": [
    {
     "data": {
      "text/plain": [
       "{'name': 'HS', 'age': 28, 'phone': '010-3840-9566', 'gender': '12/11'}"
      ]
     },
     "execution_count": 19,
     "metadata": {},
     "output_type": "execute_result"
    }
   ],
   "source": [
    "# 딕셔너리 값 추가하기\n",
    "# 기존 딕셔너리에 없는 key값을 설정해서 value값을 추가하면\n",
    "# 딕셔너리에 값이 추가가 된다\n",
    "dic1['gender'] = '12/11'\n",
    "dic1"
   ]
  },
  {
   "cell_type": "code",
   "execution_count": 12,
   "id": "195ca707",
   "metadata": {},
   "outputs": [
    {
     "name": "stdout",
     "output_type": "stream",
     "text": [
      "데이터 추가 전 : {'노래제목': '라일락'}\n",
      "데이터 추가 후 : {'노래제목': '라일락', '가수': '아이유', '날짜': '2021.03.26'}\n"
     ]
    }
   ],
   "source": [
    "# 딕셔너리 값 추가 실습\n",
    "dic_test = {'노래제목':'라일락'}\n",
    "print('데이터 추가 전 :', dic_test)\n",
    "dic_test['가수'] = '아이유'\n",
    "dic_test['날짜'] = '2021.03.26'\n",
    "print('데이터 추가 후 :', dic_test)"
   ]
  },
  {
   "cell_type": "code",
   "execution_count": 20,
   "id": "e03f29a4",
   "metadata": {},
   "outputs": [
    {
     "name": "stdout",
     "output_type": "stream",
     "text": [
      "딕셔너리 수정 전 : {'name': 'HS', 'age': 28, 'phone': '010-3840-9566', 'gender': '12/11'}\n",
      "딕셔너리 수정 후 : {'name': 'HS', 'age': 28, 'phone': '010-3840-9566', 'gender': 'female'}\n"
     ]
    }
   ],
   "source": [
    "# 딕셔너리 수정\n",
    "print('딕셔너리 수정 전 :', dic1)\n",
    "# 수정해야하는 value의 key를 가져오자\n",
    "dic1['gender'] = 'female' \n",
    "print('딕셔너리 수정 후 :', dic1)"
   ]
  },
  {
   "cell_type": "markdown",
   "id": "ffbbf04d",
   "metadata": {},
   "source": [
    "- dic1['gender'] = '남자'\n",
    "    - 기존에 key값이 없었을 경우->값이 추가된다\n",
    "    - 기존에 key값이 있었던 경우->값이 수정된다"
   ]
  },
  {
   "cell_type": "code",
   "execution_count": 24,
   "id": "c4915992",
   "metadata": {},
   "outputs": [],
   "source": [
    " # 딕셔너리 값 삭제\n",
    "del dic1['age']"
   ]
  },
  {
   "cell_type": "code",
   "execution_count": 25,
   "id": "aeed75bd",
   "metadata": {},
   "outputs": [
    {
     "data": {
      "text/plain": [
       "{'name': 'HS', 'phone': '010-3840-9566', 'gender': 'female'}"
      ]
     },
     "execution_count": 25,
     "metadata": {},
     "output_type": "execute_result"
    }
   ],
   "source": [
    "dic1"
   ]
  },
  {
   "cell_type": "code",
   "execution_count": 27,
   "id": "79f9da0b",
   "metadata": {},
   "outputs": [
    {
     "data": {
      "text/plain": [
       "'HS'"
      ]
     },
     "execution_count": 27,
     "metadata": {},
     "output_type": "execute_result"
    }
   ],
   "source": [
    "# 딕셔너리는 순서가 없는 집합 -> 인덱스 번호가 부여 x\n",
    "# 데이터를 가져오기 위해서 기준이 필요하다!\n",
    "# 기준은 변하면 안되기에 불변의 값 Key를 사용한다.\n",
    "\n",
    "# 이름을 가져와보자\n",
    "dic1['name']"
   ]
  },
  {
   "cell_type": "code",
   "execution_count": 28,
   "id": "b7ef933e",
   "metadata": {},
   "outputs": [
    {
     "data": {
      "text/plain": [
       "'female'"
      ]
     },
     "execution_count": 28,
     "metadata": {},
     "output_type": "execute_result"
    }
   ],
   "source": [
    "# 성별을 가져와보자\n",
    "dic1['gender']"
   ]
  },
  {
   "cell_type": "code",
   "execution_count": 29,
   "id": "ad186246",
   "metadata": {},
   "outputs": [
    {
     "data": {
      "text/plain": [
       "'female'"
      ]
     },
     "execution_count": 29,
     "metadata": {},
     "output_type": "execute_result"
    }
   ],
   "source": [
    "# get 함수 이용\n",
    "dic1.get('gender')"
   ]
  },
  {
   "cell_type": "code",
   "execution_count": 30,
   "id": "f1c4444e",
   "metadata": {},
   "outputs": [
    {
     "ename": "KeyError",
     "evalue": "'age'",
     "output_type": "error",
     "traceback": [
      "\u001b[1;31m---------------------------------------------------------------------------\u001b[0m",
      "\u001b[1;31mKeyError\u001b[0m                                  Traceback (most recent call last)",
      "Cell \u001b[1;32mIn[30], line 3\u001b[0m\n\u001b[0;32m      1\u001b[0m \u001b[38;5;66;03m# 딕셔너리명[key] vs 딕셔너리명.get(key)\u001b[39;00m\n\u001b[0;32m      2\u001b[0m \u001b[38;5;66;03m# 방금 전 삭제한 age를 key값으로 가져오자\u001b[39;00m\n\u001b[1;32m----> 3\u001b[0m \u001b[38;5;28mprint\u001b[39m(dic1[\u001b[38;5;124m'\u001b[39m\u001b[38;5;124mage\u001b[39m\u001b[38;5;124m'\u001b[39m])\n",
      "\u001b[1;31mKeyError\u001b[0m: 'age'"
     ]
    }
   ],
   "source": [
    "# 딕셔너리명[key] vs 딕셔너리명.get(key)\n",
    "# 방금 전 삭제한 age를 key값으로 가져오자\n",
    "print(dic1['age'])"
   ]
  },
  {
   "cell_type": "code",
   "execution_count": 31,
   "id": "48e43f04",
   "metadata": {},
   "outputs": [
    {
     "name": "stdout",
     "output_type": "stream",
     "text": [
      "None\n"
     ]
    }
   ],
   "source": [
    "# 방금 전 삭제한 age를 .get(key)값으로 가져오자\n",
    "print(dic1.get('age'))"
   ]
  },
  {
   "cell_type": "code",
   "execution_count": 32,
   "id": "a7061037",
   "metadata": {},
   "outputs": [
    {
     "data": {
      "text/plain": [
       "{'name': 'HS', 'age': 28, 'phone': '010-3840-9566'}"
      ]
     },
     "execution_count": 32,
     "metadata": {},
     "output_type": "execute_result"
    }
   ],
   "source": [
    "dic1 = {'name':'HS', 'age':28, 'phone':'010-3840-9566'}\n",
    "dic1"
   ]
  },
  {
   "cell_type": "code",
   "execution_count": 34,
   "id": "66f9d133",
   "metadata": {},
   "outputs": [
    {
     "data": {
      "text/plain": [
       "dict_keys(['name', 'age', 'phone'])"
      ]
     },
     "execution_count": 34,
     "metadata": {},
     "output_type": "execute_result"
    }
   ],
   "source": [
    "# 딕셔너리의 구조 상 전체 key값만 필요할 때\n",
    "dic1.keys()"
   ]
  },
  {
   "cell_type": "code",
   "execution_count": 35,
   "id": "20dac4ba",
   "metadata": {},
   "outputs": [
    {
     "data": {
      "text/plain": [
       "dict_values(['HS', 28, '010-3840-9566'])"
      ]
     },
     "execution_count": 35,
     "metadata": {},
     "output_type": "execute_result"
    }
   ],
   "source": [
    "# 딕셔너리의 구조 상 전체 value값만 필요할 때\n",
    "dic1.values()"
   ]
  },
  {
   "cell_type": "code",
   "execution_count": 36,
   "id": "8e73bfd0",
   "metadata": {},
   "outputs": [
    {
     "data": {
      "text/plain": [
       "{'규남': [30, '010-2841,8972', '남자', 178, 78],\n",
       " '상원': [25, '010-0000-0000', '남자', 174, 60]}"
      ]
     },
     "execution_count": 36,
     "metadata": {},
     "output_type": "execute_result"
    }
   ],
   "source": [
    "# 딕셔너리 value값에는 리스트 또는 튜플도 들어간다\n",
    "dic2 = {'규남' : [30, '010-2841,8972', '남자', 178, 78],\n",
    "       '상원' : [25, '010-0000-0000', '남자', 174, 60]\n",
    "       }\n",
    "dic2"
   ]
  },
  {
   "cell_type": "code",
   "execution_count": 41,
   "id": "317a9b82",
   "metadata": {},
   "outputs": [
    {
     "data": {
      "text/plain": [
       "[30, '010-2841,8972', '남자', 178, 78]"
      ]
     },
     "execution_count": 41,
     "metadata": {},
     "output_type": "execute_result"
    }
   ],
   "source": [
    "# value값에 리스트 또는 튜플이 있다면 리스트 / 튜플 전체 가져온다\n",
    "dic2['규남']"
   ]
  },
  {
   "cell_type": "code",
   "execution_count": 42,
   "id": "c493645c",
   "metadata": {},
   "outputs": [
    {
     "data": {
      "text/plain": [
       "30"
      ]
     },
     "execution_count": 42,
     "metadata": {},
     "output_type": "execute_result"
    }
   ],
   "source": [
    "# 가져온 리스트에서 원하는 정보를 인덱스 번호로 가져올 수 있다\n",
    "dic2['규남'][0]"
   ]
  },
  {
   "cell_type": "code",
   "execution_count": 43,
   "id": "835252b0",
   "metadata": {},
   "outputs": [
    {
     "name": "stdout",
     "output_type": "stream",
     "text": [
      "name\n",
      "age\n",
      "phone\n"
     ]
    }
   ],
   "source": [
    "# 반복문을 활용해서 딕셔너리 사용해보기\n",
    "# key값을 이용해서 for문 써보기\n",
    "for key in dic1.keys() : \n",
    "    print(key)"
   ]
  },
  {
   "cell_type": "code",
   "execution_count": 44,
   "id": "fc6575d9",
   "metadata": {},
   "outputs": [
    {
     "name": "stdout",
     "output_type": "stream",
     "text": [
      "HS\n",
      "28\n",
      "010-3840-9566\n"
     ]
    }
   ],
   "source": [
    "# value값을 이용해서 for문 써보기\n",
    "# esc 누르고 f : 글자 찾아서 바꾸기 \n",
    "for value in dic1.values() : \n",
    "    print(value)"
   ]
  },
  {
   "cell_type": "code",
   "execution_count": 46,
   "id": "6cdab057",
   "metadata": {},
   "outputs": [
    {
     "data": {
      "text/plain": [
       "dict_items([('name', 'HS'), ('age', 28), ('phone', '010-3840-9566')])"
      ]
     },
     "execution_count": 46,
     "metadata": {},
     "output_type": "execute_result"
    }
   ],
   "source": [
    "# items : 딕셔너리의 key와 value 모두 가져오는 함수\n",
    "dic1.items()"
   ]
  },
  {
   "cell_type": "code",
   "execution_count": 47,
   "id": "f4e0f0e7",
   "metadata": {},
   "outputs": [
    {
     "name": "stdout",
     "output_type": "stream",
     "text": [
      "name \t HS\n",
      "age \t 28\n",
      "phone \t 010-3840-9566\n"
     ]
    }
   ],
   "source": [
    "for key, value in dic1.items() :\n",
    "    print(key, '\\t', value)"
   ]
  },
  {
   "cell_type": "code",
   "execution_count": 48,
   "id": "cb720c09",
   "metadata": {},
   "outputs": [
    {
     "data": {
      "text/plain": [
       "{'규남': [30, '010-2841,8972', '남자', 178, 78],\n",
       " '상원': [25, '010-0000-0000', '남자', 174, 60],\n",
       " '동희': [26, '010-1111-1111', '남자', 180, 68],\n",
       " '은해': [23, '010-2222-2222', '여자', 168, 55]}"
      ]
     },
     "execution_count": 48,
     "metadata": {},
     "output_type": "execute_result"
    }
   ],
   "source": [
    "dic2 = {'규남' : [30, '010-2841,8972', '남자', 178, 78],\n",
    "       '상원' : [25, '010-0000-0000', '남자', 174, 60],\n",
    "       '동희' : [26, '010-1111-1111', '남자', 180, 68],\n",
    "       '은해' : [23,'010-2222-2222', '여자', 168, 55]}\n",
    "dic2"
   ]
  },
  {
   "cell_type": "code",
   "execution_count": 50,
   "id": "ce6bf130",
   "metadata": {},
   "outputs": [
    {
     "name": "stdout",
     "output_type": "stream",
     "text": [
      "010-2841,8972\n",
      "010-0000-0000\n",
      "010-1111-1111\n",
      "010-2222-2222\n"
     ]
    }
   ],
   "source": [
    "# 규남쌤이 딕셔너리에서 반복문 자주 쓸 때\n",
    "for key in dic2.keys() :\n",
    "    print(dic2[key][1])    # 그냥 [key]"
   ]
  },
  {
   "cell_type": "code",
   "execution_count": 55,
   "id": "4489c44c",
   "metadata": {},
   "outputs": [
    {
     "data": {
      "text/plain": [
       "False"
      ]
     },
     "execution_count": 55,
     "metadata": {},
     "output_type": "execute_result"
    }
   ],
   "source": [
    "# 딕셔너리에서 in 함수 사용하는 법\n",
    "# 딕셔너리에서 in 함수는 key에 한해서 동작한다\n",
    "'HS' in dic1"
   ]
  },
  {
   "cell_type": "code",
   "execution_count": 54,
   "id": "2f48a878",
   "metadata": {},
   "outputs": [
    {
     "data": {
      "text/plain": [
       "True"
      ]
     },
     "execution_count": 54,
     "metadata": {},
     "output_type": "execute_result"
    }
   ],
   "source": [
    "'name' in dic1"
   ]
  },
  {
   "cell_type": "code",
   "execution_count": 57,
   "id": "d9d50c9d",
   "metadata": {},
   "outputs": [
    {
     "name": "stdout",
     "output_type": "stream",
     "text": [
      "{}\n"
     ]
    }
   ],
   "source": [
    "# clear() - 딕셔너리 내부값 초기화\n",
    "dic1.clear()\n",
    "print(dic1)"
   ]
  },
  {
   "cell_type": "code",
   "execution_count": null,
   "id": "c6e3316b",
   "metadata": {},
   "outputs": [],
   "source": []
  }
 ],
 "metadata": {
  "kernelspec": {
   "display_name": "Python 3 (ipykernel)",
   "language": "python",
   "name": "python3"
  },
  "language_info": {
   "codemirror_mode": {
    "name": "ipython",
    "version": 3
   },
   "file_extension": ".py",
   "mimetype": "text/x-python",
   "name": "python",
   "nbconvert_exporter": "python",
   "pygments_lexer": "ipython3",
   "version": "3.11.5"
  }
 },
 "nbformat": 4,
 "nbformat_minor": 5
}
