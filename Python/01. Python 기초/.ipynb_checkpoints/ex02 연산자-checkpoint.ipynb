{
 "cells": [
  {
   "cell_type": "code",
   "execution_count": 1,
   "id": "1b7f9de2",
   "metadata": {},
   "outputs": [
    {
     "name": "stdout",
     "output_type": "stream",
     "text": [
      "1.4285714285714286\n",
      "3\n",
      "1\n"
     ]
    }
   ],
   "source": [
    "num1 = 10\n",
    "num2 = 7\n",
    "\n",
    "print(num1/num2)\n",
    "print(num1%num2)\n",
    "print(num1//num2)"
   ]
  },
  {
   "cell_type": "code",
   "execution_count": 2,
   "id": "1a514f99",
   "metadata": {},
   "outputs": [],
   "source": [
    "# 멀티 커서 .. 엔터 치고 ctrl + 클릭클릭클릭"
   ]
  },
  {
   "cell_type": "code",
   "execution_count": 3,
   "id": "234dc64e",
   "metadata": {},
   "outputs": [
    {
     "data": {
      "text/plain": [
       "'안녕하세요'"
      ]
     },
     "execution_count": 3,
     "metadata": {},
     "output_type": "execute_result"
    }
   ],
   "source": [
    "# 문자열을 더할 수 있다!\n",
    "str1 = '안녕'\n",
    "str2 = '하세요'\n",
    "str1 + str2"
   ]
  },
  {
   "cell_type": "code",
   "execution_count": 4,
   "id": "095f3d4d",
   "metadata": {},
   "outputs": [
    {
     "data": {
      "text/plain": [
       "'107'"
      ]
     },
     "execution_count": 4,
     "metadata": {},
     "output_type": "execute_result"
    }
   ],
   "source": [
    "str1 = '10'\n",
    "str2 = '7'\n",
    "str1 + str2"
   ]
  },
  {
   "cell_type": "code",
   "execution_count": 5,
   "id": "bf5847b3",
   "metadata": {},
   "outputs": [
    {
     "ename": "TypeError",
     "evalue": "unsupported operand type(s) for +: 'int' and 'str'",
     "output_type": "error",
     "traceback": [
      "\u001b[1;31m---------------------------------------------------------------------------\u001b[0m",
      "\u001b[1;31mTypeError\u001b[0m                                 Traceback (most recent call last)",
      "Cell \u001b[1;32mIn[5], line 3\u001b[0m\n\u001b[0;32m      1\u001b[0m num1 \u001b[38;5;241m=\u001b[39m \u001b[38;5;241m10\u001b[39m\n\u001b[0;32m      2\u001b[0m str2 \u001b[38;5;241m=\u001b[39m \u001b[38;5;124m'\u001b[39m\u001b[38;5;124m7\u001b[39m\u001b[38;5;124m'\u001b[39m\n\u001b[1;32m----> 3\u001b[0m num1 \u001b[38;5;241m+\u001b[39m str2\n",
      "\u001b[1;31mTypeError\u001b[0m: unsupported operand type(s) for +: 'int' and 'str'"
     ]
    }
   ],
   "source": [
    "num1 = 10\n",
    "str2 = '7'\n",
    "num1 + str2\n",
    "# 타입이 다르기 때문에 연산이 되지 않는다."
   ]
  },
  {
   "cell_type": "code",
   "execution_count": null,
   "id": "e336d549",
   "metadata": {},
   "outputs": [],
   "source": [
    "# 타입이 달라서 연산이 되지 않는 경우 형 변환을 해줘야 한다.\n",
    "# 숫자를 문자로 바꿔주는 방식\n",
    "print(str(num1) + str2) # 문자열 더하기\n",
    "\n",
    "# 문자를 숫자로 바꿔주는 방식\n",
    "print(num1 + int(str2)) # 숫자 연산"
   ]
  },
  {
   "cell_type": "code",
   "execution_count": 3,
   "id": "be6b7c0b",
   "metadata": {},
   "outputs": [
    {
     "name": "stdout",
     "output_type": "stream",
     "text": [
      "더하기 결과 : 29\n",
      "빼기 결과 : 23\n",
      "곱하기 결과 :  78\n",
      "나누기 결과 :  8.666666666666666\n"
     ]
    }
   ],
   "source": [
    "num1 = 26\n",
    "num2 = 3\n",
    "print(f'더하기 결과 : {num1 + num2}' )\n",
    "print('빼기 결과 : ' + str(num1 - num2) ) # 스트링+스트링은 + ㄱㅊ?\n",
    "print('곱하기 결과 : ' , (num1 * num2) )  # + 말고 , 로... 스트링+인트라서?\n",
    "print('나누기 결과 : ' , (num1 / num2) )"
   ]
  },
  {
   "cell_type": "code",
   "execution_count": 4,
   "id": "24ae4e9f",
   "metadata": {},
   "outputs": [
    {
     "name": "stdout",
     "output_type": "stream",
     "text": [
      "정수를 입력해주세요 >>12\n",
      "정수를 입력해주세요 >>3\n",
      "더하기 결과 : 15\n",
      "빼기 결과 : 9\n",
      "곱하기 결과 :  36\n",
      "나누기 결과 :  4.0\n"
     ]
    }
   ],
   "source": [
    "# 입력문을 통해서 num1과 num2를 입력 받고 연산 결과를 살펴 봅시다\n",
    "# input(\"표시할 문장\") -> 입력문은 str형으로 값을 돌려준다\n",
    "# 숫자 연산을 진행하고 싶으면 형 변환이 필요하다.\n",
    "num1 = int(input(\"정수를 입력해주세요 >>\"))\n",
    "num2 = int(input(\"정수를 입력해주세요 >>\"))\n",
    "print(f'더하기 결과 : {num1 + num2}' )\n",
    "print('빼기 결과 : ' + str(num1 - num2) )\n",
    "print('곱하기 결과 : ' , (num1 * num2) )  \n",
    "print('나누기 결과 : ' , (num1 / num2) )"
   ]
  },
  {
   "cell_type": "code",
   "execution_count": 5,
   "id": "2ca14b89",
   "metadata": {
    "scrolled": true
   },
   "outputs": [
    {
     "name": "stdout",
     "output_type": "stream",
     "text": [
      "<class 'int'>\n",
      "<class 'int'>\n"
     ]
    }
   ],
   "source": [
    "print(type(num1))\n",
    "print(type(num2))"
   ]
  },
  {
   "cell_type": "code",
   "execution_count": 7,
   "id": "14783789",
   "metadata": {},
   "outputs": [
    {
     "name": "stdout",
     "output_type": "stream",
     "text": [
      "python 점수 입력 >> 1\n",
      "머신러닝 점수 입력 >> 2\n",
      "딥러닝 점수 입력 >> 3\n",
      "합계 : 6\n",
      "평균 :  2.0\n"
     ]
    }
   ],
   "source": [
    "py = int(input(\"python 점수 입력 >> \"))\n",
    "ml = int(input(\"머신러닝 점수 입력 >> \"))\n",
    "dl = int(input(\"딥러닝 점수 입력 >> \"))\n",
    "print(f'합계 : {py+ml+dl}')\n",
    "print(f'평균 :  {(py+ml+dl)/3}')"
   ]
  },
  {
   "cell_type": "code",
   "execution_count": 8,
   "id": "b5e50454",
   "metadata": {},
   "outputs": [
    {
     "name": "stdout",
     "output_type": "stream",
     "text": [
      "시간 입력(초) >> 36000\n",
      "10시간 0분 0초\n"
     ]
    }
   ],
   "source": [
    "time = int(input(\"시간 입력(초) >> \"))\n",
    "hour = time//3600\n",
    "minute = time%3600//60\n",
    "second = time%60\n",
    "print(f'{hour}시간 {minute}분 {second}초')\n"
   ]
  },
  {
   "cell_type": "code",
   "execution_count": 9,
   "id": "7b538e08",
   "metadata": {},
   "outputs": [
    {
     "name": "stdout",
     "output_type": "stream",
     "text": [
      "**********\n"
     ]
    }
   ],
   "source": [
    "# 문자열 곱하기\n",
    "s = '*'\n",
    "print(s*10)"
   ]
  },
  {
   "cell_type": "code",
   "execution_count": 10,
   "id": "2cf27c6d",
   "metadata": {},
   "outputs": [
    {
     "name": "stdout",
     "output_type": "stream",
     "text": [
      "안녕하세요안녕하세요\n"
     ]
    }
   ],
   "source": [
    "s = '안녕하세요'\n",
    "print(s*2)"
   ]
  },
  {
   "cell_type": "code",
   "execution_count": 11,
   "id": "1f3b55f1",
   "metadata": {},
   "outputs": [
    {
     "name": "stdout",
     "output_type": "stream",
     "text": [
      "정수 입력 >> 2\n",
      "지수 입력 >> 3\n",
      "2의 3승은 8입니다.\n"
     ]
    }
   ],
   "source": [
    "# 지수 연산자 문제\n",
    "num = int(input('정수 입력 >> '))\n",
    "power = int(input('지수 입력 >> '))\n",
    "\n",
    "print(f\"{num}의 {power}승은 {num ** power}입니다.\")"
   ]
  },
  {
   "cell_type": "code",
   "execution_count": 12,
   "id": "b0a909fc",
   "metadata": {},
   "outputs": [
    {
     "name": "stdout",
     "output_type": "stream",
     "text": [
      "********** 연산하기 **********\n",
      "정수입력 >> 10\n",
      "정수입력 >> 2\n",
      "+ 연산자 입력 >> +\n",
      "10 + 2 = 12\n"
     ]
    }
   ],
   "source": [
    "print('*'*10 , \"연산하기\", '*'*10)\n",
    "num1 = int(input(\"정수입력 >> \"))\n",
    "num2 = int(input(\"정수입력 >> \"))\n",
    "cal = input(\"+ 연산자 입력 >> \")\n",
    "print(f'{num1} {cal} {num2} = {num1+num2}')\n"
   ]
  },
  {
   "cell_type": "code",
   "execution_count": 13,
   "id": "e8f91ebc",
   "metadata": {},
   "outputs": [
    {
     "data": {
      "text/plain": [
       "30"
      ]
     },
     "execution_count": 13,
     "metadata": {},
     "output_type": "execute_result"
    }
   ],
   "source": [
    "num = 27\n",
    "num += 3\n",
    "num"
   ]
  },
  {
   "cell_type": "code",
   "execution_count": 14,
   "id": "490f73b4",
   "metadata": {},
   "outputs": [
    {
     "data": {
      "text/plain": [
       "36"
      ]
     },
     "execution_count": 14,
     "metadata": {},
     "output_type": "execute_result"
    }
   ],
   "source": [
    "num = 27\n",
    "num += 3\n",
    "num += 3\n",
    "num += 3\n",
    "num"
   ]
  },
  {
   "cell_type": "code",
   "execution_count": 15,
   "id": "4b709a0f",
   "metadata": {},
   "outputs": [
    {
     "data": {
      "text/plain": [
       "25.0"
      ]
     },
     "execution_count": 15,
     "metadata": {},
     "output_type": "execute_result"
    }
   ],
   "source": [
    "num = 100\n",
    "num /= 2\n",
    "num /= 2\n",
    "num"
   ]
  },
  {
   "cell_type": "code",
   "execution_count": 16,
   "id": "34c73f09",
   "metadata": {},
   "outputs": [
    {
     "name": "stdout",
     "output_type": "stream",
     "text": [
      "a : 3\n",
      "b : 7\n"
     ]
    }
   ],
   "source": [
    "# 변수 치환\n",
    "a = 7\n",
    "b = 3 \n",
    "\n",
    "temp = a # 7\n",
    "a = b  # 7 -> 3\n",
    "b = temp # 3 -> 7\n",
    "print (\"a :\", a)\n",
    "print(\"b :\", b)"
   ]
  },
  {
   "cell_type": "code",
   "execution_count": 17,
   "id": "cd3eeb56",
   "metadata": {},
   "outputs": [
    {
     "name": "stdout",
     "output_type": "stream",
     "text": [
      "a : 3\n",
      "b : 7\n"
     ]
    }
   ],
   "source": [
    "a = 7\n",
    "b = 3\n",
    "\n",
    "a, b = b, a \n",
    "\n",
    "print (\"a :\", a)\n",
    "print(\"b :\", b)"
   ]
  },
  {
   "cell_type": "code",
   "execution_count": 18,
   "id": "464f3629",
   "metadata": {},
   "outputs": [
    {
     "name": "stdout",
     "output_type": "stream",
     "text": [
      "False\n",
      "True\n",
      "False\n",
      "True\n"
     ]
    }
   ],
   "source": [
    "a = 3\n",
    "b = 7\n",
    "\n",
    "print(a > b) #false\n",
    "print(a <= b) #true\n",
    "print(a == b) #false\n",
    "print(a != b) #true"
   ]
  },
  {
   "cell_type": "code",
   "execution_count": 10,
   "id": "753c0822",
   "metadata": {},
   "outputs": [
    {
     "name": "stdout",
     "output_type": "stream",
     "text": [
      "a : 5, b : 8\n",
      "True\n",
      "False\n",
      "False\n",
      "True\n"
     ]
    }
   ],
   "source": [
    "import random\n",
    "# random.randint : 범위내의 값을 랜덤으로 뽑아주는 함수(정수)\n",
    "a = random.randint(1,10) # 1~10\n",
    "b = random.randint(1,10)\n",
    "print(f\"a : {a}, b : {b}\")\n",
    "\n",
    "print(a<b)\n",
    "print(a>b)\n",
    "print(a==b)\n",
    "print(a != b)"
   ]
  },
  {
   "cell_type": "code",
   "execution_count": 23,
   "id": "5f6463e0",
   "metadata": {},
   "outputs": [
    {
     "data": {
      "text/plain": [
       "'합격'"
      ]
     },
     "execution_count": 23,
     "metadata": {},
     "output_type": "execute_result"
    }
   ],
   "source": [
    "score = 80\n",
    "'합격' if score >= 60 else '불합격'"
   ]
  },
  {
   "cell_type": "code",
   "execution_count": 24,
   "id": "d0807fc9",
   "metadata": {},
   "outputs": [
    {
     "data": {
      "text/plain": [
       "'불합격'"
      ]
     },
     "execution_count": 24,
     "metadata": {},
     "output_type": "execute_result"
    }
   ],
   "source": [
    "score = 50\n",
    "'합격' if score >= 60 else '불합격' "
   ]
  },
  {
   "cell_type": "code",
   "execution_count": 25,
   "id": "6887ea69",
   "metadata": {},
   "outputs": [
    {
     "name": "stdout",
     "output_type": "stream",
     "text": [
      "정수입력 >> 1\n",
      "정수입력 >> 2\n",
      "b: 2\n"
     ]
    }
   ],
   "source": [
    "a = int(input(\"정수입력 >> \"))\n",
    "b = int(input(\"정수입력 >> \"))\n",
    "\n",
    "# 삼항연산자를 이용해서 큰 숫자를 골라오자\n",
    "print(f'a: {a}' if a > b else f'b: {b}')"
   ]
  },
  {
   "cell_type": "code",
   "execution_count": 26,
   "id": "ecf8dc57",
   "metadata": {},
   "outputs": [
    {
     "name": "stdout",
     "output_type": "stream",
     "text": [
      "정수입력 >> 2\n",
      "2는(은)  짝수입니다\n"
     ]
    }
   ],
   "source": [
    "num = int(input(\"정수입력 >> \"))\n",
    "print(f\"{num}는(은)  짝수입니다\" if num % 2 == 0 else f\"{num}은 홀수입니다\")"
   ]
  },
  {
   "cell_type": "code",
   "execution_count": 28,
   "id": "b5671387",
   "metadata": {},
   "outputs": [
    {
     "name": "stdout",
     "output_type": "stream",
     "text": [
      "정수 입력 >>1\n",
      "정수 입력 >>2\n",
      "두 수의 차 : 1\n"
     ]
    }
   ],
   "source": [
    "# 두 수를 입력 받아서 큰 수에서 작은 수를 빼주는 결과값을 출력하자\n",
    "num1 = int(input('정수 입력 >>'))\n",
    "num2 = int(input('정수 입력 >>'))\n",
    "\n",
    "print(f\"두 수의 차 : {num1 - num2}\" if num1 > num2 else f\"두 수의 차 : {num2 - num1}\")"
   ]
  }
 ],
 "metadata": {
  "kernelspec": {
   "display_name": "Python 3 (ipykernel)",
   "language": "python",
   "name": "python3"
  },
  "language_info": {
   "codemirror_mode": {
    "name": "ipython",
    "version": 3
   },
   "file_extension": ".py",
   "mimetype": "text/x-python",
   "name": "python",
   "nbconvert_exporter": "python",
   "pygments_lexer": "ipython3",
   "version": "3.11.5"
  }
 },
 "nbformat": 4,
 "nbformat_minor": 5
}
