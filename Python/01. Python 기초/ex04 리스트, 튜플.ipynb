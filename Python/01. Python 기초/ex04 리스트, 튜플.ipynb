{
 "cells": [
  {
   "cell_type": "code",
   "execution_count": 1,
   "id": "f765c56d",
   "metadata": {},
   "outputs": [
    {
     "name": "stdout",
     "output_type": "stream",
     "text": [
      "[]\n",
      "[1, 2, 3]\n",
      "['My', 'name', 'is', 'MH']\n",
      "[1, 2, 'My', 'name']\n",
      "[1, 2, ['My', 'name']]\n"
     ]
    }
   ],
   "source": [
    "a =[]\n",
    "b = [1,2,3]\n",
    "c = ['My', 'name', 'is', 'MH']\n",
    "d = [1,2,'My','name']\n",
    "e = [1,2,['My','name']]\n",
    "print(a)\n",
    "print(b)\n",
    "print(c)\n",
    "print(d)\n",
    "print(e)"
   ]
  },
  {
   "cell_type": "code",
   "execution_count": 2,
   "id": "475ed6c3",
   "metadata": {},
   "outputs": [
    {
     "data": {
      "text/plain": [
       "[0, 1, 2, 3, 4, 5, 6, 7, 8, 9]"
      ]
     },
     "execution_count": 2,
     "metadata": {},
     "output_type": "execute_result"
    }
   ],
   "source": [
    "# 인덱싱 / 슬라이싱 실습\n",
    "# 1. 내부의 값이 0부터 9까지 있는 리스트를 하나 만들어주세요\n",
    "list1 = [0,1,2,3,4,5,6,7,8,9]\n",
    "list1"
   ]
  },
  {
   "cell_type": "code",
   "execution_count": 3,
   "id": "6f906e4c",
   "metadata": {},
   "outputs": [
    {
     "data": {
      "text/plain": [
       "4"
      ]
     },
     "execution_count": 3,
     "metadata": {},
     "output_type": "execute_result"
    }
   ],
   "source": [
    "# 인덱싱 문제\n",
    "# 인덱싱을 하는 방법 : 리스트명 [가져오고 싶은 자료가 있는 인덱스 번호]\n",
    "# 1-1. 숫자 4를 가져와보자.\n",
    "list1[4]"
   ]
  },
  {
   "cell_type": "code",
   "execution_count": 4,
   "id": "5a2db7de",
   "metadata": {},
   "outputs": [
    {
     "name": "stdout",
     "output_type": "stream",
     "text": [
      "4 9 7\n"
     ]
    },
    {
     "data": {
      "text/plain": [
       "(4, 9, 7)"
      ]
     },
     "execution_count": 4,
     "metadata": {},
     "output_type": "execute_result"
    }
   ],
   "source": [
    "# 1-2. 숫자 4, 9, 7를 가져와보자. \n",
    "print(list1[4], list1[-1], list1[7])\n",
    "list1[4], list1[9], list1[7]"
   ]
  },
  {
   "cell_type": "code",
   "execution_count": 5,
   "id": "4b5cf6c7",
   "metadata": {},
   "outputs": [
    {
     "data": {
      "text/plain": [
       "[1, 2, 3, ['a', 'b', 'c']]"
      ]
     },
     "execution_count": 5,
     "metadata": {},
     "output_type": "execute_result"
    }
   ],
   "source": [
    "# 2. 숫자 1,2,3과 ['a','b','c']를 이용해서 2차원 리스트를 만들어보자\n",
    "list2 = [1,2,3,['a','b','c']]\n",
    "list2"
   ]
  },
  {
   "cell_type": "code",
   "execution_count": 6,
   "id": "f6005d47",
   "metadata": {},
   "outputs": [
    {
     "data": {
      "text/plain": [
       "['a', 'b', 'c']"
      ]
     },
     "execution_count": 6,
     "metadata": {},
     "output_type": "execute_result"
    }
   ],
   "source": [
    "# temp라는 변수를 지정해서 ['a','b','c']가 들어있는 리스트를 인덱싱 해보자\n",
    "temp = list2[3]\n",
    "temp"
   ]
  },
  {
   "cell_type": "code",
   "execution_count": 7,
   "id": "d6e23f30",
   "metadata": {},
   "outputs": [
    {
     "data": {
      "text/plain": [
       "'b'"
      ]
     },
     "execution_count": 7,
     "metadata": {},
     "output_type": "execute_result"
    }
   ],
   "source": [
    "# 2-2 temp에 저장된 리스트에서 b라는 문자만 인덱싱 해오자\n",
    "temp[1]"
   ]
  },
  {
   "cell_type": "code",
   "execution_count": 8,
   "id": "1a1a5e06",
   "metadata": {},
   "outputs": [
    {
     "data": {
      "text/plain": [
       "'b'"
      ]
     },
     "execution_count": 8,
     "metadata": {},
     "output_type": "execute_result"
    }
   ],
   "source": [
    "# 2-2 다른 형태로 b를 출력해보자\n",
    "list2[3][1]"
   ]
  },
  {
   "cell_type": "code",
   "execution_count": 9,
   "id": "f22745ec",
   "metadata": {},
   "outputs": [
    {
     "data": {
      "text/plain": [
       "[[0, 1, 2, 3], [4, 5, 6, 7], [8, 9, 10, 11], [12, 13, 14, 15]]"
      ]
     },
     "execution_count": 9,
     "metadata": {},
     "output_type": "execute_result"
    }
   ],
   "source": [
    "list3 = [[0,1,2,3],\n",
    "         [4,5,6,7],\n",
    "         [8,9,10,11],\n",
    "         [12,13,14,15]]\n",
    "list3"
   ]
  },
  {
   "cell_type": "code",
   "execution_count": 10,
   "id": "13beb69c",
   "metadata": {},
   "outputs": [
    {
     "data": {
      "text/plain": [
       "5"
      ]
     },
     "execution_count": 10,
     "metadata": {},
     "output_type": "execute_result"
    }
   ],
   "source": [
    "list3[1][1]"
   ]
  },
  {
   "cell_type": "code",
   "execution_count": 11,
   "id": "e7f563de",
   "metadata": {},
   "outputs": [],
   "source": [
    "# 리스트 슬라이싱\n",
    "# 슬라이싱 규칙\n",
    "# 1. 인덱스에 숫자는 0부터 시작한다.\n",
    "# 2. 슬라이싱 끝 값은 항상 +1을 해준다."
   ]
  },
  {
   "cell_type": "code",
   "execution_count": 12,
   "id": "aa307571",
   "metadata": {},
   "outputs": [
    {
     "data": {
      "text/plain": [
       "[0, 1, 2, 3, 4, 5, 6, 7, 8, 9]"
      ]
     },
     "execution_count": 12,
     "metadata": {},
     "output_type": "execute_result"
    }
   ],
   "source": [
    "list1"
   ]
  },
  {
   "cell_type": "code",
   "execution_count": 13,
   "id": "532b1e25",
   "metadata": {},
   "outputs": [
    {
     "data": {
      "text/plain": [
       "[3, 4, 5, 6, 7]"
      ]
     },
     "execution_count": 13,
     "metadata": {},
     "output_type": "execute_result"
    }
   ],
   "source": [
    "# 3부터 7까지의 숫자를 가져와주세요\n",
    "list1[3:8]"
   ]
  },
  {
   "cell_type": "code",
   "execution_count": 14,
   "id": "ac2e28fb",
   "metadata": {},
   "outputs": [
    {
     "data": {
      "text/plain": [
       "[0, 1, 2, 3, 4]"
      ]
     },
     "execution_count": 14,
     "metadata": {},
     "output_type": "execute_result"
    }
   ],
   "source": [
    "# 0부터 4까지의 숫자를 가져와주세요\n",
    "list1[:5]"
   ]
  },
  {
   "cell_type": "code",
   "execution_count": 15,
   "id": "f8498d70",
   "metadata": {},
   "outputs": [
    {
     "data": {
      "text/plain": [
       "[6, 7, 8, 9]"
      ]
     },
     "execution_count": 15,
     "metadata": {},
     "output_type": "execute_result"
    }
   ],
   "source": [
    "# 6부터 9까지 숫자를 가져와주세요\n",
    "list1[6:]"
   ]
  },
  {
   "cell_type": "code",
   "execution_count": 16,
   "id": "88448537",
   "metadata": {},
   "outputs": [
    {
     "data": {
      "text/plain": [
       "[0, 1, 2, 3, 4, 5, 6, 7, 8, 9]"
      ]
     },
     "execution_count": 16,
     "metadata": {},
     "output_type": "execute_result"
    }
   ],
   "source": [
    "# 전체 숫자를 가져와주세요\n",
    "list1"
   ]
  },
  {
   "cell_type": "code",
   "execution_count": 17,
   "id": "1fe518e6",
   "metadata": {},
   "outputs": [
    {
     "data": {
      "text/plain": [
       "[0, 2, 4, 6, 8]"
      ]
     },
     "execution_count": 17,
     "metadata": {},
     "output_type": "execute_result"
    }
   ],
   "source": [
    "# 짝수번째\n",
    "list1[::2] "
   ]
  },
  {
   "cell_type": "code",
   "execution_count": 18,
   "id": "d503755d",
   "metadata": {},
   "outputs": [
    {
     "data": {
      "text/plain": [
       "[0, 1, 2, 3, 4, 5, 6, 7, 8, 9, 0, 1, 2, 3, 4, 5, 6, 7, 8, 9]"
      ]
     },
     "execution_count": 18,
     "metadata": {},
     "output_type": "execute_result"
    }
   ],
   "source": [
    "list1 + list1"
   ]
  },
  {
   "cell_type": "code",
   "execution_count": 19,
   "id": "7d2922cf",
   "metadata": {},
   "outputs": [
    {
     "data": {
      "text/plain": [
       "[1, 2, 3, 4, 5]"
      ]
     },
     "execution_count": 19,
     "metadata": {},
     "output_type": "execute_result"
    }
   ],
   "source": [
    "# 리스트 맨 뒤에 값을 추가해보자\n",
    "list4 = [1,2,3,4,5]\n",
    "list4"
   ]
  },
  {
   "cell_type": "code",
   "execution_count": 20,
   "id": "ca5e79fd",
   "metadata": {},
   "outputs": [
    {
     "data": {
      "text/plain": [
       "[1, 2, 3, 4, 5, 6]"
      ]
     },
     "execution_count": 20,
     "metadata": {},
     "output_type": "execute_result"
    }
   ],
   "source": [
    "# append(추가해줄 값) : 리스트 맨 뒤에 값을 추가해주는 함수\n",
    "list4.append(6)\n",
    "list4"
   ]
  },
  {
   "cell_type": "code",
   "execution_count": 21,
   "id": "68dcf0f3",
   "metadata": {},
   "outputs": [
    {
     "data": {
      "text/plain": [
       "['사과', '오렌지', '수박']"
      ]
     },
     "execution_count": 21,
     "metadata": {},
     "output_type": "execute_result"
    }
   ],
   "source": [
    "# 인덱싱 + append 실습\n",
    "list_ = ['사과', '포도', ['수박', '멜론'], '복숭아', '딸기', '오렌지']\n",
    "#뽑아온 리스트를 저장할 빈 리스트 선언\n",
    "choice_list = []\n",
    "\n",
    "# choice_list에 담아줄 과일 인덱싱 해오기\n",
    "a = list_[0]\n",
    "w = list_[2][0]\n",
    "o = list_[-1]\n",
    "\n",
    "# choice_list에 쌓아주기\n",
    "choice_list.append(a)\n",
    "choice_list.append(o)\n",
    "choice_list.append(w)\n",
    "# 바로 choice_list.append(list_[0]) 해도 됨\n",
    "\n",
    "choice_list"
   ]
  },
  {
   "cell_type": "code",
   "execution_count": 22,
   "id": "1f015985",
   "metadata": {},
   "outputs": [
    {
     "data": {
      "text/plain": [
       "[0, 1, 2, 3, 4]"
      ]
     },
     "execution_count": 22,
     "metadata": {},
     "output_type": "execute_result"
    }
   ],
   "source": [
    "list5 = [0,1,2,3,4]\n",
    "list5"
   ]
  },
  {
   "cell_type": "code",
   "execution_count": 23,
   "id": "212eae0e",
   "metadata": {},
   "outputs": [
    {
     "data": {
      "text/plain": [
       "[0, 5, 1, 2, 3, 4]"
      ]
     },
     "execution_count": 23,
     "metadata": {},
     "output_type": "execute_result"
    }
   ],
   "source": [
    "# insert(인덱스 번호, 넣어줄 값)\n",
    "# 0,5,1,2,3,4 만들기\n",
    "list5.insert(1, 5)\n",
    "list5"
   ]
  },
  {
   "cell_type": "code",
   "execution_count": 24,
   "id": "3c12ebd8",
   "metadata": {},
   "outputs": [],
   "source": [
    "# insert 실습\n",
    "music_list = [['디셈버', '심'],\n",
    "              ['BMK', '물들어'],\n",
    "              ['SG워너비', '해바라기']]"
   ]
  },
  {
   "cell_type": "code",
   "execution_count": 25,
   "id": "2e653473",
   "metadata": {},
   "outputs": [
    {
     "data": {
      "text/plain": [
       "[['디셈버', '심'], ['창모', '메테오'], ['BMK', '물들어'], ['SG워너비', '해바라기']]"
      ]
     },
     "execution_count": 25,
     "metadata": {},
     "output_type": "execute_result"
    }
   ],
   "source": [
    "# music_list 인덱스가 1인 곳에 ['창모', '메테오'] 추가\n",
    "music_list.insert(1, ['창모', '메테오'])\n",
    "music_list"
   ]
  },
  {
   "cell_type": "code",
   "execution_count": 26,
   "id": "39e4ef19",
   "metadata": {},
   "outputs": [
    {
     "data": {
      "text/plain": [
       "[['디셈버', '심'],\n",
       " ['창모', '메테오'],\n",
       " ['BMK', '물들어'],\n",
       " ['장미여관', '퇴근하겠습니다'],\n",
       " ['SG워너비', '해바라기']]"
      ]
     },
     "execution_count": 26,
     "metadata": {},
     "output_type": "execute_result"
    }
   ],
   "source": [
    "# music_list 인덱스가 3인 곳에 ['장미여관', '퇴근하겠습니다'] 추가\n",
    "music_list.insert(3, ['장미여관', '퇴근하겠습니다'])\n",
    "music_list"
   ]
  },
  {
   "cell_type": "code",
   "execution_count": 27,
   "id": "8cafc6fd",
   "metadata": {},
   "outputs": [
    {
     "data": {
      "text/plain": [
       "[['디셈버', '심'],\n",
       " ['창모', '메테오'],\n",
       " ['BMK', '물들어'],\n",
       " ['장미여관', '퇴근하겠습니다'],\n",
       " ['SG워너비', '해바라기'],\n",
       " ['노라조', '니팔자야']]"
      ]
     },
     "execution_count": 27,
     "metadata": {},
     "output_type": "execute_result"
    }
   ],
   "source": [
    "# music_list 마지막에 ['노라조', '니팔자야']\n",
    "music_list.append(['노라조', '니팔자야'])\n",
    "music_list"
   ]
  },
  {
   "cell_type": "code",
   "execution_count": 28,
   "id": "5f3bed37",
   "metadata": {},
   "outputs": [
    {
     "name": "stdout",
     "output_type": "stream",
     "text": [
      "인덱스 번호 >> 4\n",
      "가수명 >> 에이프릴\n",
      "노래 제목 >> 봄의 나라 이야기\n"
     ]
    },
    {
     "data": {
      "text/plain": [
       "[['디셈버', '심'],\n",
       " ['창모', '메테오'],\n",
       " ['BMK', '물들어'],\n",
       " ['장미여관', '퇴근하겠습니다'],\n",
       " ['에이프릴', '봄의 나라 이야기'],\n",
       " ['SG워너비', '해바라기'],\n",
       " ['노라조', '니팔자야']]"
      ]
     },
     "execution_count": 28,
     "metadata": {},
     "output_type": "execute_result"
    }
   ],
   "source": [
    "# 인덱스 번호(정수형) / 가수명 / 노래 제목 입력받는 입력문 만들기 -> 변수에 저장\n",
    "index = int(input('인덱스 번호 >> '))\n",
    "artist = input('가수명 >> ')\n",
    "title = input('노래 제목 >> ')\n",
    "\n",
    "# insert문을 이용해서 music_list에 새로운 값을 추가해주세요\n",
    "music_list.insert(index, [artist, title] )\n",
    "music_list"
   ]
  },
  {
   "cell_type": "code",
   "execution_count": 29,
   "id": "d2bcc68c",
   "metadata": {},
   "outputs": [
    {
     "name": "stdout",
     "output_type": "stream",
     "text": [
      "수정 전 : 5\n",
      "수정 후 : 10\n"
     ]
    }
   ],
   "source": [
    "# 리스트 수정\n",
    "print(f'수정 전 : {list1[5]}')\n",
    "list1[5] = 10\n",
    "print(f'수정 후 : {list1[5]}')\n"
   ]
  },
  {
   "cell_type": "code",
   "execution_count": 30,
   "id": "dec2f9d8",
   "metadata": {},
   "outputs": [
    {
     "data": {
      "text/plain": [
       "[3, 4, 5, 6]"
      ]
     },
     "execution_count": 30,
     "metadata": {},
     "output_type": "execute_result"
    }
   ],
   "source": [
    "list10 = [0,1,2,3,4,5,6,7,8,9]\n",
    "list10[3:7]"
   ]
  },
  {
   "cell_type": "code",
   "execution_count": 31,
   "id": "756917c4",
   "metadata": {},
   "outputs": [
    {
     "data": {
      "text/plain": [
       "[0, 1, 2, 10, 10, 10, 10, 7, 8, 9]"
      ]
     },
     "execution_count": 31,
     "metadata": {},
     "output_type": "execute_result"
    }
   ],
   "source": [
    "# 여러개의  값을 바꿔보자 - 슬라이싱을 이용하자\n",
    "list10 = [0,1,2,3,4,5,6,7,8,9]\n",
    "list10[3 : 7] = [10,10,10,10]  # 갯수만큼 채우기\n",
    "list10"
   ]
  },
  {
   "cell_type": "code",
   "execution_count": 9,
   "id": "5af7ccf7",
   "metadata": {},
   "outputs": [
    {
     "data": {
      "text/plain": [
       "[1, 2, 3, 4, 5]"
      ]
     },
     "execution_count": 9,
     "metadata": {},
     "output_type": "execute_result"
    }
   ],
   "source": [
    "array = [1,2,3,4,5]\n",
    "array"
   ]
  },
  {
   "cell_type": "code",
   "execution_count": 10,
   "id": "be5c454f",
   "metadata": {},
   "outputs": [
    {
     "data": {
      "text/plain": [
       "[1, 2, 3, 4, 7]"
      ]
     },
     "execution_count": 10,
     "metadata": {},
     "output_type": "execute_result"
    }
   ],
   "source": [
    "# 리스트 array에 숫자 5를 7으로 바꾸시오.\n",
    "array[4] = 7\n",
    "array"
   ]
  },
  {
   "cell_type": "code",
   "execution_count": 11,
   "id": "3544786e",
   "metadata": {},
   "outputs": [
    {
     "data": {
      "text/plain": [
       "[1, ['a', 'b', 'c'], 3, 4, 7]"
      ]
     },
     "execution_count": 11,
     "metadata": {},
     "output_type": "execute_result"
    }
   ],
   "source": [
    "# 리스트 array에 숫자 2를 리스트 ['a','b','c']로 바꾸시오.\n",
    "array[1] = ['a','b','c']\n",
    "array"
   ]
  },
  {
   "cell_type": "code",
   "execution_count": 13,
   "id": "41905bd9",
   "metadata": {},
   "outputs": [
    {
     "data": {
      "text/plain": [
       "[1, ['a', 'b', 'c'], 3, 'd', 'e', 'f', 'g']"
      ]
     },
     "execution_count": 13,
     "metadata": {},
     "output_type": "execute_result"
    }
   ],
   "source": [
    "# 리스트 array에 4,7를 'd','e','f','g'로 바꾸시오.\n",
    "array[-2:] = 'd','e','f','g'\n",
    "array"
   ]
  },
  {
   "cell_type": "code",
   "execution_count": 36,
   "id": "9053a119",
   "metadata": {},
   "outputs": [
    {
     "data": {
      "text/plain": [
       "1"
      ]
     },
     "execution_count": 36,
     "metadata": {},
     "output_type": "execute_result"
    }
   ],
   "source": [
    "array[0] "
   ]
  },
  {
   "cell_type": "code",
   "execution_count": 37,
   "id": "8c74ad7e",
   "metadata": {},
   "outputs": [
    {
     "data": {
      "text/plain": [
       "[1]"
      ]
     },
     "execution_count": 37,
     "metadata": {},
     "output_type": "execute_result"
    }
   ],
   "source": [
    "array[0:1]  # 리스트로 바뀜. (h,i,j) 아닌 h,i,j 로 수정 가능"
   ]
  },
  {
   "cell_type": "code",
   "execution_count": 38,
   "id": "aca060e3",
   "metadata": {},
   "outputs": [
    {
     "data": {
      "text/plain": [
       "['h', 'i', 'j', ['a', 'b', 'c'], 3, 'd', 'e', 'f', 'g']"
      ]
     },
     "execution_count": 38,
     "metadata": {},
     "output_type": "execute_result"
    }
   ],
   "source": [
    "# 리스트 array에 1을 'h','i','j'로 바꾸시오.\n",
    "array[:1] = 'h','i','j'\n",
    "array"
   ]
  },
  {
   "cell_type": "code",
   "execution_count": 39,
   "id": "5cae2753",
   "metadata": {},
   "outputs": [],
   "source": [
    "# 리스트 값 삭제\n",
    "list11 = [0,1,2,3,4,5]"
   ]
  },
  {
   "cell_type": "code",
   "execution_count": 40,
   "id": "3b1a08d6",
   "metadata": {},
   "outputs": [
    {
     "data": {
      "text/plain": [
       "[1, 2, 3, 4, 5]"
      ]
     },
     "execution_count": 40,
     "metadata": {},
     "output_type": "execute_result"
    }
   ],
   "source": [
    "# del 키워드 사용\n",
    "del list11[0] # 인덱스 번호 넣어주기\n",
    "list11"
   ]
  },
  {
   "cell_type": "code",
   "execution_count": 41,
   "id": "4cd7ae2c",
   "metadata": {},
   "outputs": [
    {
     "data": {
      "text/plain": [
       "[1]"
      ]
     },
     "execution_count": 41,
     "metadata": {},
     "output_type": "execute_result"
    }
   ],
   "source": [
    "del list11[1:5]\n",
    "list11"
   ]
  },
  {
   "cell_type": "code",
   "execution_count": 42,
   "id": "cd5819cb",
   "metadata": {},
   "outputs": [],
   "source": [
    "# 값을 가지고 삭제하는 방법 -remove()\n",
    "list12 = ['a','b','c','d','e','c']"
   ]
  },
  {
   "cell_type": "code",
   "execution_count": 43,
   "id": "9454cd34",
   "metadata": {},
   "outputs": [],
   "source": [
    "list12.remove('c') # 처음 만나는 해당값을 지우고 되돌려준다."
   ]
  },
  {
   "cell_type": "code",
   "execution_count": 44,
   "id": "747d6fe4",
   "metadata": {},
   "outputs": [
    {
     "data": {
      "text/plain": [
       "['a', 'b', 'd', 'e', 'c']"
      ]
     },
     "execution_count": 44,
     "metadata": {},
     "output_type": "execute_result"
    }
   ],
   "source": [
    "list12"
   ]
  },
  {
   "cell_type": "code",
   "execution_count": 15,
   "id": "6eb58258",
   "metadata": {},
   "outputs": [
    {
     "data": {
      "text/plain": [
       "[1, 7, 13, 27, 32, 45]"
      ]
     },
     "execution_count": 15,
     "metadata": {},
     "output_type": "execute_result"
    }
   ],
   "source": [
    "# 정렬 - sort() : 오름차순 정렬\n",
    "list13 = [13,27,1,32,45,7]\n",
    "list13.sort()\n",
    "list13"
   ]
  },
  {
   "cell_type": "code",
   "execution_count": 46,
   "id": "831fc858",
   "metadata": {},
   "outputs": [],
   "source": [
    "#리스트를 반대로 뒤집는 함수 - reverse()\n",
    "list13 = [13,27,1,32,45,7]\n",
    "list13.reverse()"
   ]
  },
  {
   "cell_type": "code",
   "execution_count": 47,
   "id": "a688a488",
   "metadata": {},
   "outputs": [
    {
     "data": {
      "text/plain": [
       "[7, 45, 32, 1, 27, 13]"
      ]
     },
     "execution_count": 47,
     "metadata": {},
     "output_type": "execute_result"
    }
   ],
   "source": [
    "list13"
   ]
  },
  {
   "cell_type": "code",
   "execution_count": 48,
   "id": "3e2ed18c",
   "metadata": {},
   "outputs": [
    {
     "data": {
      "text/plain": [
       "[45, 32, 27, 13, 7, 1]"
      ]
     },
     "execution_count": 48,
     "metadata": {},
     "output_type": "execute_result"
    }
   ],
   "source": [
    "# 내림차순 정렬을 진행해보자\n",
    "list13 = [13,27,1,32,45,7]  # shift tab : docstring 정보.......\n",
    "list13.sort(reverse=True)   # sort안에 reverse...\n",
    "list13 "
   ]
  },
  {
   "cell_type": "code",
   "execution_count": 49,
   "id": "bb4f3121",
   "metadata": {},
   "outputs": [],
   "source": [
    "# 리스트 값 위치 출력 / 제거 \n",
    "list14 = ['a','b','c','d','e']"
   ]
  },
  {
   "cell_type": "code",
   "execution_count": 50,
   "id": "4ab37cca",
   "metadata": {},
   "outputs": [
    {
     "data": {
      "text/plain": [
       "2"
      ]
     },
     "execution_count": 50,
     "metadata": {},
     "output_type": "execute_result"
    }
   ],
   "source": [
    "# 리스트 내부에 위치한 자료의 인덱스를 확인한 방법\n",
    "list14.index('c')"
   ]
  },
  {
   "cell_type": "code",
   "execution_count": 51,
   "id": "b87914a8",
   "metadata": {},
   "outputs": [
    {
     "data": {
      "text/plain": [
       "'e'"
      ]
     },
     "execution_count": 51,
     "metadata": {},
     "output_type": "execute_result"
    }
   ],
   "source": [
    "# pop() : 마지막 값을 출력 후 리스트에서 제거 \n",
    "list14.pop()   # 스택,큐 에서 push/pop"
   ]
  },
  {
   "cell_type": "code",
   "execution_count": 52,
   "id": "4d2ef4c7",
   "metadata": {},
   "outputs": [
    {
     "data": {
      "text/plain": [
       "['a', 'b', 'c', 'd']"
      ]
     },
     "execution_count": 52,
     "metadata": {},
     "output_type": "execute_result"
    }
   ],
   "source": [
    "list14"
   ]
  },
  {
   "cell_type": "code",
   "execution_count": 53,
   "id": "fdaf20ea",
   "metadata": {},
   "outputs": [
    {
     "data": {
      "text/plain": [
       "4"
      ]
     },
     "execution_count": 53,
     "metadata": {},
     "output_type": "execute_result"
    }
   ],
   "source": [
    "# len(리스트) - 리스트 내부의 값 갯수를 출력할 때 사용\n",
    "# 반복문의 범위를 정하거나 리스트 내부의 데이터 갯수를 체크할 때 사용\n",
    "len(list14)"
   ]
  },
  {
   "cell_type": "code",
   "execution_count": 54,
   "id": "6a99ffbf",
   "metadata": {},
   "outputs": [
    {
     "name": "stdout",
     "output_type": "stream",
     "text": [
      "a\n",
      "b\n",
      "c\n",
      "d\n"
     ]
    }
   ],
   "source": [
    "for i in list14 :\n",
    "    print(i)"
   ]
  },
  {
   "cell_type": "code",
   "execution_count": 55,
   "id": "605ec6c2",
   "metadata": {},
   "outputs": [
    {
     "name": "stdout",
     "output_type": "stream",
     "text": [
      "a\n",
      "b\n",
      "c\n",
      "d\n"
     ]
    }
   ],
   "source": [
    "for i in range(len(list14)) :\n",
    "    print(list14[i])"
   ]
  },
  {
   "cell_type": "code",
   "execution_count": 56,
   "id": "96211c17",
   "metadata": {},
   "outputs": [],
   "source": [
    "# 튜플\n",
    "\n",
    "a = ()\n",
    "b = (1,2,3)\n",
    "c = ('My','name','is','MH')\n",
    "d = (1,2,'My','name')\n",
    "e = (1,2,('My','name'))"
   ]
  },
  {
   "cell_type": "code",
   "execution_count": 57,
   "id": "4b27b87b",
   "metadata": {},
   "outputs": [
    {
     "data": {
      "text/plain": [
       "('My', 'name', 'is', 'GW')"
      ]
     },
     "execution_count": 57,
     "metadata": {},
     "output_type": "execute_result"
    }
   ],
   "source": [
    "c = ('My','name','is','GW')\n",
    "c"
   ]
  },
  {
   "cell_type": "code",
   "execution_count": 58,
   "id": "f854adb5",
   "metadata": {},
   "outputs": [
    {
     "ename": "TypeError",
     "evalue": "'tuple' object does not support item assignment",
     "output_type": "error",
     "traceback": [
      "\u001b[1;31m---------------------------------------------------------------------------\u001b[0m",
      "\u001b[1;31mTypeError\u001b[0m                                 Traceback (most recent call last)",
      "Cell \u001b[1;32mIn[58], line 1\u001b[0m\n\u001b[1;32m----> 1\u001b[0m c[\u001b[38;5;241m4\u001b[39m] \u001b[38;5;241m=\u001b[39m \u001b[38;5;124m'\u001b[39m\u001b[38;5;124mKN\u001b[39m\u001b[38;5;124m'\u001b[39m\n",
      "\u001b[1;31mTypeError\u001b[0m: 'tuple' object does not support item assignment"
     ]
    }
   ],
   "source": [
    "c[4] = 'KN'  # 튜플은 수정 불가"
   ]
  },
  {
   "cell_type": "code",
   "execution_count": 59,
   "id": "6e2f937f",
   "metadata": {},
   "outputs": [
    {
     "ename": "AttributeError",
     "evalue": "'tuple' object has no attribute 'append'",
     "output_type": "error",
     "traceback": [
      "\u001b[1;31m---------------------------------------------------------------------------\u001b[0m",
      "\u001b[1;31mAttributeError\u001b[0m                            Traceback (most recent call last)",
      "Cell \u001b[1;32mIn[59], line 1\u001b[0m\n\u001b[1;32m----> 1\u001b[0m b\u001b[38;5;241m.\u001b[39mappend(\u001b[38;5;241m4\u001b[39m)\n",
      "\u001b[1;31mAttributeError\u001b[0m: 'tuple' object has no attribute 'append'"
     ]
    }
   ],
   "source": [
    "b.append(4)"
   ]
  },
  {
   "cell_type": "code",
   "execution_count": 60,
   "id": "2f989262",
   "metadata": {},
   "outputs": [
    {
     "data": {
      "text/plain": [
       "2"
      ]
     },
     "execution_count": 60,
     "metadata": {},
     "output_type": "execute_result"
    }
   ],
   "source": [
    "b = (1,2,3)  # 튜플 인덱싱 가능\n",
    "b[1]"
   ]
  },
  {
   "cell_type": "code",
   "execution_count": 61,
   "id": "711088e2",
   "metadata": {},
   "outputs": [
    {
     "data": {
      "text/plain": [
       "(2, 3)"
      ]
     },
     "execution_count": 61,
     "metadata": {},
     "output_type": "execute_result"
    }
   ],
   "source": [
    "b[1:]   # 슬라이싱 가능"
   ]
  },
  {
   "cell_type": "code",
   "execution_count": 62,
   "id": "5bde69a5",
   "metadata": {},
   "outputs": [
    {
     "data": {
      "text/plain": [
       "3"
      ]
     },
     "execution_count": 62,
     "metadata": {},
     "output_type": "execute_result"
    }
   ],
   "source": [
    "len(b)"
   ]
  },
  {
   "cell_type": "code",
   "execution_count": 63,
   "id": "2651953a",
   "metadata": {},
   "outputs": [],
   "source": [
    "# in() - 찾고자 하는 값(x)가 포함되었을 때 포함이 되면 True\n",
    "#      - 아니면 False\n",
    "# not in() - 찾고자 하는 값(x)가 포함되었을 때 포함이 되면 False\n",
    "#      - 아니면 True"
   ]
  },
  {
   "cell_type": "code",
   "execution_count": 64,
   "id": "d66fb295",
   "metadata": {},
   "outputs": [],
   "source": [
    "str1 = '마지막 시간입니다. 여러분들 고생하셨어요!'"
   ]
  },
  {
   "cell_type": "code",
   "execution_count": 65,
   "id": "9ea1f747",
   "metadata": {},
   "outputs": [
    {
     "data": {
      "text/plain": [
       "True"
      ]
     },
     "execution_count": 65,
     "metadata": {},
     "output_type": "execute_result"
    }
   ],
   "source": [
    "'마지막' in str1"
   ]
  },
  {
   "cell_type": "code",
   "execution_count": 66,
   "id": "06fb1a0d",
   "metadata": {},
   "outputs": [
    {
     "data": {
      "text/plain": [
       "False"
      ]
     },
     "execution_count": 66,
     "metadata": {},
     "output_type": "execute_result"
    }
   ],
   "source": [
    "'첫' in str1"
   ]
  },
  {
   "cell_type": "code",
   "execution_count": 67,
   "id": "4eaa6e8c",
   "metadata": {},
   "outputs": [
    {
     "data": {
      "text/plain": [
       "[45, 32, 27, 13, 7, 1]"
      ]
     },
     "execution_count": 67,
     "metadata": {},
     "output_type": "execute_result"
    }
   ],
   "source": [
    "list13"
   ]
  },
  {
   "cell_type": "code",
   "execution_count": 68,
   "id": "9cf0d81d",
   "metadata": {},
   "outputs": [
    {
     "data": {
      "text/plain": [
       "False"
      ]
     },
     "execution_count": 68,
     "metadata": {},
     "output_type": "execute_result"
    }
   ],
   "source": [
    "37 in list13"
   ]
  },
  {
   "cell_type": "code",
   "execution_count": 69,
   "id": "051812b2",
   "metadata": {},
   "outputs": [
    {
     "data": {
      "text/plain": [
       "True"
      ]
     },
     "execution_count": 69,
     "metadata": {},
     "output_type": "execute_result"
    }
   ],
   "source": [
    "45 in list13"
   ]
  },
  {
   "cell_type": "code",
   "execution_count": 70,
   "id": "b84fb70c",
   "metadata": {},
   "outputs": [
    {
     "data": {
      "text/plain": [
       "False"
      ]
     },
     "execution_count": 70,
     "metadata": {},
     "output_type": "execute_result"
    }
   ],
   "source": [
    "45 not in list13"
   ]
  },
  {
   "cell_type": "code",
   "execution_count": 4,
   "id": "04fc1508",
   "metadata": {},
   "outputs": [
    {
     "name": "stdout",
     "output_type": "stream",
     "text": [
      "입력 >> 않\n",
      "않는(은) 1번 들어있습니다.\n"
     ]
    }
   ],
   "source": [
    "# 문자열에 사용자가 입력한 글자가 몇개 포함되어있는지 출력을 해주세요\n",
    "s = '오늘은 금요일입니다! 주말이 얼마 남지 않았어요!'\n",
    "\n",
    "# 입력문 받기\n",
    "a = input('입력 >> ')\n",
    "# 우리가 지정한 문장에서 입력받은 글자가 몇개 있는지 체크를 해보자\n",
    "b = s.count(a) \n",
    "\n",
    "# 조건문 작성\n",
    "# 만약 우리가 입력받은 글자가 s라는 문장 내부에 있다면\n",
    "if a in s :\n",
    "    print(f'{a}는(은) {b}번 들어있습니다.')\n",
    "# 글자가 없다면\n",
    "else :\n",
    "    print(f'{a}는(은) 들어있지 않습니다....')\n",
    "\n",
    "\n",
    "\n"
   ]
  }
 ],
 "metadata": {
  "kernelspec": {
   "display_name": "Python 3 (ipykernel)",
   "language": "python",
   "name": "python3"
  },
  "language_info": {
   "codemirror_mode": {
    "name": "ipython",
    "version": 3
   },
   "file_extension": ".py",
   "mimetype": "text/x-python",
   "name": "python",
   "nbconvert_exporter": "python",
   "pygments_lexer": "ipython3",
   "version": "3.11.5"
  }
 },
 "nbformat": 4,
 "nbformat_minor": 5
}
