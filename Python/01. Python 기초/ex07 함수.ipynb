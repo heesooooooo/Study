{
 "cells": [
  {
   "cell_type": "code",
   "execution_count": 1,
   "id": "4c4bd835",
   "metadata": {},
   "outputs": [],
   "source": [
    "# 예시 함수를 하나 만들어보자\n",
    "def hello(name) : \n",
    "    return f'{name}씨 안녕하세요'"
   ]
  },
  {
   "cell_type": "code",
   "execution_count": 2,
   "id": "630dfd7c",
   "metadata": {},
   "outputs": [
    {
     "data": {
      "text/plain": [
       "'규남씨 안녕하세요'"
      ]
     },
     "execution_count": 2,
     "metadata": {},
     "output_type": "execute_result"
    }
   ],
   "source": [
    "hello('규남')"
   ]
  },
  {
   "cell_type": "code",
   "execution_count": 4,
   "id": "23523300",
   "metadata": {},
   "outputs": [
    {
     "data": {
      "text/plain": [
       "'지금 졸고 있는 상원씨 안녕하세요'"
      ]
     },
     "execution_count": 4,
     "metadata": {},
     "output_type": "execute_result"
    }
   ],
   "source": [
    "hello('지금 졸고 있는 상원')"
   ]
  },
  {
   "cell_type": "code",
   "execution_count": 1,
   "id": "77dc740f",
   "metadata": {},
   "outputs": [
    {
     "name": "stdout",
     "output_type": "stream",
     "text": [
      "첫 번째 정수 입력 >> 10\n",
      "두 번째 정수 입력 >> 3\n"
     ]
    },
    {
     "data": {
      "text/plain": [
       "7"
      ]
     },
     "execution_count": 1,
     "metadata": {},
     "output_type": "execute_result"
    }
   ],
   "source": [
    "def number_minus(num1, num2) :\n",
    "    return num1-num2 if num1>num2 else num2-num1\n",
    "\n",
    "num1 = int(input('첫 번째 정수 입력 >> '))\n",
    "num2 = int(input('두 번째 정수 입력 >> '))\n",
    "rs = number_minus(num1, num2)\n",
    "rs"
   ]
  },
  {
   "cell_type": "code",
   "execution_count": 1,
   "id": "6b2c5b33",
   "metadata": {},
   "outputs": [],
   "source": [
    "def cal(num1, num2, op):\n",
    "    \"\"\"덧셈과 뺄셈을 해주는 함수\"\"\"  # docstring추가.. shift tab으로 확인\n",
    "    if op == '+':\n",
    "        return num1+num2\n",
    "    elif op == '-' :\n",
    "        return num1-num2 if num1>num2 else num2-num1\n",
    "    else :\n",
    "        return print('다시 입력하세요')\n",
    "      "
   ]
  },
  {
   "cell_type": "code",
   "execution_count": 2,
   "id": "2f7602d6",
   "metadata": {},
   "outputs": [
    {
     "name": "stdout",
     "output_type": "stream",
     "text": [
      "첫 번째 정수 입력 >> 2\n",
      "두 번째 정수 입력 >> 11\n",
      "연산자 입력(+,-) >> +\n",
      "결과 : 13\n",
      "결과 : 13\n"
     ]
    }
   ],
   "source": [
    "  \n",
    "num1 = int(input('첫 번째 정수 입력 >> '))\n",
    "num2 = int(input('두 번째 정수 입력 >> '))\n",
    "op = input('연산자 입력(+,-) >> ')\n",
    "result = cal(num1, num2, op)\n",
    "print('결과 : {}'.format(result))\n",
    "print(f'결과 : {result}')"
   ]
  },
  {
   "cell_type": "code",
   "execution_count": 12,
   "id": "c030d163",
   "metadata": {},
   "outputs": [],
   "source": [
    "# 여러개의 숫자를 받아서 모두 더해주는 함수를 만들어보자\n",
    "def add(*args) :\n",
    "    return sum(args)"
   ]
  },
  {
   "cell_type": "code",
   "execution_count": 13,
   "id": "3cbc225c",
   "metadata": {},
   "outputs": [
    {
     "data": {
      "text/plain": [
       "6"
      ]
     },
     "execution_count": 13,
     "metadata": {},
     "output_type": "execute_result"
    }
   ],
   "source": [
    "add(1,2,3)"
   ]
  },
  {
   "cell_type": "code",
   "execution_count": 14,
   "id": "2600157c",
   "metadata": {},
   "outputs": [
    {
     "data": {
      "text/plain": [
       "28"
      ]
     },
     "execution_count": 14,
     "metadata": {},
     "output_type": "execute_result"
    }
   ],
   "source": [
    "add(1,2,3,4,5,6,7)"
   ]
  },
  {
   "cell_type": "code",
   "execution_count": 2,
   "id": "1b62f18d",
   "metadata": {},
   "outputs": [],
   "source": [
    "def add_sub(num1,num2) :\n",
    "    return num1+num2, num1-num2"
   ]
  },
  {
   "cell_type": "code",
   "execution_count": 3,
   "id": "0e82b272",
   "metadata": {},
   "outputs": [
    {
     "name": "stdout",
     "output_type": "stream",
     "text": [
      "첫 번째 정수 입력 >> 5\n",
      "두 번째 정수 입력 >> 3\n",
      "결과 : (8, 2)\n"
     ]
    }
   ],
   "source": [
    "  \n",
    "num1 = int(input('첫 번째 정수 입력 >> '))\n",
    "num2 = int(input('두 번째 정수 입력 >> '))\n",
    "result = add_sub(num1, num2)\n",
    "print(f'결과 : {result}')"
   ]
  },
  {
   "cell_type": "code",
   "execution_count": 21,
   "id": "f454ca2f",
   "metadata": {},
   "outputs": [
    {
     "data": {
      "text/plain": [
       "8"
      ]
     },
     "execution_count": 21,
     "metadata": {},
     "output_type": "execute_result"
    }
   ],
   "source": [
    "# 값을 하나씩 가져오는 방법 : 1.인덱싱\n",
    "result[0]"
   ]
  },
  {
   "cell_type": "code",
   "execution_count": 23,
   "id": "8e7b0d35",
   "metadata": {},
   "outputs": [
    {
     "name": "stdout",
     "output_type": "stream",
     "text": [
      "8\n",
      "2\n"
     ]
    }
   ],
   "source": [
    "# 값을 하나씩 가져오는 방법 : 2. 다중 변수 입력\n",
    "result_add, result_minus = add_sub(5,3)\n",
    "print(result_add)\n",
    "print(result_minus)"
   ]
  },
  {
   "cell_type": "code",
   "execution_count": 5,
   "id": "ca3c76fb",
   "metadata": {},
   "outputs": [],
   "source": [
    "# 함수 기본값 설정하기\n",
    "def power_of_n(num, power=2) :\n",
    "    return num ** power "
   ]
  },
  {
   "cell_type": "code",
   "execution_count": 6,
   "id": "c59a9bed",
   "metadata": {},
   "outputs": [
    {
     "data": {
      "text/plain": [
       "64"
      ]
     },
     "execution_count": 6,
     "metadata": {},
     "output_type": "execute_result"
    }
   ],
   "source": [
    "power_of_n(4,3) # 변경 가능"
   ]
  },
  {
   "cell_type": "code",
   "execution_count": null,
   "id": "97a384e0",
   "metadata": {},
   "outputs": [],
   "source": []
  }
 ],
 "metadata": {
  "kernelspec": {
   "display_name": "Python 3 (ipykernel)",
   "language": "python",
   "name": "python3"
  },
  "language_info": {
   "codemirror_mode": {
    "name": "ipython",
    "version": 3
   },
   "file_extension": ".py",
   "mimetype": "text/x-python",
   "name": "python",
   "nbconvert_exporter": "python",
   "pygments_lexer": "ipython3",
   "version": "3.11.5"
  }
 },
 "nbformat": 4,
 "nbformat_minor": 5
}
