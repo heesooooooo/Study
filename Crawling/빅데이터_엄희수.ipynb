{
 "cells": [
  {
   "cell_type": "markdown",
   "id": "f49fe2e4",
   "metadata": {},
   "source": [
    "# 필기답안지"
   ]
  },
  {
   "cell_type": "markdown",
   "id": "74e88e62",
   "metadata": {},
   "source": [
    "## 문제1 \n",
    "다음은 빅데이터 수집방식에 대한 설명이다. 빈 칸에 알맞은 방식을 고르시오."
   ]
  },
  {
   "cell_type": "markdown",
   "id": "29baa41a",
   "metadata": {},
   "source": [
    "- 1 : a.로그수집\n",
    "- 2 : f.크롤링\n",
    "- 3 : c.오픈API\n",
    "- 4 : h.센서수집"
   ]
  },
  {
   "cell_type": "markdown",
   "id": "098be8fb",
   "metadata": {},
   "source": [
    "## 문제2\n",
    "크롤링의 개념과 필요성에 대해 서술하시오.\n",
    "- 답안 : 인터넷상에서 제공되는 웹문서의 정보를 수집하는 것으로, \n",
    "        많은 데이터를 한번에 빠르게 수집할 수 있기 때문에 유용하다."
   ]
  },
  {
   "cell_type": "markdown",
   "id": "29e08d76",
   "metadata": {},
   "source": [
    "## 문제3\n",
    "BeautifulSoup모듈에 대해 서술하시오.\n",
    "- 답안 : requests로 받아온 텍스트를 컴퓨터가 이해할 수 있게 HTML로 변환시켜주는 라이브러리이다."
   ]
  },
  {
   "cell_type": "markdown",
   "id": "04c5d7be",
   "metadata": {},
   "source": [
    "## 문제4\n",
    "다음 두 보기의 차이를 설명하시오.\n",
    "- 1 : find_element(By.CSS_SELECTOR) : 하나의 선택자를 찾아올 때 사용한다\n",
    "- 2 : find_elements(By.CSS_SELECTOR) : 여러개의 선택자를 찾아올 때 사용한다"
   ]
  },
  {
   "cell_type": "markdown",
   "id": "f82501f0",
   "metadata": {},
   "source": [
    "## 문제5\n",
    "다음은 HTML코드로 이루어진 웹 페이지이다. 밑줄 그어진 부분 BeautifulSoup 모듈의 함수를 이용하여 텍스트만 수집할 수 있는 코드에 빈칸을 작성하시오.\n",
    "- soup = bs(res.text, ‘lxml’)\n",
    "- crawling = soup.select_one(span#this_span)\n",
    "- print(crawling.(text))"
   ]
  },
  {
   "cell_type": "markdown",
   "id": "de85ce27",
   "metadata": {},
   "source": [
    "# 실기답안지"
   ]
  },
  {
   "cell_type": "markdown",
   "id": "b2e6a5d6",
   "metadata": {},
   "source": [
    "## 문제2\n",
    "자동제어를 통해 네이버 홈페이지에 접속하고 ‘크롤링’를 입력하여 검색하는      시스템을 구축하시오."
   ]
  },
  {
   "cell_type": "code",
   "execution_count": 1,
   "id": "88f056a8",
   "metadata": {},
   "outputs": [],
   "source": [
    "from selenium import webdriver as wb\n",
    "from selenium.webdriver.common.by import By\n",
    "from selenium.webdriver.common.keys import Keys"
   ]
  },
  {
   "cell_type": "code",
   "execution_count": 3,
   "id": "8dbef0bc",
   "metadata": {},
   "outputs": [],
   "source": [
    "driver = wb.Chrome()"
   ]
  },
  {
   "cell_type": "code",
   "execution_count": 5,
   "id": "7bac2120",
   "metadata": {},
   "outputs": [],
   "source": [
    "driver.get(\"https://www.naver.com\")"
   ]
  },
  {
   "cell_type": "code",
   "execution_count": 8,
   "id": "7e6338ae",
   "metadata": {},
   "outputs": [],
   "source": [
    "search = driver.find_element(By.CSS_SELECTOR, \"#query\")\n",
    "search.click()"
   ]
  },
  {
   "cell_type": "code",
   "execution_count": 9,
   "id": "fb6a4ff0",
   "metadata": {},
   "outputs": [],
   "source": [
    "search.send_keys(\"크롤링\")\n",
    "search.send_keys(Keys.ENTER)"
   ]
  },
  {
   "cell_type": "markdown",
   "id": "dd7ec12a",
   "metadata": {},
   "source": [
    "# 문제3\n",
    "자동제어를 통해 G마켓 홈페이지에 접속하고, 조건에 맞는 수집프로그램을 만드시오."
   ]
  },
  {
   "cell_type": "code",
   "execution_count": 28,
   "id": "f8cbe3be",
   "metadata": {},
   "outputs": [],
   "source": [
    "from selenium import webdriver as wb\n",
    "from selenium.webdriver.common.by import By\n",
    "from selenium.webdriver.common.keys import Keys"
   ]
  },
  {
   "cell_type": "code",
   "execution_count": 29,
   "id": "1997e461",
   "metadata": {},
   "outputs": [],
   "source": [
    "driver = wb.Chrome()\n",
    "driver.get(\"http://corners.gmarket.co.kr/Bestsellers\")"
   ]
  },
  {
   "cell_type": "code",
   "execution_count": 14,
   "id": "45783d44",
   "metadata": {},
   "outputs": [],
   "source": [
    "img = driver.find_elements(By.CSS_SELECTOR, \"#gBestWrap > div.best-list > ul > li > div.thumb > a > img\")\n",
    "img[0].click()"
   ]
  },
  {
   "cell_type": "code",
   "execution_count": 16,
   "id": "bf9ac09a",
   "metadata": {},
   "outputs": [
    {
     "data": {
      "text/plain": [
       "'슈퍼파워 터보 팬 다용도 에어건 크로스건 13만RPM 자동차 눈털기 먼지털기 캠핑 먼지털기 휴대용 청소기'"
      ]
     },
     "execution_count": 16,
     "metadata": {},
     "output_type": "execute_result"
    }
   ],
   "source": [
    "title = driver.find_element(By.CSS_SELECTOR, \"#itemcase_basic > div.box__item-title > h1\")\n",
    "title.text"
   ]
  },
  {
   "cell_type": "code",
   "execution_count": 24,
   "id": "a4e346a7",
   "metadata": {},
   "outputs": [
    {
     "data": {
      "text/plain": [
       "'38,500원'"
      ]
     },
     "execution_count": 24,
     "metadata": {},
     "output_type": "execute_result"
    }
   ],
   "source": [
    "try:\n",
    "    price =driver.find_element(By.CSS_SELECTOR, \"#itemcase_basic > div.box__item-title > div.price > span.price_innerwrap.price_innerwrap-coupon > strong\")\n",
    "    price.text\n",
    "except: \n",
    "    price = driver.find_element(By.CSS_SELECTOR, \"#itemcase_basic > div.box__item-title > div.price > span:nth-child(2) > strong\")\n",
    "    price.text"
   ]
  },
  {
   "cell_type": "code",
   "execution_count": 25,
   "id": "3e96f1a1",
   "metadata": {},
   "outputs": [],
   "source": [
    "driver.back()"
   ]
  },
  {
   "cell_type": "code",
   "execution_count": 30,
   "id": "8d3f38c4",
   "metadata": {},
   "outputs": [],
   "source": [
    "import time\n",
    "from tqdm.notebook import tqdm"
   ]
  },
  {
   "cell_type": "code",
   "execution_count": 31,
   "id": "97a193e0",
   "metadata": {},
   "outputs": [
    {
     "data": {
      "application/vnd.jupyter.widget-view+json": {
       "model_id": "84f859b17ed74e57801ccee057cab031",
       "version_major": 2,
       "version_minor": 0
      },
      "text/plain": [
       "  0%|          | 0/20 [00:00<?, ?it/s]"
      ]
     },
     "metadata": {},
     "output_type": "display_data"
    }
   ],
   "source": [
    "title_list=[]\n",
    "price_list=[]\n",
    "\n",
    "for i in tqdm(range(20)):\n",
    "    img = driver.find_elements(By.CSS_SELECTOR, \"#gBestWrap > div.best-list > ul > li > div.thumb > a > img\")\n",
    "    img[i].click()\n",
    "    time.sleep(1)\n",
    "    \n",
    "    title = driver.find_element(By.CSS_SELECTOR, \"#itemcase_basic > div.box__item-title > h1\")\n",
    "    try:\n",
    "        price =driver.find_element(By.CSS_SELECTOR, \"#itemcase_basic > div.box__item-title > div.price > span.price_innerwrap.price_innerwrap-coupon > strong\")\n",
    "    except: \n",
    "        price = driver.find_element(By.CSS_SELECTOR, \"#itemcase_basic > div.box__item-title > div.price > span:nth-child(2) > strong\")\n",
    "    \n",
    "    title_list.append(title.text)\n",
    "    price_list.append(price.text)\n",
    "    driver.back()\n",
    "    time.sleep(1)\n",
    "    "
   ]
  },
  {
   "cell_type": "code",
   "execution_count": 32,
   "id": "d0d375fb",
   "metadata": {},
   "outputs": [],
   "source": [
    "import pandas as pd"
   ]
  },
  {
   "cell_type": "code",
   "execution_count": 33,
   "id": "09174993",
   "metadata": {},
   "outputs": [],
   "source": [
    "dic = {\"상품명\": title_list, \"가격\":price_list}"
   ]
  },
  {
   "cell_type": "code",
   "execution_count": 34,
   "id": "e007c47f",
   "metadata": {},
   "outputs": [
    {
     "data": {
      "text/html": [
       "<div>\n",
       "<style scoped>\n",
       "    .dataframe tbody tr th:only-of-type {\n",
       "        vertical-align: middle;\n",
       "    }\n",
       "\n",
       "    .dataframe tbody tr th {\n",
       "        vertical-align: top;\n",
       "    }\n",
       "\n",
       "    .dataframe thead th {\n",
       "        text-align: right;\n",
       "    }\n",
       "</style>\n",
       "<table border=\"1\" class=\"dataframe\">\n",
       "  <thead>\n",
       "    <tr style=\"text-align: right;\">\n",
       "      <th></th>\n",
       "      <th>상품명</th>\n",
       "      <th>가격</th>\n",
       "    </tr>\n",
       "  </thead>\n",
       "  <tbody>\n",
       "    <tr>\n",
       "      <th>0</th>\n",
       "      <td>(15%+5%쿠폰) 브이빈 겨울마감+봄맞이 BEST신상 데일리룩/가디건/니트/자켓/...</td>\n",
       "      <td>8,000원</td>\n",
       "    </tr>\n",
       "    <tr>\n",
       "      <th>1</th>\n",
       "      <td>(최종2.3만)차이슨 헤어 드라이어 드라이기+노즐5개</td>\n",
       "      <td>23,900원</td>\n",
       "    </tr>\n",
       "    <tr>\n",
       "      <th>2</th>\n",
       "      <td>슈퍼파워 터보 팬 다용도 에어건 크로스건 13만RPM 자동차 눈털기 먼지털기 캠핑 ...</td>\n",
       "      <td>32,730원</td>\n",
       "    </tr>\n",
       "    <tr>\n",
       "      <th>3</th>\n",
       "      <td>한성기업 크래미 몬스터크랩 72g X 15개</td>\n",
       "      <td>13,430원</td>\n",
       "    </tr>\n",
       "    <tr>\n",
       "      <th>4</th>\n",
       "      <td>(유니버스클럽 전용 쿠폰적용가 5천원) 메가박스 일반예매권 2D-주중/주말</td>\n",
       "      <td>15,000원</td>\n",
       "    </tr>\n",
       "    <tr>\n",
       "      <th>5</th>\n",
       "      <td>(선)브래비 유니 TRAINING SET F-ZIP N231UFT010</td>\n",
       "      <td>79,470원</td>\n",
       "    </tr>\n",
       "    <tr>\n",
       "      <th>6</th>\n",
       "      <td>15%+10% 버블트리 봄신상 스쿨룩 베이비페어 특가전</td>\n",
       "      <td>11,250원</td>\n",
       "    </tr>\n",
       "    <tr>\n",
       "      <th>7</th>\n",
       "      <td>하기스 네이처메이드 밤부 밴드/팬티 기저귀 1박스 모음전</td>\n",
       "      <td>56,900원</td>\n",
       "    </tr>\n",
       "    <tr>\n",
       "      <th>8</th>\n",
       "      <td>BSP D9 휴대용 모바일 게이밍 컨트롤러 안드로이드 아이폰 태블릿 스위치 PC 윈...</td>\n",
       "      <td>32,700원</td>\n",
       "    </tr>\n",
       "    <tr>\n",
       "      <th>9</th>\n",
       "      <td>멸균우유 200ml 24입+24입 (2박스)</td>\n",
       "      <td>24,980원</td>\n",
       "    </tr>\n",
       "    <tr>\n",
       "      <th>10</th>\n",
       "      <td>수퍼맘스토리카페/총 120종의 대작/보카사이언스/Visual Literacy/Tal...</td>\n",
       "      <td>178,800원</td>\n",
       "    </tr>\n",
       "    <tr>\n",
       "      <th>11</th>\n",
       "      <td>하기스 맥스드라이 밴드/팬티 기저귀 1박스 모음전</td>\n",
       "      <td>49,920원</td>\n",
       "    </tr>\n",
       "    <tr>\n",
       "      <th>12</th>\n",
       "      <td>포스트 아몬드후레이크 620gx3 +밀폐용기2P(증정)</td>\n",
       "      <td>13,590원</td>\n",
       "    </tr>\n",
       "    <tr>\n",
       "      <th>13</th>\n",
       "      <td>(15+5%쿠폰)비비안 비너스 외 고탄력 팬티 스타킹 10매 7매 벌크 학생 압박 ...</td>\n",
       "      <td>8,730원</td>\n",
       "    </tr>\n",
       "    <tr>\n",
       "      <th>14</th>\n",
       "      <td>((15+5%쿠폰 오늘만 역마진SALE)) 데이뮤즈 봄신상 트렌치코트/점퍼/자켓/팬...</td>\n",
       "      <td>10,970원</td>\n",
       "    </tr>\n",
       "    <tr>\n",
       "      <th>15</th>\n",
       "      <td>(15%+5%쿠폰+무료반품) 홈쇼핑 1+1.SET 니트/팬츠/패딩 외 그렌 코튼모달...</td>\n",
       "      <td>9,280원</td>\n",
       "    </tr>\n",
       "    <tr>\n",
       "      <th>16</th>\n",
       "      <td>제주삼다수 무라벨 2L 24병 /생수전문배송</td>\n",
       "      <td>22,800원</td>\n",
       "    </tr>\n",
       "    <tr>\n",
       "      <th>17</th>\n",
       "      <td>여수사나이 국내산 돌산갓김치 1.5kg 남도김치 산지직송 당일생산</td>\n",
       "      <td>9,350원</td>\n",
       "    </tr>\n",
       "    <tr>\n",
       "      <th>18</th>\n",
       "      <td>바브키즈 10+15% 쿠폰 봄상품 출시 상하복 모음</td>\n",
       "      <td>8,370원</td>\n",
       "    </tr>\n",
       "    <tr>\n",
       "      <th>19</th>\n",
       "      <td>혜택가 38만원대 LG전자 휘센 제습기 20L 블루 DQ202PBBC 빠른배송</td>\n",
       "      <td>418,270</td>\n",
       "    </tr>\n",
       "  </tbody>\n",
       "</table>\n",
       "</div>"
      ],
      "text/plain": [
       "                                                  상품명        가격\n",
       "0   (15%+5%쿠폰) 브이빈 겨울마감+봄맞이 BEST신상 데일리룩/가디건/니트/자켓/...    8,000원\n",
       "1                       (최종2.3만)차이슨 헤어 드라이어 드라이기+노즐5개   23,900원\n",
       "2   슈퍼파워 터보 팬 다용도 에어건 크로스건 13만RPM 자동차 눈털기 먼지털기 캠핑 ...   32,730원\n",
       "3                            한성기업 크래미 몬스터크랩 72g X 15개   13,430원\n",
       "4           (유니버스클럽 전용 쿠폰적용가 5천원) 메가박스 일반예매권 2D-주중/주말   15,000원\n",
       "5             (선)브래비 유니 TRAINING SET F-ZIP N231UFT010   79,470원\n",
       "6                      15%+10% 버블트리 봄신상 스쿨룩 베이비페어 특가전   11,250원\n",
       "7                     하기스 네이처메이드 밤부 밴드/팬티 기저귀 1박스 모음전   56,900원\n",
       "8   BSP D9 휴대용 모바일 게이밍 컨트롤러 안드로이드 아이폰 태블릿 스위치 PC 윈...   32,700원\n",
       "9                            멸균우유 200ml 24입+24입 (2박스)   24,980원\n",
       "10  수퍼맘스토리카페/총 120종의 대작/보카사이언스/Visual Literacy/Tal...  178,800원\n",
       "11                        하기스 맥스드라이 밴드/팬티 기저귀 1박스 모음전   49,920원\n",
       "12                     포스트 아몬드후레이크 620gx3 +밀폐용기2P(증정)   13,590원\n",
       "13  (15+5%쿠폰)비비안 비너스 외 고탄력 팬티 스타킹 10매 7매 벌크 학생 압박 ...    8,730원\n",
       "14  ((15+5%쿠폰 오늘만 역마진SALE)) 데이뮤즈 봄신상 트렌치코트/점퍼/자켓/팬...   10,970원\n",
       "15  (15%+5%쿠폰+무료반품) 홈쇼핑 1+1.SET 니트/팬츠/패딩 외 그렌 코튼모달...    9,280원\n",
       "16                           제주삼다수 무라벨 2L 24병 /생수전문배송   22,800원\n",
       "17               여수사나이 국내산 돌산갓김치 1.5kg 남도김치 산지직송 당일생산    9,350원\n",
       "18                       바브키즈 10+15% 쿠폰 봄상품 출시 상하복 모음    8,370원\n",
       "19        혜택가 38만원대 LG전자 휘센 제습기 20L 블루 DQ202PBBC 빠른배송   418,270"
      ]
     },
     "execution_count": 34,
     "metadata": {},
     "output_type": "execute_result"
    }
   ],
   "source": [
    "gmarket = pd.DataFrame(dic)\n",
    "gmarket"
   ]
  },
  {
   "cell_type": "markdown",
   "id": "5fb5a240",
   "metadata": {},
   "source": [
    "# 문제4\n",
    "멜론차트에서 1~100위까지 정보를 수집하는 프로그램을 작성하시오."
   ]
  },
  {
   "cell_type": "code",
   "execution_count": 35,
   "id": "59a23936",
   "metadata": {},
   "outputs": [],
   "source": [
    "from selenium import webdriver as wb\n",
    "from selenium.webdriver.common.by import By\n",
    "from selenium.webdriver.common.keys import Keys"
   ]
  },
  {
   "cell_type": "code",
   "execution_count": 36,
   "id": "8bbd7f0b",
   "metadata": {},
   "outputs": [],
   "source": [
    "driver = wb.Chrome()\n",
    "driver.get(\"https://www.melon.com/chart/\")"
   ]
  },
  {
   "cell_type": "code",
   "execution_count": 39,
   "id": "11a70891",
   "metadata": {},
   "outputs": [
    {
     "data": {
      "text/plain": [
       "'밤양갱'"
      ]
     },
     "execution_count": 39,
     "metadata": {},
     "output_type": "execute_result"
    }
   ],
   "source": [
    "title = driver.find_elements(By.CSS_SELECTOR, \"td > div > div > div.ellipsis.rank01 > span > a\")\n",
    "title[0].text"
   ]
  },
  {
   "cell_type": "code",
   "execution_count": 40,
   "id": "458845fa",
   "metadata": {},
   "outputs": [
    {
     "data": {
      "text/plain": [
       "100"
      ]
     },
     "execution_count": 40,
     "metadata": {},
     "output_type": "execute_result"
    }
   ],
   "source": [
    "len(title)"
   ]
  },
  {
   "cell_type": "code",
   "execution_count": 41,
   "id": "e3dd67d5",
   "metadata": {},
   "outputs": [
    {
     "data": {
      "text/plain": [
       "'경서예지, 전건호'"
      ]
     },
     "execution_count": 41,
     "metadata": {},
     "output_type": "execute_result"
    }
   ],
   "source": [
    "singer = driver.find_elements(By.CSS_SELECTOR, \"td > div > div > div.ellipsis.rank02\")\n",
    "singer[84].text"
   ]
  },
  {
   "cell_type": "code",
   "execution_count": 42,
   "id": "d5bdc03b",
   "metadata": {},
   "outputs": [
    {
     "data": {
      "text/plain": [
       "100"
      ]
     },
     "execution_count": 42,
     "metadata": {},
     "output_type": "execute_result"
    }
   ],
   "source": [
    "len(singer)"
   ]
  },
  {
   "cell_type": "code",
   "execution_count": 44,
   "id": "470d2051",
   "metadata": {},
   "outputs": [],
   "source": [
    "title_list=[]\n",
    "singer_list=[]\n",
    "rank_list=[]\n",
    "\n",
    "for i in range(100):\n",
    "    title_list.append(title[i].text)\n",
    "    singer_list.append(singer[i].text)   \n",
    "    rank_list.append(i+1)"
   ]
  },
  {
   "cell_type": "code",
   "execution_count": 45,
   "id": "b1421dda",
   "metadata": {},
   "outputs": [],
   "source": [
    "dic = {\"가수명\":singer_list, \"곡명\":title_list, \"순위\":rank_list}"
   ]
  },
  {
   "cell_type": "code",
   "execution_count": 46,
   "id": "5c1fd727",
   "metadata": {},
   "outputs": [],
   "source": [
    "import pandas as pd"
   ]
  },
  {
   "cell_type": "code",
   "execution_count": 49,
   "id": "cee7643b",
   "metadata": {},
   "outputs": [
    {
     "data": {
      "text/html": [
       "<div>\n",
       "<style scoped>\n",
       "    .dataframe tbody tr th:only-of-type {\n",
       "        vertical-align: middle;\n",
       "    }\n",
       "\n",
       "    .dataframe tbody tr th {\n",
       "        vertical-align: top;\n",
       "    }\n",
       "\n",
       "    .dataframe thead th {\n",
       "        text-align: right;\n",
       "    }\n",
       "</style>\n",
       "<table border=\"1\" class=\"dataframe\">\n",
       "  <thead>\n",
       "    <tr style=\"text-align: right;\">\n",
       "      <th></th>\n",
       "      <th>가수명</th>\n",
       "      <th>곡명</th>\n",
       "    </tr>\n",
       "    <tr>\n",
       "      <th>순위</th>\n",
       "      <th></th>\n",
       "      <th></th>\n",
       "    </tr>\n",
       "  </thead>\n",
       "  <tbody>\n",
       "    <tr>\n",
       "      <th>1</th>\n",
       "      <td>비비 (BIBI)</td>\n",
       "      <td>밤양갱</td>\n",
       "    </tr>\n",
       "    <tr>\n",
       "      <th>2</th>\n",
       "      <td>아이유</td>\n",
       "      <td>Love wins all</td>\n",
       "    </tr>\n",
       "    <tr>\n",
       "      <th>3</th>\n",
       "      <td>TWS (투어스)</td>\n",
       "      <td>첫 만남은 계획대로 되지 않아</td>\n",
       "    </tr>\n",
       "    <tr>\n",
       "      <th>4</th>\n",
       "      <td>태연 (TAEYEON)</td>\n",
       "      <td>To. X</td>\n",
       "    </tr>\n",
       "    <tr>\n",
       "      <th>5</th>\n",
       "      <td>아이유</td>\n",
       "      <td>홀씨</td>\n",
       "    </tr>\n",
       "    <tr>\n",
       "      <th>...</th>\n",
       "      <td>...</td>\n",
       "      <td>...</td>\n",
       "    </tr>\n",
       "    <tr>\n",
       "      <th>96</th>\n",
       "      <td>PLAVE</td>\n",
       "      <td>Merry PLLIstmas</td>\n",
       "    </tr>\n",
       "    <tr>\n",
       "      <th>97</th>\n",
       "      <td>안세하</td>\n",
       "      <td>I Love You</td>\n",
       "    </tr>\n",
       "    <tr>\n",
       "      <th>98</th>\n",
       "      <td>STAYC(스테이씨)</td>\n",
       "      <td>Bubble</td>\n",
       "    </tr>\n",
       "    <tr>\n",
       "      <th>99</th>\n",
       "      <td>PLAVE</td>\n",
       "      <td>여섯 번째 여름</td>\n",
       "    </tr>\n",
       "    <tr>\n",
       "      <th>100</th>\n",
       "      <td>탑현</td>\n",
       "      <td>나에게 그대만이</td>\n",
       "    </tr>\n",
       "  </tbody>\n",
       "</table>\n",
       "<p>100 rows × 2 columns</p>\n",
       "</div>"
      ],
      "text/plain": [
       "              가수명                곡명\n",
       "순위                                 \n",
       "1       비비 (BIBI)               밤양갱\n",
       "2             아이유     Love wins all\n",
       "3       TWS (투어스)  첫 만남은 계획대로 되지 않아\n",
       "4    태연 (TAEYEON)             To. X\n",
       "5             아이유                홀씨\n",
       "..            ...               ...\n",
       "96          PLAVE   Merry PLLIstmas\n",
       "97            안세하        I Love You\n",
       "98    STAYC(스테이씨)            Bubble\n",
       "99          PLAVE          여섯 번째 여름\n",
       "100            탑현          나에게 그대만이\n",
       "\n",
       "[100 rows x 2 columns]"
      ]
     },
     "execution_count": 49,
     "metadata": {},
     "output_type": "execute_result"
    }
   ],
   "source": [
    "melon = pd.DataFrame(dic)\n",
    "melon.set_index(\"순위\", inplace=True)\n",
    "melon"
   ]
  },
  {
   "cell_type": "code",
   "execution_count": 50,
   "id": "de526fd2",
   "metadata": {},
   "outputs": [],
   "source": [
    "melon.to_csv(\"멜론차트.csv\", encoding=\"euc-kr\")"
   ]
  },
  {
   "cell_type": "markdown",
   "id": "9c9091fc",
   "metadata": {},
   "source": [
    "# 문제5\n",
    "자동제어를 통해 한솥 페이지에 접속하고 전체 메뉴의 메뉴명 가격정보를 수집할 수 있는 프로그램을 작성하세요 "
   ]
  },
  {
   "cell_type": "code",
   "execution_count": 51,
   "id": "41db6974",
   "metadata": {},
   "outputs": [],
   "source": [
    "from selenium import webdriver as wb\n",
    "from selenium.webdriver.common.by import By\n",
    "from selenium.webdriver.common.keys import Keys"
   ]
  },
  {
   "cell_type": "code",
   "execution_count": 52,
   "id": "a7ee4451",
   "metadata": {},
   "outputs": [],
   "source": [
    "driver = wb.Chrome()"
   ]
  },
  {
   "cell_type": "code",
   "execution_count": 53,
   "id": "437e5d2a",
   "metadata": {},
   "outputs": [],
   "source": [
    "driver.get(\"https://www.hsd.co.kr/menu/menu_list\")"
   ]
  },
  {
   "cell_type": "code",
   "execution_count": 58,
   "id": "1466bbc2",
   "metadata": {},
   "outputs": [],
   "source": [
    "import time"
   ]
  },
  {
   "cell_type": "code",
   "execution_count": 60,
   "id": "3044286d",
   "metadata": {},
   "outputs": [
    {
     "name": "stdout",
     "output_type": "stream",
     "text": [
      "더보기 완료\n"
     ]
    }
   ],
   "source": [
    "try: \n",
    "    for i in range(50):\n",
    "        btn_more = driver.find_element(By.CSS_SELECTOR, \"#btn_more > span > a\")\n",
    "        btn_more.click()\n",
    "        time.sleep(1)\n",
    "except:\n",
    "    print(\"더보기 완료\")"
   ]
  },
  {
   "cell_type": "code",
   "execution_count": 61,
   "id": "bef042d0",
   "metadata": {},
   "outputs": [
    {
     "data": {
      "text/plain": [
       "'해바라기'"
      ]
     },
     "execution_count": 61,
     "metadata": {},
     "output_type": "execute_result"
    }
   ],
   "source": [
    "menu = driver.find_elements(By.CSS_SELECTOR, \"div > div.item-text > h4\")\n",
    "menu[3].text"
   ]
  },
  {
   "cell_type": "code",
   "execution_count": 62,
   "id": "10f79a1f",
   "metadata": {},
   "outputs": [
    {
     "data": {
      "text/plain": [
       "'10,500원'"
      ]
     },
     "execution_count": 62,
     "metadata": {},
     "output_type": "execute_result"
    }
   ],
   "source": [
    "price = driver.find_elements(By.CSS_SELECTOR, \"div > div.item-text > div\")\n",
    "price[4].text"
   ]
  },
  {
   "cell_type": "code",
   "execution_count": 63,
   "id": "512a440e",
   "metadata": {},
   "outputs": [
    {
     "data": {
      "text/plain": [
       "94"
      ]
     },
     "execution_count": 63,
     "metadata": {},
     "output_type": "execute_result"
    }
   ],
   "source": [
    "len(menu)"
   ]
  },
  {
   "cell_type": "code",
   "execution_count": 64,
   "id": "7d9b99e8",
   "metadata": {},
   "outputs": [
    {
     "data": {
      "text/plain": [
       "94"
      ]
     },
     "execution_count": 64,
     "metadata": {},
     "output_type": "execute_result"
    }
   ],
   "source": [
    "len(price)"
   ]
  },
  {
   "cell_type": "code",
   "execution_count": 65,
   "id": "37a4267f",
   "metadata": {},
   "outputs": [],
   "source": [
    "menu_list = []\n",
    "price_list = []\n",
    "\n",
    "for i in range(len(menu)):\n",
    "    menu_list.append(menu[i].text)\n",
    "    price_list.append(price[i].text)    "
   ]
  },
  {
   "cell_type": "code",
   "execution_count": 66,
   "id": "d1772af6",
   "metadata": {},
   "outputs": [],
   "source": [
    "import pandas as pd"
   ]
  },
  {
   "cell_type": "code",
   "execution_count": 67,
   "id": "5cc5650f",
   "metadata": {},
   "outputs": [],
   "source": [
    "dic = {\"메뉴명\":menu_list, \"가격\":price_list}"
   ]
  },
  {
   "cell_type": "code",
   "execution_count": 69,
   "id": "a9ebed22",
   "metadata": {
    "scrolled": true
   },
   "outputs": [
    {
     "data": {
      "text/html": [
       "<div>\n",
       "<style scoped>\n",
       "    .dataframe tbody tr th:only-of-type {\n",
       "        vertical-align: middle;\n",
       "    }\n",
       "\n",
       "    .dataframe tbody tr th {\n",
       "        vertical-align: top;\n",
       "    }\n",
       "\n",
       "    .dataframe thead th {\n",
       "        text-align: right;\n",
       "    }\n",
       "</style>\n",
       "<table border=\"1\" class=\"dataframe\">\n",
       "  <thead>\n",
       "    <tr style=\"text-align: right;\">\n",
       "      <th></th>\n",
       "      <th>메뉴명</th>\n",
       "      <th>가격</th>\n",
       "    </tr>\n",
       "  </thead>\n",
       "  <tbody>\n",
       "    <tr>\n",
       "      <th>0</th>\n",
       "      <td>사골 조랭이떡 만둣국</td>\n",
       "      <td>5,900원</td>\n",
       "    </tr>\n",
       "    <tr>\n",
       "      <th>1</th>\n",
       "      <td>한우 함박스테이크 &amp; 반달 돈까스</td>\n",
       "      <td>8,900원</td>\n",
       "    </tr>\n",
       "    <tr>\n",
       "      <th>2</th>\n",
       "      <td>한우함박스테이크&amp;토네이도소세지</td>\n",
       "      <td>8,900원</td>\n",
       "    </tr>\n",
       "    <tr>\n",
       "      <th>3</th>\n",
       "      <td>해바라기</td>\n",
       "      <td>10,000원</td>\n",
       "    </tr>\n",
       "    <tr>\n",
       "      <th>4</th>\n",
       "      <td>매화</td>\n",
       "      <td>10,500원</td>\n",
       "    </tr>\n",
       "    <tr>\n",
       "      <th>...</th>\n",
       "      <td>...</td>\n",
       "      <td>...</td>\n",
       "    </tr>\n",
       "    <tr>\n",
       "      <th>89</th>\n",
       "      <td>김치</td>\n",
       "      <td>400원</td>\n",
       "    </tr>\n",
       "    <tr>\n",
       "      <th>90</th>\n",
       "      <td>무말랭이 무침</td>\n",
       "      <td>500원</td>\n",
       "    </tr>\n",
       "    <tr>\n",
       "      <th>91</th>\n",
       "      <td>한솥밥</td>\n",
       "      <td>1,000원</td>\n",
       "    </tr>\n",
       "    <tr>\n",
       "      <th>92</th>\n",
       "      <td>현미밥</td>\n",
       "      <td>1,700원</td>\n",
       "    </tr>\n",
       "    <tr>\n",
       "      <th>93</th>\n",
       "      <td>리얼꿀 미니호떡</td>\n",
       "      <td>2,200원</td>\n",
       "    </tr>\n",
       "  </tbody>\n",
       "</table>\n",
       "<p>94 rows × 2 columns</p>\n",
       "</div>"
      ],
      "text/plain": [
       "                   메뉴명       가격\n",
       "0          사골 조랭이떡 만둣국   5,900원\n",
       "1   한우 함박스테이크 & 반달 돈까스   8,900원\n",
       "2     한우함박스테이크&토네이도소세지   8,900원\n",
       "3                 해바라기  10,000원\n",
       "4                   매화  10,500원\n",
       "..                 ...      ...\n",
       "89                  김치     400원\n",
       "90             무말랭이 무침     500원\n",
       "91                 한솥밥   1,000원\n",
       "92                 현미밥   1,700원\n",
       "93            리얼꿀 미니호떡   2,200원\n",
       "\n",
       "[94 rows x 2 columns]"
      ]
     },
     "execution_count": 69,
     "metadata": {},
     "output_type": "execute_result"
    }
   ],
   "source": [
    "hansot = pd.DataFrame(dic)\n",
    "hansot"
   ]
  },
  {
   "cell_type": "code",
   "execution_count": 70,
   "id": "f8f00c56",
   "metadata": {},
   "outputs": [],
   "source": [
    "hansot.to_csv(\"한솥메뉴.csv\", encoding=\"euc-kr\")"
   ]
  },
  {
   "cell_type": "code",
   "execution_count": null,
   "id": "176d8491",
   "metadata": {},
   "outputs": [],
   "source": []
  }
 ],
 "metadata": {
  "kernelspec": {
   "display_name": "Python 3 (ipykernel)",
   "language": "python",
   "name": "python3"
  },
  "language_info": {
   "codemirror_mode": {
    "name": "ipython",
    "version": 3
   },
   "file_extension": ".py",
   "mimetype": "text/x-python",
   "name": "python",
   "nbconvert_exporter": "python",
   "pygments_lexer": "ipython3",
   "version": "3.11.5"
  }
 },
 "nbformat": 4,
 "nbformat_minor": 5
}
