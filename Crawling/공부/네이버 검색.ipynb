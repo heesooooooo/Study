{
 "cells": [
  {
   "cell_type": "code",
   "execution_count": 4,
   "id": "4b670146",
   "metadata": {},
   "outputs": [],
   "source": [
    "import selenium.webdriver as wb\n",
    "from selenium.webdriver.common.by import By\n",
    "from selenium.webdriver.common.keys import Keys"
   ]
  },
  {
   "cell_type": "code",
   "execution_count": 12,
   "id": "fa1900eb",
   "metadata": {},
   "outputs": [],
   "source": [
    "drive = wb.Chrome()"
   ]
  },
  {
   "cell_type": "code",
   "execution_count": 13,
   "id": "5fe7ec41",
   "metadata": {},
   "outputs": [],
   "source": [
    "drive.get(\"http://www.naver.com\")"
   ]
  },
  {
   "cell_type": "code",
   "execution_count": 17,
   "id": "4bd80423",
   "metadata": {},
   "outputs": [],
   "source": [
    "search = drive.find_element(By.CSS_SELECTOR, \"#query\")"
   ]
  },
  {
   "cell_type": "code",
   "execution_count": 18,
   "id": "1760d649",
   "metadata": {},
   "outputs": [],
   "source": [
    "search.send_keys(\"스마트인재개발원\")\n",
    "search.send_keys(Keys.ENTER)"
   ]
  },
  {
   "cell_type": "code",
   "execution_count": null,
   "id": "58375d46",
   "metadata": {},
   "outputs": [],
   "source": []
  }
 ],
 "metadata": {
  "kernelspec": {
   "display_name": "Python 3 (ipykernel)",
   "language": "python",
   "name": "python3"
  },
  "language_info": {
   "codemirror_mode": {
    "name": "ipython",
    "version": 3
   },
   "file_extension": ".py",
   "mimetype": "text/x-python",
   "name": "python",
   "nbconvert_exporter": "python",
   "pygments_lexer": "ipython3",
   "version": "3.11.5"
  }
 },
 "nbformat": 4,
 "nbformat_minor": 5
}
