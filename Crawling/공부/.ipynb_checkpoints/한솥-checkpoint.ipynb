{
 "cells": [
  {
   "cell_type": "code",
   "execution_count": 2,
   "id": "86ae4520",
   "metadata": {},
   "outputs": [],
   "source": [
    "import selenium.webdriver as wb\n",
    "from selenium.webdriver.common.by import By\n",
    "from selenium.webdriver.common.keys import Keys"
   ]
  },
  {
   "cell_type": "code",
   "execution_count": 3,
   "id": "7636af56",
   "metadata": {},
   "outputs": [],
   "source": [
    "driver = wb.Chrome()"
   ]
  },
  {
   "cell_type": "code",
   "execution_count": 4,
   "id": "b6f4665b",
   "metadata": {},
   "outputs": [],
   "source": [
    "driver.get(\"https://www.hsd.co.kr/menu/menu_list\")"
   ]
  },
  {
   "cell_type": "code",
   "execution_count": 11,
   "id": "7bf3f49f",
   "metadata": {},
   "outputs": [],
   "source": [
    "import time"
   ]
  },
  {
   "cell_type": "code",
   "execution_count": 13,
   "id": "08b52302",
   "metadata": {},
   "outputs": [
    {
     "name": "stdout",
     "output_type": "stream",
     "text": [
      "더보기 완료\n"
     ]
    }
   ],
   "source": [
    "try:\n",
    "    for i in range(50):\n",
    "        btn_more = driver.find_element(By.CSS_SELECTOR, \"#btn_more > span > a\")\n",
    "        btn_more.click()\n",
    "        time.sleep(1)\n",
    "except: \n",
    "    print(\"더보기 완료\")"
   ]
  },
  {
   "cell_type": "code",
   "execution_count": 14,
   "id": "fc64f94a",
   "metadata": {},
   "outputs": [],
   "source": [
    "title = driver.find_elements(By.CSS_SELECTOR, \"div > div.item-text > h4\")"
   ]
  },
  {
   "cell_type": "code",
   "execution_count": 15,
   "id": "1f9ac886",
   "metadata": {},
   "outputs": [],
   "source": [
    "price = driver.find_elements(By.CSS_SELECTOR, \"div > div.item-text > div > strong\")"
   ]
  },
  {
   "cell_type": "code",
   "execution_count": 16,
   "id": "8b5ec7e6",
   "metadata": {},
   "outputs": [
    {
     "data": {
      "text/plain": [
       "94"
      ]
     },
     "execution_count": 16,
     "metadata": {},
     "output_type": "execute_result"
    }
   ],
   "source": [
    "len(price)"
   ]
  },
  {
   "cell_type": "code",
   "execution_count": 17,
   "id": "21a3d05e",
   "metadata": {},
   "outputs": [],
   "source": [
    "title_list = []\n",
    "price_list = []\n",
    "\n",
    "for i in range(len(title)):\n",
    "    title_list.append(title[i].text)\n",
    "    price_list.append(price[i].text)    "
   ]
  },
  {
   "cell_type": "code",
   "execution_count": 18,
   "id": "1ead0e16",
   "metadata": {},
   "outputs": [],
   "source": [
    "import pandas as pd"
   ]
  },
  {
   "cell_type": "code",
   "execution_count": 19,
   "id": "d0fb1a07",
   "metadata": {},
   "outputs": [],
   "source": [
    "menu = {'메뉴': title_list, '가격': price_list}"
   ]
  },
  {
   "cell_type": "code",
   "execution_count": 21,
   "id": "d97b20d2",
   "metadata": {},
   "outputs": [],
   "source": [
    "hansot = pd.DataFrame(menu)"
   ]
  },
  {
   "cell_type": "code",
   "execution_count": null,
   "id": "2a651807",
   "metadata": {},
   "outputs": [],
   "source": [
    "hansot.to_csv(\"한솥메뉴.csv\", encoding=\"euc-kr\")"
   ]
  }
 ],
 "metadata": {
  "kernelspec": {
   "display_name": "Python 3 (ipykernel)",
   "language": "python",
   "name": "python3"
  },
  "language_info": {
   "codemirror_mode": {
    "name": "ipython",
    "version": 3
   },
   "file_extension": ".py",
   "mimetype": "text/x-python",
   "name": "python",
   "nbconvert_exporter": "python",
   "pygments_lexer": "ipython3",
   "version": "3.11.5"
  }
 },
 "nbformat": 4,
 "nbformat_minor": 5
}
