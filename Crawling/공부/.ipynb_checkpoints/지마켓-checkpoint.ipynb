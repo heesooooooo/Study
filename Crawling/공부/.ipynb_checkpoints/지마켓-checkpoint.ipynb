{
 "cells": [
  {
   "cell_type": "code",
   "execution_count": 2,
   "id": "3f3191b3",
   "metadata": {},
   "outputs": [],
   "source": [
    "import selenium.webdriver as wb\n",
    "from selenium.webdriver.common.by import By"
   ]
  },
  {
   "cell_type": "code",
   "execution_count": 3,
   "id": "efc2dc14",
   "metadata": {},
   "outputs": [],
   "source": [
    "driver = wb.Chrome()"
   ]
  },
  {
   "cell_type": "code",
   "execution_count": 35,
   "id": "0f304324",
   "metadata": {},
   "outputs": [],
   "source": [
    "driver.get(\"https://www.gmarket.co.kr/n/best\")"
   ]
  },
  {
   "cell_type": "code",
   "execution_count": 20,
   "id": "14c55f4c",
   "metadata": {},
   "outputs": [],
   "source": [
    "img = driver.find_elements(By.CSS_SELECTOR, \"#gBestWrap > div.best-list > ul > li > div.thumb > a > img\")\n",
    "img[0].click()"
   ]
  },
  {
   "cell_type": "code",
   "execution_count": 21,
   "id": "b4c365a4",
   "metadata": {},
   "outputs": [
    {
     "data": {
      "text/plain": [
       "'슈퍼파워 터보 팬 다용도 에어건 크로스건 블랙 무료배송'"
      ]
     },
     "execution_count": 21,
     "metadata": {},
     "output_type": "execute_result"
    }
   ],
   "source": [
    "title = driver.find_element(By.CSS_SELECTOR, \"#itemcase_basic > div.box__item-title > h1\")\n",
    "title.text"
   ]
  },
  {
   "cell_type": "code",
   "execution_count": 25,
   "id": "abe081e9",
   "metadata": {},
   "outputs": [
    {
     "data": {
      "text/plain": [
       "'33,070원'"
      ]
     },
     "execution_count": 25,
     "metadata": {},
     "output_type": "execute_result"
    }
   ],
   "source": [
    "\n",
    "try:\n",
    "    price = driver.find_element(By.CSS_SELECTOR, \"#itemcase_basic > div.box__item-title > div.price > span.price_innerwrap.price_innerwrap-coupon > strong\")\n",
    "except:\n",
    "    price = driver.find_element(By.CSS_SELECTOR,\"#itemcase_basic > div.box__item-title > div.price > span:nth-child(2) > strong\")\n",
    "    \n",
    "price.text"
   ]
  },
  {
   "cell_type": "code",
   "execution_count": 26,
   "id": "7f1555d4",
   "metadata": {},
   "outputs": [],
   "source": [
    "driver.back()"
   ]
  },
  {
   "cell_type": "code",
   "execution_count": 27,
   "id": "99bce48d",
   "metadata": {},
   "outputs": [],
   "source": [
    "from tqdm.notebook import tqdm"
   ]
  },
  {
   "cell_type": "code",
   "execution_count": 32,
   "id": "efb51a8f",
   "metadata": {},
   "outputs": [],
   "source": [
    "import time"
   ]
  },
  {
   "cell_type": "code",
   "execution_count": 36,
   "id": "aa4937c3",
   "metadata": {},
   "outputs": [
    {
     "data": {
      "application/vnd.jupyter.widget-view+json": {
       "model_id": "04148e66d61a442ab629be1c59ffaba8",
       "version_major": 2,
       "version_minor": 0
      },
      "text/plain": [
       "  0%|          | 0/20 [00:00<?, ?it/s]"
      ]
     },
     "metadata": {},
     "output_type": "display_data"
    }
   ],
   "source": [
    "title_list = []\n",
    "price_list = []\n",
    "\n",
    "for i in tqdm(range(20)):\n",
    "    img = driver.find_elements(By.CSS_SELECTOR, \"#gBestWrap > div.best-list > ul > li > div.thumb > a > img\")\n",
    "    img[i].click()\n",
    "    time.sleep(1)\n",
    "    \n",
    "    title = driver.find_element(By.CSS_SELECTOR, \"#itemcase_basic > div.box__item-title > h1\")\n",
    "    try:\n",
    "        price = driver.find_element(By.CSS_SELECTOR, \"#itemcase_basic > div.box__item-title > div.price > span.price_innerwrap.price_innerwrap-coupon > strong\")\n",
    "    except:\n",
    "        price = driver.find_element(By.CSS_SELECTOR,\"#itemcase_basic > div.box__item-title > div.price > span:nth-child(2) > strong\")\n",
    "    \n",
    "    title_list.append(title.text)\n",
    "    price_list.append(price.text)\n",
    "    \n",
    "    driver.back()\n",
    "    time.sleep(1)"
   ]
  },
  {
   "cell_type": "code",
   "execution_count": 37,
   "id": "7ac2dc7f",
   "metadata": {},
   "outputs": [],
   "source": [
    "import pandas as pd"
   ]
  },
  {
   "cell_type": "code",
   "execution_count": 41,
   "id": "090a1353",
   "metadata": {},
   "outputs": [
    {
     "data": {
      "text/html": [
       "<div>\n",
       "<style scoped>\n",
       "    .dataframe tbody tr th:only-of-type {\n",
       "        vertical-align: middle;\n",
       "    }\n",
       "\n",
       "    .dataframe tbody tr th {\n",
       "        vertical-align: top;\n",
       "    }\n",
       "\n",
       "    .dataframe thead th {\n",
       "        text-align: right;\n",
       "    }\n",
       "</style>\n",
       "<table border=\"1\" class=\"dataframe\">\n",
       "  <thead>\n",
       "    <tr style=\"text-align: right;\">\n",
       "      <th></th>\n",
       "      <th>상품명</th>\n",
       "      <th>가격</th>\n",
       "    </tr>\n",
       "  </thead>\n",
       "  <tbody>\n",
       "    <tr>\n",
       "      <th>0</th>\n",
       "      <td>슈퍼파워 터보 팬 다용도 에어건 크로스건 블랙 무료배송</td>\n",
       "      <td>33,070원</td>\n",
       "    </tr>\n",
       "    <tr>\n",
       "      <th>1</th>\n",
       "      <td>(15%+5%쿠폰) 브이빈 겨울마감+봄맞이 BEST신상 데일리룩/가디건/니트/자켓/...</td>\n",
       "      <td>8,000원</td>\n",
       "    </tr>\n",
       "    <tr>\n",
       "      <th>2</th>\n",
       "      <td>못난이 한라봉 4.5kg 혼합과 벌크포장</td>\n",
       "      <td>19,010원</td>\n",
       "    </tr>\n",
       "    <tr>\n",
       "      <th>3</th>\n",
       "      <td>(무료반품) 모노시크/15%5%/봄신상/티셔츠/맨투맨/후드/니트/가디건/남방/세트/...</td>\n",
       "      <td>12,640원</td>\n",
       "    </tr>\n",
       "    <tr>\n",
       "      <th>4</th>\n",
       "      <td>(유니버스클럽 전용 쿠폰적용가 5천원) 메가박스 일반예매권 2D-주중/주말</td>\n",
       "      <td>15,000원</td>\n",
       "    </tr>\n",
       "    <tr>\n",
       "      <th>5</th>\n",
       "      <td>(15+5%쿠폰+역대급SALE) 3990원~봄신상 조거팬츠 빅사이즈4XL 트레이닝 ...</td>\n",
       "      <td>8,000원</td>\n",
       "    </tr>\n",
       "    <tr>\n",
       "      <th>6</th>\n",
       "      <td>한성기업 크래미 몬스터크랩 72g X 15개</td>\n",
       "      <td>13,430원</td>\n",
       "    </tr>\n",
       "    <tr>\n",
       "      <th>7</th>\n",
       "      <td>(쿠폰가 10120원) 아쿠아 휩 페이셜 비누 100g 12개 / 대용량 세안 클렌...</td>\n",
       "      <td>10,120원</td>\n",
       "    </tr>\n",
       "    <tr>\n",
       "      <th>8</th>\n",
       "      <td>1+1+1+1 대용량 디자인 체크 수납 정리가방 드라마속 수납테리어</td>\n",
       "      <td>8,900원</td>\n",
       "    </tr>\n",
       "    <tr>\n",
       "      <th>9</th>\n",
       "      <td>오리온 마켓오 치즈톡 달콤치즈맛 80g x12개 (1박스)</td>\n",
       "      <td>13,200원</td>\n",
       "    </tr>\n",
       "    <tr>\n",
       "      <th>10</th>\n",
       "      <td>바브키즈 10+15% 쿠폰 봄상품 출시 상하복 모음</td>\n",
       "      <td>8,370원</td>\n",
       "    </tr>\n",
       "    <tr>\n",
       "      <th>11</th>\n",
       "      <td>잘풀리는집 나무야나무야 도톰한3겹 순수 27m 30롤 3팩</td>\n",
       "      <td>27,610원</td>\n",
       "    </tr>\n",
       "    <tr>\n",
       "      <th>12</th>\n",
       "      <td>단단한 만생종 양파 5kg(대+중)</td>\n",
       "      <td>7,500원</td>\n",
       "    </tr>\n",
       "    <tr>\n",
       "      <th>13</th>\n",
       "      <td>올리브짜파게티20개+신라면20개</td>\n",
       "      <td>26,930원</td>\n",
       "    </tr>\n",
       "    <tr>\n",
       "      <th>14</th>\n",
       "      <td>매진21회1롤 30미터초특가100%천연펄프트루마리 순수휴지 30롤 3팩</td>\n",
       "      <td>25,340원</td>\n",
       "    </tr>\n",
       "    <tr>\n",
       "      <th>15</th>\n",
       "      <td>((15+5%쿠폰 오늘만 역마진SALE)) 데이뮤즈 봄신상 트렌치코트/점퍼/자켓/팬...</td>\n",
       "      <td>10,970원</td>\n",
       "    </tr>\n",
       "    <tr>\n",
       "      <th>16</th>\n",
       "      <td>비비고 왕교자 1.4KG x2</td>\n",
       "      <td>18,560원</td>\n",
       "    </tr>\n",
       "    <tr>\n",
       "      <th>17</th>\n",
       "      <td>(8510원/2장+사은품+무료배송)(클리어런스) 아디다스 남성 드로즈 1+1 무료배...</td>\n",
       "      <td>8,510원</td>\n",
       "    </tr>\n",
       "    <tr>\n",
       "      <th>18</th>\n",
       "      <td>칠성사이다 350ml 24캔</td>\n",
       "      <td>16,900원</td>\n",
       "    </tr>\n",
       "    <tr>\n",
       "      <th>19</th>\n",
       "      <td>(할인특가) 훈민출판사-엄마랑 벽그림 병풍 (6장 /8장) : 선택구매</td>\n",
       "      <td>59,800원</td>\n",
       "    </tr>\n",
       "  </tbody>\n",
       "</table>\n",
       "</div>"
      ],
      "text/plain": [
       "                                                  상품명       가격\n",
       "0                      슈퍼파워 터보 팬 다용도 에어건 크로스건 블랙 무료배송  33,070원\n",
       "1   (15%+5%쿠폰) 브이빈 겨울마감+봄맞이 BEST신상 데일리룩/가디건/니트/자켓/...   8,000원\n",
       "2                              못난이 한라봉 4.5kg 혼합과 벌크포장  19,010원\n",
       "3   (무료반품) 모노시크/15%5%/봄신상/티셔츠/맨투맨/후드/니트/가디건/남방/세트/...  12,640원\n",
       "4           (유니버스클럽 전용 쿠폰적용가 5천원) 메가박스 일반예매권 2D-주중/주말  15,000원\n",
       "5   (15+5%쿠폰+역대급SALE) 3990원~봄신상 조거팬츠 빅사이즈4XL 트레이닝 ...   8,000원\n",
       "6                            한성기업 크래미 몬스터크랩 72g X 15개  13,430원\n",
       "7   (쿠폰가 10120원) 아쿠아 휩 페이셜 비누 100g 12개 / 대용량 세안 클렌...  10,120원\n",
       "8               1+1+1+1 대용량 디자인 체크 수납 정리가방 드라마속 수납테리어   8,900원\n",
       "9                    오리온 마켓오 치즈톡 달콤치즈맛 80g x12개 (1박스)  13,200원\n",
       "10                       바브키즈 10+15% 쿠폰 봄상품 출시 상하복 모음   8,370원\n",
       "11                   잘풀리는집 나무야나무야 도톰한3겹 순수 27m 30롤 3팩  27,610원\n",
       "12                                단단한 만생종 양파 5kg(대+중)   7,500원\n",
       "13                                  올리브짜파게티20개+신라면20개  26,930원\n",
       "14            매진21회1롤 30미터초특가100%천연펄프트루마리 순수휴지 30롤 3팩  25,340원\n",
       "15  ((15+5%쿠폰 오늘만 역마진SALE)) 데이뮤즈 봄신상 트렌치코트/점퍼/자켓/팬...  10,970원\n",
       "16                                   비비고 왕교자 1.4KG x2  18,560원\n",
       "17  (8510원/2장+사은품+무료배송)(클리어런스) 아디다스 남성 드로즈 1+1 무료배...   8,510원\n",
       "18                                    칠성사이다 350ml 24캔  16,900원\n",
       "19            (할인특가) 훈민출판사-엄마랑 벽그림 병풍 (6장 /8장) : 선택구매  59,800원"
      ]
     },
     "execution_count": 41,
     "metadata": {},
     "output_type": "execute_result"
    }
   ],
   "source": [
    "dic= {'상품명': title_list , '가격': price_list}\n",
    "gmarket = pd.DataFrame(dic)\n",
    "gmarket"
   ]
  },
  {
   "cell_type": "code",
   "execution_count": null,
   "id": "ec43c919",
   "metadata": {},
   "outputs": [],
   "source": [
    "gmarket.to_csv(\"지마켓.csv\", encoding=\"euc-kr\")"
   ]
  }
 ],
 "metadata": {
  "kernelspec": {
   "display_name": "Python 3 (ipykernel)",
   "language": "python",
   "name": "python3"
  },
  "language_info": {
   "codemirror_mode": {
    "name": "ipython",
    "version": 3
   },
   "file_extension": ".py",
   "mimetype": "text/x-python",
   "name": "python",
   "nbconvert_exporter": "python",
   "pygments_lexer": "ipython3",
   "version": "3.11.5"
  }
 },
 "nbformat": 4,
 "nbformat_minor": 5
}
