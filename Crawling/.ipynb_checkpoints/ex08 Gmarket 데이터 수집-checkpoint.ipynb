{
 "cells": [
  {
   "cell_type": "code",
   "execution_count": 1,
   "id": "2d2e38ea",
   "metadata": {},
   "outputs": [],
   "source": [
    "from selenium import webdriver as wb\n",
    "from selenium.webdriver.common.by import By\n",
    "import time # 셀레니움이랑은 필수\n",
    "import pandas as pd"
   ]
  },
  {
   "cell_type": "code",
   "execution_count": 12,
   "id": "8adbe166",
   "metadata": {},
   "outputs": [],
   "source": [
    "#1. 크롬브라우저 실행 gmarket사이트로 이동\n",
    "driver = wb.Chrome()\n",
    "driver.get('https://www.gmarket.co.kr/n/best')"
   ]
  },
  {
   "cell_type": "code",
   "execution_count": 4,
   "id": "332bea8c",
   "metadata": {},
   "outputs": [],
   "source": [
    "# 첫번째 상품 수집\n",
    "# 1. 상품을 클릭해서 상세페이지로 이동\n",
    "img = driver.find_elements(By.CSS_SELECTOR, \"#gBestWrap > div.best-list > ul > li > div.thumb > a > img\")\n",
    "img[0].click()"
   ]
  },
  {
   "cell_type": "code",
   "execution_count": 9,
   "id": "dfc546cc",
   "metadata": {},
   "outputs": [
    {
     "data": {
      "text/plain": [
       "'(15%+5%쿠폰) 시크릿무드 역마진 단하루/ 겨울마감+봄맞이 BEST신상 데일리룩 가디건/니트/자켓/팬츠/스커트'"
      ]
     },
     "execution_count": 9,
     "metadata": {},
     "output_type": "execute_result"
    }
   ],
   "source": [
    "#2. 상품명 수집\n",
    "title = driver.find_element(By.CSS_SELECTOR, \"#itemcase_basic > div.box__item-title > h1\")\n",
    "title.text"
   ]
  },
  {
   "cell_type": "code",
   "execution_count": 8,
   "id": "eea803c5",
   "metadata": {},
   "outputs": [
    {
     "data": {
      "text/plain": [
       "'8,000원'"
      ]
     },
     "execution_count": 8,
     "metadata": {},
     "output_type": "execute_result"
    }
   ],
   "source": [
    "#3. 가격수집(쿠폰가)\n",
    "price = driver.find_element(By.CSS_SELECTOR, \"#itemcase_basic > div.box__item-title > div.price > span.price_innerwrap.price_innerwrap-coupon > strong\")\n",
    "price.text"
   ]
  },
  {
   "cell_type": "code",
   "execution_count": 10,
   "id": "cee61200",
   "metadata": {},
   "outputs": [],
   "source": [
    "# 뒤로가기\n",
    "driver.back()"
   ]
  },
  {
   "cell_type": "code",
   "execution_count": 14,
   "id": "f98c68c4",
   "metadata": {},
   "outputs": [],
   "source": [
    "# 파이썬에서 반복문(for)의 진행상황을 체크하는 라이브러리\n",
    "from tqdm.notebook import tqdm"
   ]
  },
  {
   "cell_type": "code",
   "execution_count": 15,
   "id": "ce80e284",
   "metadata": {},
   "outputs": [
    {
     "data": {
      "application/vnd.jupyter.widget-view+json": {
       "model_id": "406cd17dd7594408a260c1e365d90d97",
       "version_major": 2,
       "version_minor": 0
      },
      "text/plain": [
       "  0%|          | 0/20 [00:00<?, ?it/s]"
      ]
     },
     "metadata": {},
     "output_type": "display_data"
    }
   ],
   "source": [
    "# 반복문으로 20개 상품 수집하기\n",
    "title_list = []\n",
    "price_list = []\n",
    "\n",
    "for i in tqdm(range(20)):\n",
    "    img = driver.find_elements(By.CSS_SELECTOR, \"#gBestWrap > div.best-list > ul > li > div.thumb > a > img\")\n",
    "    img[i].click()\n",
    "    time.sleep(1)\n",
    "    # 데이터 수집\n",
    "    title = driver.find_element(By.CSS_SELECTOR, \"#itemcase_basic > div.box__item-title > h1\")\n",
    "    try : \n",
    "        price = driver.find_element(By.CSS_SELECTOR, \"#itemcase_basic > div.box__item-title > div.price > span.price_innerwrap.price_innerwrap-coupon > strong\")\n",
    "    except :\n",
    "        price = driver.find_element(By.CSS_SELECTOR, \"#itemcase_basic > div.box__item-title > div.price > span.price_innerwrap > strong\")\n",
    "    \n",
    "    # 데이터 저장\n",
    "    # 상품 한개씩 들어가서 하는 거니까 title[i] 아니고 그냥 title.text\n",
    "    title_list.append(title.text)\n",
    "    price_list.append(price.text)\n",
    "    driver.back()\n",
    "    time.sleep(1)"
   ]
  },
  {
   "cell_type": "code",
   "execution_count": null,
   "id": "e7a491ea",
   "metadata": {},
   "outputs": [],
   "source": [
    "# 데이터프레임, csv"
   ]
  },
  {
   "cell_type": "code",
   "execution_count": null,
   "id": "63c30930",
   "metadata": {},
   "outputs": [],
   "source": []
  },
  {
   "cell_type": "code",
   "execution_count": null,
   "id": "d09f11a0",
   "metadata": {},
   "outputs": [],
   "source": []
  }
 ],
 "metadata": {
  "kernelspec": {
   "display_name": "Python 3 (ipykernel)",
   "language": "python",
   "name": "python3"
  },
  "language_info": {
   "codemirror_mode": {
    "name": "ipython",
    "version": 3
   },
   "file_extension": ".py",
   "mimetype": "text/x-python",
   "name": "python",
   "nbconvert_exporter": "python",
   "pygments_lexer": "ipython3",
   "version": "3.11.5"
  }
 },
 "nbformat": 4,
 "nbformat_minor": 5
}
