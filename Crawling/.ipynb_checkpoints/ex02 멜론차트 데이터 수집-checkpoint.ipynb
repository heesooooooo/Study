{
 "cells": [
  {
   "cell_type": "code",
   "execution_count": 1,
   "id": "31637487",
   "metadata": {},
   "outputs": [],
   "source": [
    "import requests as req\n",
    "from bs4 import BeautifulSoup as bs"
   ]
  },
  {
   "cell_type": "code",
   "execution_count": 2,
   "id": "22b47934",
   "metadata": {},
   "outputs": [
    {
     "data": {
      "text/plain": [
       "<Response [406]>"
      ]
     },
     "execution_count": 2,
     "metadata": {},
     "output_type": "execute_result"
    }
   ],
   "source": [
    "#1. 멜론차트 사이트 정보를 요청\n",
    "req.get(\"https://www.melon.com/chart/index.htm\")"
   ]
  },
  {
   "cell_type": "code",
   "execution_count": 3,
   "id": "75f494de",
   "metadata": {},
   "outputs": [],
   "source": [
    "# 응답코드를 확인 -> 200 체크 \n",
    "head = {'User-Agent':'Mozilla/5.0 (Windows NT 10.0; Win64; x64) AppleWebKit/537.36 (KHTML, like Gecko) Chrome/121.0.0.0 Safari/537.36'}\n",
    "res = req.get(\"https://www.melon.com/chart/index.htm\", headers=head)"
   ]
  },
  {
   "cell_type": "code",
   "execution_count": 4,
   "id": "23595632",
   "metadata": {},
   "outputs": [],
   "source": [
    "#3. bs을 통해서 html데이터로 변형\n",
    "soup = bs(res.text, 'lxml')"
   ]
  },
  {
   "cell_type": "code",
   "execution_count": 5,
   "id": "59f840e4",
   "metadata": {},
   "outputs": [],
   "source": [
    "# 크롤링에서 가장 많이 사용하는 선택자\n",
    "# id, class, > (자식), nth-child(n) 가상클래스"
   ]
  },
  {
   "cell_type": "code",
   "execution_count": 6,
   "id": "257c7194",
   "metadata": {},
   "outputs": [
    {
     "data": {
      "text/plain": [
       "[<a href=\"javascript:melon.play.playSong('1000002721',37145732);\" title=\"Love wins all 재생\">Love wins all</a>,\n",
       " <a href=\"javascript:melon.play.playSong('1000002721',37194943);\" title=\"밤양갱 재생\">밤양갱</a>,\n",
       " <a href=\"javascript:melon.play.playSong('1000002721',37140709);\" title=\"첫 만남은 계획대로 되지 않아 재생\">첫 만남은 계획대로 되지 않아</a>,\n",
       " <a href=\"javascript:melon.play.playSong('1000002721',37023625);\" title=\"비의 랩소디 재생\">비의 랩소디</a>,\n",
       " <a href=\"javascript:melon.play.playSong('1000002721',37003911);\" title=\"To. X 재생\">To. X</a>,\n",
       " <a href=\"javascript:melon.play.playSong('1000002721',37098744);\" title=\"Love 119 재생\">Love 119</a>,\n",
       " <a href=\"javascript:melon.play.playSong('1000002721',37053556);\" title=\"에피소드 재생\">에피소드</a>,\n",
       " <a href=\"javascript:melon.play.playSong('1000002721',36910957);\" title=\"Perfect Night 재생\">Perfect Night</a>,\n",
       " <a href=\"javascript:melon.play.playSong('1000002721',36699489);\" title=\"그대만 있다면 (여름날 우리 X 너드커넥션 (Nerd Connection)) 재생\">그대만 있다면 (여름날 우리 X 너드커넥션 (Nerd Connection))</a>,\n",
       " <a href=\"javascript:melon.play.playSong('1000002721',37138464);\" title=\"Super Lady 재생\">Super Lady</a>,\n",
       " <a href=\"javascript:melon.play.playSong('1000002721',37225604);\" title=\"EASY 재생\">EASY</a>,\n",
       " <a href=\"javascript:melon.play.playSong('1000002721',37138471);\" title=\"Wife 재생\">Wife</a>,\n",
       " <a href=\"javascript:melon.play.playSong('1000002721',36956630);\" title=\"Drama 재생\">Drama</a>,\n",
       " <a href=\"javascript:melon.play.playSong('1000002721',36382580);\" title=\"헤어지자 말해요 재생\">헤어지자 말해요</a>,\n",
       " <a href=\"javascript:melon.play.playSong('1000002721',34061322);\" title=\"사랑은 늘 도망가 재생\">사랑은 늘 도망가</a>,\n",
       " <a href=\"javascript:melon.play.playSong('1000002721',37064763);\" title=\"꿈 재생\">꿈</a>,\n",
       " <a href=\"javascript:melon.play.playSong('1000002721',34451383);\" title=\"인사 재생\">인사</a>,\n",
       " <a href=\"javascript:melon.play.playSong('1000002721',36930793);\" title=\"MANIAC 재생\">MANIAC</a>,\n",
       " <a href=\"javascript:melon.play.playSong('1000002721',36502910);\" title=\"모래 알갱이 재생\">모래 알갱이</a>,\n",
       " <a href=\"javascript:melon.play.playSong('1000002721',36617841);\" title=\"Seven (feat. Latto) - Clean Ver. 재생\">Seven (feat. Latto) - Clean Ver.</a>,\n",
       " <a href=\"javascript:melon.play.playSong('1000002721',34908740);\" title=\"우리들의 블루스 재생\">우리들의 블루스</a>,\n",
       " <a href=\"javascript:melon.play.playSong('1000002721',36356993);\" title=\"I AM 재생\">I AM</a>,\n",
       " <a href=\"javascript:melon.play.playSong('1000002721',36855841);\" title=\"Do or Die 재생\">Do or Die</a>,\n",
       " <a href=\"javascript:melon.play.playSong('1000002721',36717264);\" title=\"Get A Guitar 재생\">Get A Guitar</a>,\n",
       " <a href=\"javascript:melon.play.playSong('1000002721',35008524);\" title=\"다시 만날 수 있을까 재생\">다시 만날 수 있을까</a>,\n",
       " <a href=\"javascript:melon.play.playSong('1000002721',32508053);\" title=\"이제 나만 믿어요 재생\">이제 나만 믿어요</a>,\n",
       " <a href=\"javascript:melon.play.playSong('1000002721',35008525);\" title=\"무지개 재생\">무지개</a>,\n",
       " <a href=\"javascript:melon.play.playSong('1000002721',36871671);\" title=\"Baddie 재생\">Baddie</a>,\n",
       " <a href=\"javascript:melon.play.playSong('1000002721',4446485);\" title=\"너의 모든 순간 재생\">너의 모든 순간</a>,\n",
       " <a href=\"javascript:melon.play.playSong('1000002721',36713849);\" title=\"Love Lee 재생\">Love Lee</a>,\n",
       " <a href=\"javascript:melon.play.playSong('1000002721',35834583);\" title=\"London Boy 재생\">London Boy</a>,\n",
       " <a href=\"javascript:melon.play.playSong('1000002721',35008527);\" title=\"아버지 재생\">아버지</a>,\n",
       " <a href=\"javascript:melon.play.playSong('1000002721',35834584);\" title=\"Polaroid 재생\">Polaroid</a>,\n",
       " <a href=\"javascript:melon.play.playSong('1000002721',30232719);\" title=\"예뻤어 재생\">예뻤어</a>,\n",
       " <a href=\"javascript:melon.play.playSong('1000002721',35008534);\" title=\"인생찬가 재생\">인생찬가</a>,\n",
       " <a href=\"javascript:melon.play.playSong('1000002721',36852553);\" title=\"You &amp; Me 재생\">You &amp; Me</a>,\n",
       " <a href=\"javascript:melon.play.playSong('1000002721',36616378);\" title=\"사막에서 꽃을 피우듯 재생\">사막에서 꽃을 피우듯</a>,\n",
       " <a href=\"javascript:melon.play.playSong('1000002721',35008528);\" title=\"A bientot 재생\">A bientot</a>,\n",
       " <a href=\"javascript:melon.play.playSong('1000002721',31927275);\" title=\"한 페이지가 될 수 있게 재생\">한 페이지가 될 수 있게</a>,\n",
       " <a href=\"javascript:melon.play.playSong('1000002721',36595401);\" title=\"잘 지내자, 우리 (여름날 우리 X 로이킴) 재생\">잘 지내자, 우리 (여름날 우리 X 로이킴)</a>,\n",
       " <a href=\"javascript:melon.play.playSong('1000002721',36599950);\" title=\"Super Shy 재생\">Super Shy</a>,\n",
       " <a href=\"javascript:melon.play.playSong('1000002721',36713850);\" title=\"후라이의 꿈 재생\">후라이의 꿈</a>,\n",
       " <a href=\"javascript:melon.play.playSong('1000002721',36430773);\" title=\"퀸카 (Queencard) 재생\">퀸카 (Queencard)</a>,\n",
       " <a href=\"javascript:melon.play.playSong('1000002721',35454426);\" title=\"Hype Boy 재생\">Hype Boy</a>,\n",
       " <a href=\"javascript:melon.play.playSong('1000002721',37138469);\" title=\"나는 아픈 건 딱 질색이니까 재생\">나는 아픈 건 딱 질색이니까</a>,\n",
       " <a href=\"javascript:melon.play.playSong('1000002721',35008532);\" title=\"연애편지 재생\">연애편지</a>,\n",
       " <a href=\"javascript:melon.play.playSong('1000002721',35945927);\" title=\"Ditto 재생\">Ditto</a>,\n",
       " <a href=\"javascript:melon.play.playSong('1000002721',34657844);\" title=\"사랑인가 봐 재생\">사랑인가 봐</a>,\n",
       " <a href=\"javascript:melon.play.playSong('1000002721',36936167);\" title=\"Standing Next to You 재생\">Standing Next to You</a>,\n",
       " <a href=\"javascript:melon.play.playSong('1000002721',37121222);\" title=\"기억해줘요 내 모든 날과 그때를 재생\">기억해줘요 내 모든 날과 그때를</a>,\n",
       " <a href=\"javascript:melon.play.playSong('1000002721',34819473);\" title=\"사건의 지평선 재생\">사건의 지평선</a>,\n",
       " <a href=\"javascript:melon.play.playSong('1000002721',37051616);\" title=\"사랑할 수밖에 재생\">사랑할 수밖에</a>,\n",
       " <a href=\"javascript:melon.play.playSong('1000002721',32061975);\" title=\"어떻게 이별까지 사랑하겠어, 널 사랑하는 거지 재생\">어떻게 이별까지 사랑하겠어, 널 사랑하는 거지</a>,\n",
       " <a href=\"javascript:melon.play.playSong('1000002721',36635522);\" title=\"ETA 재생\">ETA</a>,\n",
       " <a href=\"javascript:melon.play.playSong('1000002721',36062335);\" title=\"그대가 내 안에 박혔다(그내박) 재생\">그대가 내 안에 박혔다(그내박)</a>,\n",
       " <a href=\"javascript:melon.play.playSong('1000002721',37125843);\" title=\"Yes or No (Feat. 허윤진 of LE SSERAFIM, Crush) 재생\">Yes or No (Feat. 허윤진 of LE SSERAFIM, Crush)</a>,\n",
       " <a href=\"javascript:melon.play.playSong('1000002721',36180700);\" title=\"심(心) 재생\">심(心)</a>,\n",
       " <a href=\"javascript:melon.play.playSong('1000002721',4352438);\" title=\"첫 눈 재생\">첫 눈</a>,\n",
       " <a href=\"javascript:melon.play.playSong('1000002721',36334401);\" title=\"사랑하지 않아서 그랬어 재생\">사랑하지 않아서 그랬어</a>,\n",
       " <a href=\"javascript:melon.play.playSong('1000002721',36416114);\" title=\"Spicy 재생\">Spicy</a>,\n",
       " <a href=\"javascript:melon.play.playSong('1000002721',34431086);\" title=\"취중고백 재생\">취중고백</a>,\n",
       " <a href=\"javascript:melon.play.playSong('1000002721',36778869);\" title=\"별 떨어진다 (I Do) 재생\">별 떨어진다 (I Do)</a>,\n",
       " <a href=\"javascript:melon.play.playSong('1000002721',30962526);\" title=\"모든 날, 모든 순간 (Every day, Every Moment) 재생\">모든 날, 모든 순간 (Every day, Every Moment)</a>,\n",
       " <a href=\"javascript:melon.play.playSong('1000002721',36318125);\" title=\"Kitsch 재생\">Kitsch</a>,\n",
       " <a href=\"javascript:melon.play.playSong('1000002721',34847378);\" title=\"LOVE DIVE 재생\">LOVE DIVE</a>,\n",
       " <a href=\"javascript:melon.play.playSong('1000002721',30244931);\" title=\"봄날 재생\">봄날</a>,\n",
       " <a href=\"javascript:melon.play.playSong('1000002721',31666417);\" title=\"주저하는 연인들을 위해 재생\">주저하는 연인들을 위해</a>,\n",
       " <a href=\"javascript:melon.play.playSong('1000002721',36877939);\" title=\"Discord 재생\">Discord</a>,\n",
       " <a href=\"javascript:melon.play.playSong('1000002721',37022702);\" title=\"그대가 있는 곳, 언제 어디든 재생\">그대가 있는 곳, 언제 어디든</a>,\n",
       " <a href=\"javascript:melon.play.playSong('1000002721',32872978);\" title=\"Dynamite 재생\">Dynamite</a>,\n",
       " <a href=\"javascript:melon.play.playSong('1000002721',35640751);\" title=\"I Don't Think That I Like Her 재생\">I Don't Think That I Like Her</a>,\n",
       " <a href=\"javascript:melon.play.playSong('1000002721',36411344);\" title=\"이브, 프시케 그리고 푸른 수염의 아내 재생\">이브, 프시케 그리고 푸른 수염의 아내</a>,\n",
       " <a href=\"javascript:melon.play.playSong('1000002721',36490426);\" title=\"Steal The Show (From “엘리멘탈”) 재생\">Steal The Show (From “엘리멘탈”)</a>,\n",
       " <a href=\"javascript:melon.play.playSong('1000002721',35252996);\" title=\"해요 (2022) 재생\">해요 (2022)</a>,\n",
       " <a href=\"javascript:melon.play.playSong('1000002721',33496587);\" title=\"다정히 내 이름을 부르면 재생\">다정히 내 이름을 부르면</a>,\n",
       " <a href=\"javascript:melon.play.playSong('1000002721',36440243);\" title=\"사랑..그게 뭔데 재생\">사랑..그게 뭔데</a>,\n",
       " <a href=\"javascript:melon.play.playSong('1000002721',36404853);\" title=\"물론 재생\">물론</a>,\n",
       " <a href=\"javascript:melon.play.playSong('1000002721',36391236);\" title=\"손오공 재생\">손오공</a>,\n",
       " <a href=\"javascript:melon.play.playSong('1000002721',36110996);\" title=\"파이팅 해야지 (Feat. 이영지) 재생\">파이팅 해야지 (Feat. 이영지)</a>,\n",
       " <a href=\"javascript:melon.play.playSong('1000002721',37100276);\" title=\"I Love You 재생\">I Love You</a>,\n",
       " <a href=\"javascript:melon.play.playSong('1000002721',36892797);\" title=\"음악의 신 재생\">음악의 신</a>,\n",
       " <a href=\"javascript:melon.play.playSong('1000002721',35546497);\" title=\"After LIKE 재생\">After LIKE</a>,\n",
       " <a href=\"javascript:melon.play.playSong('1000002721',8037843);\" title=\"Dangerously 재생\">Dangerously</a>,\n",
       " <a href=\"javascript:melon.play.playSong('1000002721',36001290);\" title=\"건물 사이에 피어난 장미 (Rose Blossom) 재생\">건물 사이에 피어난 장미 (Rose Blossom)</a>,\n",
       " <a href=\"javascript:melon.play.playSong('1000002721',35985167);\" title=\"OMG 재생\">OMG</a>,\n",
       " <a href=\"javascript:melon.play.playSong('1000002721',36761467);\" title=\"Smoke (Prod. Dynamicduo, Padi) 재생\">Smoke (Prod. Dynamicduo, Padi)</a>,\n",
       " <a href=\"javascript:melon.play.playSong('1000002721',35667692);\" title=\"그중에 그대를 만나 재생\">그중에 그대를 만나</a>,\n",
       " <a href=\"javascript:melon.play.playSong('1000002721',36681074);\" title=\"Fast Forward 재생\">Fast Forward</a>,\n",
       " <a href=\"javascript:melon.play.playSong('1000002721',36852800);\" title=\"Off The Record 재생\">Off The Record</a>,\n",
       " <a href=\"javascript:melon.play.playSong('1000002721',35454425);\" title=\"Attention 재생\">Attention</a>,\n",
       " <a href=\"javascript:melon.play.playSong('1000002721',36699655);\" title=\"Bubble 재생\">Bubble</a>,\n",
       " <a href=\"javascript:melon.play.playSong('1000002721',36411342);\" title=\"UNFORGIVEN (feat. Nile Rodgers) 재생\">UNFORGIVEN (feat. Nile Rodgers)</a>,\n",
       " <a href=\"javascript:melon.play.playSong('1000002721',36518341);\" title=\"나에게 그대만이 재생\">나에게 그대만이</a>,\n",
       " <a href=\"javascript:melon.play.playSong('1000002721',36885746);\" title=\"잠시라도 우리 재생\">잠시라도 우리</a>,\n",
       " <a href=\"javascript:melon.play.playSong('1000002721',33507137);\" title=\"Butter 재생\">Butter</a>,\n",
       " <a href=\"javascript:melon.play.playSong('1000002721',36824901);\" title=\"Either Way 재생\">Either Way</a>,\n",
       " <a href=\"javascript:melon.play.playSong('1000002721',37048498);\" title=\"Merry PLLIstmas 재생\">Merry PLLIstmas</a>,\n",
       " <a href=\"javascript:melon.play.playSong('1000002721',36729687);\" title=\"여섯 번째 여름 재생\">여섯 번째 여름</a>,\n",
       " <a href=\"javascript:melon.play.playSong('1000002721',34360855);\" title=\"눈이 오잖아(Feat.헤이즈) 재생\">눈이 오잖아(Feat.헤이즈)</a>,\n",
       " <a href=\"javascript:melon.play.playSong('1000002721',37225007);\" title=\"와이셔츠를 다렸지 재생\">와이셔츠를 다렸지</a>]"
      ]
     },
     "execution_count": 6,
     "metadata": {},
     "output_type": "execute_result"
    }
   ],
   "source": [
    "#4. 노래제목 수집\n",
    "# 선택자를 수집할 때 클래스 중간에 공백이 있는 경우 -> 클래스가 복수개\n",
    "# 수정방법 : 공백을 지우고 클래스마다 \".\"를 통해서 이어준다.\n",
    "# 수집하고자 하는 태그에 id.class가 없는 경우에는 부모태그를 검사해라\n",
    "# 주의점! 부모태그가 id.class가 없다면 있을때까지 검사를 해야한다.\n",
    "title = soup.select('div.ellipsis.rank01 > span > a') \n",
    "title"
   ]
  },
  {
   "cell_type": "code",
   "execution_count": 7,
   "id": "92f5e1aa",
   "metadata": {},
   "outputs": [],
   "source": [
    "#5. 가수이름 수집\n",
    "singer = soup.select('div.ellipsis.rank02 > span.checkEllipsis')"
   ]
  },
  {
   "cell_type": "code",
   "execution_count": 8,
   "id": "5a414652",
   "metadata": {},
   "outputs": [
    {
     "data": {
      "text/plain": [
       "100"
      ]
     },
     "execution_count": 8,
     "metadata": {},
     "output_type": "execute_result"
    }
   ],
   "source": [
    "# ✨ 데이터의 개수가 정해진 경우에는 반드시 데이터의 길이(개수)를 검증하고 넘어가라\n",
    "# 올바르지 않은 데이터를 수집하면 활용할 때 에러가 발생\n",
    "len(singer)"
   ]
  },
  {
   "cell_type": "code",
   "execution_count": 9,
   "id": "c39362c5",
   "metadata": {},
   "outputs": [
    {
     "ename": "NameError",
     "evalue": "name 'title' is not defined",
     "output_type": "error",
     "traceback": [
      "\u001b[1;31m---------------------------------------------------------------------------\u001b[0m",
      "\u001b[1;31mNameError\u001b[0m                                 Traceback (most recent call last)",
      "Cell \u001b[1;32mIn[9], line 2\u001b[0m\n\u001b[0;32m      1\u001b[0m \u001b[38;5;66;03m# 타이틀의 데이터를 출력\u001b[39;00m\n\u001b[1;32m----> 2\u001b[0m \u001b[38;5;28;01mfor\u001b[39;00m i \u001b[38;5;129;01min\u001b[39;00m title:\n\u001b[0;32m      3\u001b[0m     \u001b[38;5;28mprint\u001b[39m(i\u001b[38;5;241m.\u001b[39mtext)\n",
      "\u001b[1;31mNameError\u001b[0m: name 'title' is not defined"
     ]
    }
   ],
   "source": [
    "# 타이틀의 데이터를 출력\n",
    "for i in title:\n",
    "    print(i.text)"
   ]
  },
  {
   "cell_type": "code",
   "execution_count": null,
   "id": "addc4fc1",
   "metadata": {},
   "outputs": [],
   "source": [
    "# 가수 데이터를 출력\n",
    "for i in singer:\n",
    "    print(i.text)"
   ]
  },
  {
   "cell_type": "code",
   "execution_count": null,
   "id": "0b51809b",
   "metadata": {},
   "outputs": [],
   "source": [
    "title"
   ]
  },
  {
   "cell_type": "code",
   "execution_count": null,
   "id": "f8526171",
   "metadata": {},
   "outputs": [],
   "source": [
    "# 데이터 수집 후, 반드시 필요한 데이터(글자, 컨텐츠)를 저장하는 작업 필수\n",
    "title_list = []\n",
    "singer_list = []\n",
    "\n",
    "for i in title :\n",
    "    title_list.append(i.text)\n",
    "for i in singer :\n",
    "    singer_list.append(i.text)"
   ]
  },
  {
   "cell_type": "code",
   "execution_count": null,
   "id": "6838c396",
   "metadata": {},
   "outputs": [],
   "source": [
    "title_list"
   ]
  },
  {
   "cell_type": "code",
   "execution_count": null,
   "id": "96cc68ca",
   "metadata": {},
   "outputs": [],
   "source": [
    "# 코드의 재사용성, 효율성을 고려한 반복문\n",
    "title_list = []\n",
    "singer_list = []\n",
    "rank_list = []\n",
    "for i in range(len(title)):\n",
    "    title_list.append(title[i].text)\n",
    "    singer_list.append(singer[i].text)\n",
    "    rank_list.append(i+1)"
   ]
  },
  {
   "cell_type": "code",
   "execution_count": null,
   "id": "fa5d4391",
   "metadata": {},
   "outputs": [],
   "source": [
    "singer_list"
   ]
  },
  {
   "cell_type": "code",
   "execution_count": null,
   "id": "9ef5a10f",
   "metadata": {},
   "outputs": [],
   "source": [
    "# 데이터를 활용 (시각화, 실제 파일 저장)\n",
    "import pandas as pd"
   ]
  },
  {
   "cell_type": "code",
   "execution_count": null,
   "id": "6b06c6d6",
   "metadata": {},
   "outputs": [],
   "source": [
    "dic = {'가수이름': singer_list, '노래제목': title_list, '순위': rank_list}"
   ]
  },
  {
   "cell_type": "code",
   "execution_count": null,
   "id": "62ef7dba",
   "metadata": {},
   "outputs": [],
   "source": [
    "melon = pd.DataFrame(dic)"
   ]
  },
  {
   "cell_type": "code",
   "execution_count": null,
   "id": "29788f98",
   "metadata": {},
   "outputs": [],
   "source": [
    "# 원하는 컬럼으로 인덱스를 셋팅\n",
    "# inplace=True : 변경된 설정으로 덮어쓰겠다\n",
    "melon.set_index('순위', inplace=True)"
   ]
  },
  {
   "cell_type": "code",
   "execution_count": null,
   "id": "c1abfcf9",
   "metadata": {},
   "outputs": [],
   "source": [
    "melon"
   ]
  },
  {
   "cell_type": "code",
   "execution_count": null,
   "id": "98b4c5fa",
   "metadata": {},
   "outputs": [],
   "source": [
    "# 실제 파일로 저장(csv)\n",
    "# 한글을 저장할 때 반드시 인코딩\n",
    "# euc-kr / utf-8 / utf-8-sig \n",
    "melon.to_csv('멜론차트.csv', encoding='euc-kr')"
   ]
  },
  {
   "cell_type": "code",
   "execution_count": null,
   "id": "a88cc27a",
   "metadata": {},
   "outputs": [],
   "source": []
  },
  {
   "cell_type": "code",
   "execution_count": null,
   "id": "9ed84cd4",
   "metadata": {},
   "outputs": [],
   "source": []
  },
  {
   "cell_type": "code",
   "execution_count": null,
   "id": "a52a707d",
   "metadata": {},
   "outputs": [],
   "source": []
  }
 ],
 "metadata": {
  "kernelspec": {
   "display_name": "Python 3 (ipykernel)",
   "language": "python",
   "name": "python3"
  },
  "language_info": {
   "codemirror_mode": {
    "name": "ipython",
    "version": 3
   },
   "file_extension": ".py",
   "mimetype": "text/x-python",
   "name": "python",
   "nbconvert_exporter": "python",
   "pygments_lexer": "ipython3",
   "version": "3.11.5"
  }
 },
 "nbformat": 4,
 "nbformat_minor": 5
}
