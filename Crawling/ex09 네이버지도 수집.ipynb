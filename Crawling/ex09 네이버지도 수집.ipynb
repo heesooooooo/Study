{
 "cells": [
  {
   "cell_type": "code",
   "execution_count": 1,
   "id": "642f371f",
   "metadata": {},
   "outputs": [],
   "source": [
    "from selenium import webdriver as wb\n",
    "from selenium.webdriver.common.by import By\n",
    "from selenium.webdriver.common.keys import Keys\n",
    "import time"
   ]
  },
  {
   "cell_type": "code",
   "execution_count": 12,
   "id": "69a9b3fa",
   "metadata": {},
   "outputs": [],
   "source": [
    "driver = wb.Chrome()\n",
    "driver.get(\"https://map.naver.com/p/\")"
   ]
  },
  {
   "cell_type": "code",
   "execution_count": 13,
   "id": "eab9c020",
   "metadata": {},
   "outputs": [],
   "source": [
    "#1. 검색창에 동명동 맛집 검색\n",
    "# 검색창의 id가 매번 변경된다.\n",
    "# id가 아닌 변하지 않는 선택자가 필요하다 (class)\n",
    "search = driver.find_element(By.CSS_SELECTOR, \".input_search\")\n",
    "search.send_keys(\"동명동맛집\")\n",
    "search.send_keys(Keys.ENTER)"
   ]
  },
  {
   "cell_type": "code",
   "execution_count": 15,
   "id": "0fd263d0",
   "metadata": {
    "collapsed": true
   },
   "outputs": [
    {
     "data": {
      "text/plain": [
       "[<selenium.webdriver.remote.webelement.WebElement (session=\"f8f3128355a5444c8dbcd6909ce21ab6\", element=\"1CF32FA50D9083433B6D79AF2489FA8B_element_140\")>,\n",
       " <selenium.webdriver.remote.webelement.WebElement (session=\"f8f3128355a5444c8dbcd6909ce21ab6\", element=\"1CF32FA50D9083433B6D79AF2489FA8B_element_141\")>,\n",
       " <selenium.webdriver.remote.webelement.WebElement (session=\"f8f3128355a5444c8dbcd6909ce21ab6\", element=\"1CF32FA50D9083433B6D79AF2489FA8B_element_142\")>,\n",
       " <selenium.webdriver.remote.webelement.WebElement (session=\"f8f3128355a5444c8dbcd6909ce21ab6\", element=\"1CF32FA50D9083433B6D79AF2489FA8B_element_143\")>,\n",
       " <selenium.webdriver.remote.webelement.WebElement (session=\"f8f3128355a5444c8dbcd6909ce21ab6\", element=\"1CF32FA50D9083433B6D79AF2489FA8B_element_144\")>,\n",
       " <selenium.webdriver.remote.webelement.WebElement (session=\"f8f3128355a5444c8dbcd6909ce21ab6\", element=\"1CF32FA50D9083433B6D79AF2489FA8B_element_145\")>,\n",
       " <selenium.webdriver.remote.webelement.WebElement (session=\"f8f3128355a5444c8dbcd6909ce21ab6\", element=\"1CF32FA50D9083433B6D79AF2489FA8B_element_146\")>,\n",
       " <selenium.webdriver.remote.webelement.WebElement (session=\"f8f3128355a5444c8dbcd6909ce21ab6\", element=\"1CF32FA50D9083433B6D79AF2489FA8B_element_147\")>,\n",
       " <selenium.webdriver.remote.webelement.WebElement (session=\"f8f3128355a5444c8dbcd6909ce21ab6\", element=\"1CF32FA50D9083433B6D79AF2489FA8B_element_148\")>,\n",
       " <selenium.webdriver.remote.webelement.WebElement (session=\"f8f3128355a5444c8dbcd6909ce21ab6\", element=\"1CF32FA50D9083433B6D79AF2489FA8B_element_149\")>]"
      ]
     },
     "execution_count": 15,
     "metadata": {},
     "output_type": "execute_result"
    }
   ],
   "source": [
    "# 가게 이름을 클릭해서 디테일 정보를 확인\n",
    "# 접근이 불가능한 이유는 iframe속의 데이터이기 때문에 \n",
    "title = driver.find_elements(By.CSS_SELECTOR, \"#_pcmap_list_scroll_container > ul > li > div.CHC5F > a > div > div\")\n",
    "title"
   ]
  },
  {
   "cell_type": "code",
   "execution_count": 14,
   "id": "0e4dafce",
   "metadata": {},
   "outputs": [],
   "source": [
    "# 원본데이터에서 원하는 iframe데이터로 변경\n",
    "driver.switch_to.frame(\"searchIframe\")"
   ]
  },
  {
   "cell_type": "code",
   "execution_count": 16,
   "id": "065eb16d",
   "metadata": {},
   "outputs": [],
   "source": [
    "# 첫번째 가게 이름을 클릭 -> 상세정보\n",
    "title[0].click()"
   ]
  },
  {
   "cell_type": "code",
   "execution_count": 21,
   "id": "04d9532b",
   "metadata": {},
   "outputs": [
    {
     "data": {
      "text/plain": [
       "'포카포카'"
      ]
     },
     "execution_count": 21,
     "metadata": {},
     "output_type": "execute_result"
    }
   ],
   "source": [
    "# 상세정보의 가게명을 수집\n",
    "# 상세정보 페이지도 새로운 iframe이라 접근이 불가능\n",
    "title_detail = driver.find_element(By.CSS_SELECTOR, \"#_title > div > span.Fc1rA\")\n",
    "title_detail.text"
   ]
  },
  {
   "cell_type": "code",
   "execution_count": 19,
   "id": "595d0c76",
   "metadata": {},
   "outputs": [],
   "source": [
    "# 상세정보 프레임으로 변경\n",
    "# iframe에서 다른 iframe으로 이동이 불가능 -> 서로 모르는 사이이기 때문\n",
    "# 해결책 : 원본 데이터로 이동 -> 다시 새로운 iframe으로 이동\n",
    "driver.switch_to.default_content()\n",
    "driver.switch_to.frame(\"entryIframe\")"
   ]
  },
  {
   "cell_type": "code",
   "execution_count": 23,
   "id": "306355a9",
   "metadata": {},
   "outputs": [],
   "source": [
    "driver.switch_to.default_content()\n",
    "driver.switch_to.frame(\"searchIframe\")\n",
    "title[1].click()"
   ]
  },
  {
   "cell_type": "code",
   "execution_count": null,
   "id": "558f621c",
   "metadata": {},
   "outputs": [],
   "source": []
  }
 ],
 "metadata": {
  "kernelspec": {
   "display_name": "Python 3 (ipykernel)",
   "language": "python",
   "name": "python3"
  },
  "language_info": {
   "codemirror_mode": {
    "name": "ipython",
    "version": 3
   },
   "file_extension": ".py",
   "mimetype": "text/x-python",
   "name": "python",
   "nbconvert_exporter": "python",
   "pygments_lexer": "ipython3",
   "version": "3.11.5"
  }
 },
 "nbformat": 4,
 "nbformat_minor": 5
}
