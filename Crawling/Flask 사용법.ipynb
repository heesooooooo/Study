{
 "cells": [
  {
   "cell_type": "markdown",
   "id": "7bc20f31",
   "metadata": {},
   "source": [
    "# 1. Flask 사용하기"
   ]
  },
  {
   "cell_type": "markdown",
   "id": "cca19c8e",
   "metadata": {},
   "source": [
    "## 1.1 필요한 라이브러리 설치"
   ]
  },
  {
   "cell_type": "code",
   "execution_count": 1,
   "id": "2ab951da",
   "metadata": {
    "collapsed": true
   },
   "outputs": [
    {
     "name": "stdout",
     "output_type": "stream",
     "text": [
      "Requirement already satisfied: flask in c:\\users\\smhrd\\anaconda3\\lib\\site-packages (2.2.2)\n",
      "Requirement already satisfied: Werkzeug>=2.2.2 in c:\\users\\smhrd\\anaconda3\\lib\\site-packages (from flask) (2.2.3)\n",
      "Requirement already satisfied: Jinja2>=3.0 in c:\\users\\smhrd\\anaconda3\\lib\\site-packages (from flask) (3.1.2)\n",
      "Requirement already satisfied: itsdangerous>=2.0 in c:\\users\\smhrd\\anaconda3\\lib\\site-packages (from flask) (2.0.1)\n",
      "Requirement already satisfied: click>=8.0 in c:\\users\\smhrd\\anaconda3\\lib\\site-packages (from flask) (8.0.4)\n",
      "Requirement already satisfied: colorama in c:\\users\\smhrd\\anaconda3\\lib\\site-packages (from click>=8.0->flask) (0.4.6)\n",
      "Requirement already satisfied: MarkupSafe>=2.0 in c:\\users\\smhrd\\anaconda3\\lib\\site-packages (from Jinja2>=3.0->flask) (2.1.1)\n",
      "Requirement already satisfied: flask_cors in c:\\users\\smhrd\\anaconda3\\lib\\site-packages (4.0.0)\n",
      "Requirement already satisfied: Flask>=0.9 in c:\\users\\smhrd\\anaconda3\\lib\\site-packages (from flask_cors) (2.2.2)\n",
      "Requirement already satisfied: Werkzeug>=2.2.2 in c:\\users\\smhrd\\anaconda3\\lib\\site-packages (from Flask>=0.9->flask_cors) (2.2.3)\n",
      "Requirement already satisfied: Jinja2>=3.0 in c:\\users\\smhrd\\anaconda3\\lib\\site-packages (from Flask>=0.9->flask_cors) (3.1.2)\n",
      "Requirement already satisfied: itsdangerous>=2.0 in c:\\users\\smhrd\\anaconda3\\lib\\site-packages (from Flask>=0.9->flask_cors) (2.0.1)\n",
      "Requirement already satisfied: click>=8.0 in c:\\users\\smhrd\\anaconda3\\lib\\site-packages (from Flask>=0.9->flask_cors) (8.0.4)\n",
      "Requirement already satisfied: colorama in c:\\users\\smhrd\\anaconda3\\lib\\site-packages (from click>=8.0->Flask>=0.9->flask_cors) (0.4.6)\n",
      "Requirement already satisfied: MarkupSafe>=2.0 in c:\\users\\smhrd\\anaconda3\\lib\\site-packages (from Jinja2>=3.0->Flask>=0.9->flask_cors) (2.1.1)\n"
     ]
    }
   ],
   "source": [
    "!pip install flask\n",
    "!pip install flask_cors"
   ]
  },
  {
   "cell_type": "markdown",
   "id": "8f9c581f",
   "metadata": {},
   "source": [
    "## 1.2 라이브러리 import"
   ]
  },
  {
   "cell_type": "code",
   "execution_count": 2,
   "id": "d6786065",
   "metadata": {},
   "outputs": [],
   "source": [
    "# Flask > 서버를 생성해줄 도구\n",
    "# request > 요청에 대한 정보를 가지고 있는\n",
    "# make_response > 응답 객체를 만들어줄 때 사용하는 함수\n",
    "# redirect > 이동해야 하는 페이지가 있을 때 사용\n",
    "from flask import Flask, request\n",
    "# CORS > 동일출처정책을 잡아주는 객체\n",
    "from flask_cors import CORS"
   ]
  },
  {
   "cell_type": "markdown",
   "id": "a9b2adc1",
   "metadata": {},
   "source": [
    "## 1.3 Flask 서버 열어주기"
   ]
  },
  {
   "cell_type": "code",
   "execution_count": 11,
   "id": "06e1971c",
   "metadata": {},
   "outputs": [
    {
     "name": "stdout",
     "output_type": "stream",
     "text": [
      " * Serving Flask app '__main__'\n",
      " * Debug mode: off\n"
     ]
    },
    {
     "name": "stderr",
     "output_type": "stream",
     "text": [
      "WARNING: This is a development server. Do not use it in a production deployment. Use a production WSGI server instead.\n",
      " * Running on http://127.0.0.1:9000\n",
      "Press CTRL+C to quit\n",
      "127.0.0.1 - - [13/Mar/2024 17:26:30] \"GET /?name=우아+우연 HTTP/1.1\" 200 -\n"
     ]
    }
   ],
   "source": [
    "# Flask 객체(==서버를 구동할 객체) 생성\n",
    "app = Flask(__name__)\n",
    "# CORS 허용\n",
    "CORS(app)\n",
    "\n",
    "# 라우터 생성\n",
    "@app.route(\"/\", methods=[\"GET\"])\n",
    "def test():\n",
    "    # 요청데이터 꺼내오기\n",
    "    # get방식일 때 데이터 꺼내오는 방법  \n",
    "    name = request.args.get('name')\n",
    "    # post방식일 때 데이터 꺼내오는 방법\n",
    "    # request.form.get('name값')\n",
    "    \n",
    "    result = img_crawling(name)\n",
    "    \n",
    "    # 비동기통신으로 요청이 들어왔을 때, 돌려줄 데이터가 있다면\n",
    "    return result\n",
    "\n",
    "# app 설정 마무리\n",
    "if __name__ == \"__main__\":\n",
    "    app.run(host=\"127.0.0.1\", port=\"9000\")"
   ]
  },
  {
   "cell_type": "markdown",
   "id": "55bac555",
   "metadata": {},
   "source": [
    "# 2. 크롤링 코드 작성하기"
   ]
  },
  {
   "cell_type": "markdown",
   "id": "1075cab4",
   "metadata": {},
   "source": [
    "## 2.1 필요한 라이브러리 가져오기"
   ]
  },
  {
   "cell_type": "code",
   "execution_count": 6,
   "id": "c1ebf59a",
   "metadata": {},
   "outputs": [],
   "source": [
    "from selenium import webdriver as wb\n",
    "from selenium.webdriver.common.by import By\n",
    "from selenium.webdriver.common.keys import Keys\n",
    "import time"
   ]
  },
  {
   "cell_type": "markdown",
   "id": "a18651cf",
   "metadata": {},
   "source": [
    "## 2.2 코드 작성하기 "
   ]
  },
  {
   "cell_type": "code",
   "execution_count": 10,
   "id": "dc0b7a30",
   "metadata": {},
   "outputs": [],
   "source": [
    "# 지금까지 작성한 코드를 하나의 함수로 만들기\n",
    "    # 사용자가 검색한 값을 매개변수 name으로 받아오기\n",
    "def img_crawling(name):\n",
    "    driver = wb.Chrome()\n",
    "    driver.get(\"https://www.naver.com/\")\n",
    "    search = driver.find_element(By.CSS_SELECTOR, \"#query\")\n",
    "    search.send_keys(name)\n",
    "    search.send_keys(Keys.ENTER)\n",
    "    imgtab = driver.find_element(By.CSS_SELECTOR, \"#lnb > div.lnb_group > div > div.lnb_nav_area._nav_area_root > div > div.api_flicking_wrap._conveyer_root > div:nth-child(1) > a\")\n",
    "    imgtab.click()\n",
    "    time.sleep(0.5)\n",
    "    img = driver.find_elements(By.CSS_SELECTOR, \"#main_pack > section.sc_new.sp_nimage._fe_image_viewer_prepend_target > div.api_subject_bx._fe_image_tab_list_root.ani_fadein > div > div > div.image_tile._fe_image_tab_grid > div > div > div > div > img\")\n",
    "    return img[0].get_attribute(\"src\")"
   ]
  },
  {
   "cell_type": "code",
   "execution_count": 31,
   "id": "853e29db",
   "metadata": {},
   "outputs": [
    {
     "data": {
      "text/plain": [
       "'https://search.pstatic.net/common/?src=http%3A%2F%2Fblogfiles.naver.net%2FMjAyMzExMjRfMjc2%2FMDAxNzAwODA3Nzk0MzEz.K8EV6f38kkIDUaX6efQw_WxiQVndGDfkxgIh8udICaAg.THRUpUdjWvn8Wpe1t9PzdmTDHXz7Q4wj1ZvucTlXsCYg.PNG.uuuuu1997%2F20231124_133104.png&type=a340'"
      ]
     },
     "execution_count": 31,
     "metadata": {},
     "output_type": "execute_result"
    }
   ],
   "source": [
    "# 네이버 페이지 -> 아이유 검색 -> enter -> 이미지 탭 이동 -> 이미지 한 개만 가져오기\n",
    "driver = wb.Chrome()\n",
    "driver.get(\"https://www.naver.com/\")\n",
    "\n",
    "# 아이유 검색\n",
    "search = driver.find_element(By.CSS_SELECTOR, \"#query\")\n",
    "search.send_keys(\"아이유\")\n",
    "search.send_keys(Keys.ENTER)\n",
    "\n",
    "# 이미지 탭 이동\n",
    "imgtab = driver.find_element(By.CSS_SELECTOR, \"#lnb > div.lnb_group > div > div.lnb_nav_area._nav_area_root > div > div.api_flicking_wrap._conveyer_root > div:nth-child(1) > a\")\n",
    "imgtab.click()\n",
    "\n",
    "# 0.5초 쉬어주기\n",
    "time.sleep(0.5)\n",
    "\n",
    "# 이미지들을 가져오기\n",
    "img = driver.find_elements(By.CSS_SELECTOR, \"#main_pack > section.sc_new.sp_nimage._fe_image_viewer_prepend_target > div.api_subject_bx._fe_image_tab_list_root.ani_fadein > div > div > div.image_tile._fe_image_tab_grid > div > div > div > div > img\")\n",
    "\n",
    "# 첫번째 이미지의 src만 가져오기\n",
    "img[2].get_attribute(\"src\")"
   ]
  },
  {
   "cell_type": "code",
   "execution_count": null,
   "id": "74a0ee51",
   "metadata": {},
   "outputs": [],
   "source": []
  }
 ],
 "metadata": {
  "kernelspec": {
   "display_name": "Python 3 (ipykernel)",
   "language": "python",
   "name": "python3"
  },
  "language_info": {
   "codemirror_mode": {
    "name": "ipython",
    "version": 3
   },
   "file_extension": ".py",
   "mimetype": "text/x-python",
   "name": "python",
   "nbconvert_exporter": "python",
   "pygments_lexer": "ipython3",
   "version": "3.11.5"
  }
 },
 "nbformat": 4,
 "nbformat_minor": 5
}
