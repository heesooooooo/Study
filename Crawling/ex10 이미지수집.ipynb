{
 "cells": [
  {
   "cell_type": "code",
   "execution_count": 1,
   "id": "c4ade223",
   "metadata": {},
   "outputs": [],
   "source": [
    "from selenium import webdriver as wb\n",
    "from selenium.webdriver.common.by import By\n",
    "from selenium.webdriver.common.keys import Keys\n",
    "import time\n",
    "# 파일시스템을 위한 라이브러리(파일, 폴더를 삭제/생성하는 라이브러리)\n",
    "import os\n",
    "# 이미지의 url을 실제 파일로 변환하는 라이브러리\n",
    "from urllib.request import urlretrieve"
   ]
  },
  {
   "cell_type": "code",
   "execution_count": 3,
   "id": "a01f5261",
   "metadata": {},
   "outputs": [],
   "source": [
    "# 바탕화면에 이미지라는 폴더가 없다면, 바탕화면에 이미지 폴더를 만들어라!\n",
    "if not os.path.isdir(\"C:/Users/smhrd/Desktop/이미지\") :\n",
    "    os.mkdir(\"C:/Users/smhrd/Desktop/이미지\")"
   ]
  },
  {
   "cell_type": "code",
   "execution_count": 2,
   "id": "ce4b2419",
   "metadata": {},
   "outputs": [],
   "source": [
    "driver = wb.Chrome()\n",
    "driver.get(\"https://search.naver.com/search.naver?ssc=tab.image.all&where=image&sm=tab_jum&query=%EC%B2%AD%EB%A3%A1\")"
   ]
  },
  {
   "cell_type": "code",
   "execution_count": 5,
   "id": "eeb651d1",
   "metadata": {
    "collapsed": true
   },
   "outputs": [
    {
     "data": {
      "text/plain": [
       "[<selenium.webdriver.remote.webelement.WebElement (session=\"10e8cf62ac0193061ac1e54d578ed6b8\", element=\"78B53788C40AE2F564EB3078E9E09621_element_88\")>,\n",
       " <selenium.webdriver.remote.webelement.WebElement (session=\"10e8cf62ac0193061ac1e54d578ed6b8\", element=\"78B53788C40AE2F564EB3078E9E09621_element_89\")>,\n",
       " <selenium.webdriver.remote.webelement.WebElement (session=\"10e8cf62ac0193061ac1e54d578ed6b8\", element=\"78B53788C40AE2F564EB3078E9E09621_element_90\")>,\n",
       " <selenium.webdriver.remote.webelement.WebElement (session=\"10e8cf62ac0193061ac1e54d578ed6b8\", element=\"78B53788C40AE2F564EB3078E9E09621_element_91\")>,\n",
       " <selenium.webdriver.remote.webelement.WebElement (session=\"10e8cf62ac0193061ac1e54d578ed6b8\", element=\"78B53788C40AE2F564EB3078E9E09621_element_371\")>,\n",
       " <selenium.webdriver.remote.webelement.WebElement (session=\"10e8cf62ac0193061ac1e54d578ed6b8\", element=\"78B53788C40AE2F564EB3078E9E09621_element_92\")>,\n",
       " <selenium.webdriver.remote.webelement.WebElement (session=\"10e8cf62ac0193061ac1e54d578ed6b8\", element=\"78B53788C40AE2F564EB3078E9E09621_element_93\")>,\n",
       " <selenium.webdriver.remote.webelement.WebElement (session=\"10e8cf62ac0193061ac1e54d578ed6b8\", element=\"78B53788C40AE2F564EB3078E9E09621_element_94\")>,\n",
       " <selenium.webdriver.remote.webelement.WebElement (session=\"10e8cf62ac0193061ac1e54d578ed6b8\", element=\"78B53788C40AE2F564EB3078E9E09621_element_372\")>,\n",
       " <selenium.webdriver.remote.webelement.WebElement (session=\"10e8cf62ac0193061ac1e54d578ed6b8\", element=\"78B53788C40AE2F564EB3078E9E09621_element_95\")>,\n",
       " <selenium.webdriver.remote.webelement.WebElement (session=\"10e8cf62ac0193061ac1e54d578ed6b8\", element=\"78B53788C40AE2F564EB3078E9E09621_element_96\")>,\n",
       " <selenium.webdriver.remote.webelement.WebElement (session=\"10e8cf62ac0193061ac1e54d578ed6b8\", element=\"78B53788C40AE2F564EB3078E9E09621_element_373\")>,\n",
       " <selenium.webdriver.remote.webelement.WebElement (session=\"10e8cf62ac0193061ac1e54d578ed6b8\", element=\"78B53788C40AE2F564EB3078E9E09621_element_97\")>,\n",
       " <selenium.webdriver.remote.webelement.WebElement (session=\"10e8cf62ac0193061ac1e54d578ed6b8\", element=\"78B53788C40AE2F564EB3078E9E09621_element_98\")>,\n",
       " <selenium.webdriver.remote.webelement.WebElement (session=\"10e8cf62ac0193061ac1e54d578ed6b8\", element=\"78B53788C40AE2F564EB3078E9E09621_element_374\")>,\n",
       " <selenium.webdriver.remote.webelement.WebElement (session=\"10e8cf62ac0193061ac1e54d578ed6b8\", element=\"78B53788C40AE2F564EB3078E9E09621_element_375\")>,\n",
       " <selenium.webdriver.remote.webelement.WebElement (session=\"10e8cf62ac0193061ac1e54d578ed6b8\", element=\"78B53788C40AE2F564EB3078E9E09621_element_376\")>,\n",
       " <selenium.webdriver.remote.webelement.WebElement (session=\"10e8cf62ac0193061ac1e54d578ed6b8\", element=\"78B53788C40AE2F564EB3078E9E09621_element_377\")>,\n",
       " <selenium.webdriver.remote.webelement.WebElement (session=\"10e8cf62ac0193061ac1e54d578ed6b8\", element=\"78B53788C40AE2F564EB3078E9E09621_element_378\")>,\n",
       " <selenium.webdriver.remote.webelement.WebElement (session=\"10e8cf62ac0193061ac1e54d578ed6b8\", element=\"78B53788C40AE2F564EB3078E9E09621_element_379\")>,\n",
       " <selenium.webdriver.remote.webelement.WebElement (session=\"10e8cf62ac0193061ac1e54d578ed6b8\", element=\"78B53788C40AE2F564EB3078E9E09621_element_380\")>,\n",
       " <selenium.webdriver.remote.webelement.WebElement (session=\"10e8cf62ac0193061ac1e54d578ed6b8\", element=\"78B53788C40AE2F564EB3078E9E09621_element_381\")>,\n",
       " <selenium.webdriver.remote.webelement.WebElement (session=\"10e8cf62ac0193061ac1e54d578ed6b8\", element=\"78B53788C40AE2F564EB3078E9E09621_element_382\")>,\n",
       " <selenium.webdriver.remote.webelement.WebElement (session=\"10e8cf62ac0193061ac1e54d578ed6b8\", element=\"78B53788C40AE2F564EB3078E9E09621_element_383\")>,\n",
       " <selenium.webdriver.remote.webelement.WebElement (session=\"10e8cf62ac0193061ac1e54d578ed6b8\", element=\"78B53788C40AE2F564EB3078E9E09621_element_384\")>,\n",
       " <selenium.webdriver.remote.webelement.WebElement (session=\"10e8cf62ac0193061ac1e54d578ed6b8\", element=\"78B53788C40AE2F564EB3078E9E09621_element_256\")>,\n",
       " <selenium.webdriver.remote.webelement.WebElement (session=\"10e8cf62ac0193061ac1e54d578ed6b8\", element=\"78B53788C40AE2F564EB3078E9E09621_element_385\")>,\n",
       " <selenium.webdriver.remote.webelement.WebElement (session=\"10e8cf62ac0193061ac1e54d578ed6b8\", element=\"78B53788C40AE2F564EB3078E9E09621_element_386\")>,\n",
       " <selenium.webdriver.remote.webelement.WebElement (session=\"10e8cf62ac0193061ac1e54d578ed6b8\", element=\"78B53788C40AE2F564EB3078E9E09621_element_387\")>,\n",
       " <selenium.webdriver.remote.webelement.WebElement (session=\"10e8cf62ac0193061ac1e54d578ed6b8\", element=\"78B53788C40AE2F564EB3078E9E09621_element_388\")>,\n",
       " <selenium.webdriver.remote.webelement.WebElement (session=\"10e8cf62ac0193061ac1e54d578ed6b8\", element=\"78B53788C40AE2F564EB3078E9E09621_element_389\")>,\n",
       " <selenium.webdriver.remote.webelement.WebElement (session=\"10e8cf62ac0193061ac1e54d578ed6b8\", element=\"78B53788C40AE2F564EB3078E9E09621_element_390\")>,\n",
       " <selenium.webdriver.remote.webelement.WebElement (session=\"10e8cf62ac0193061ac1e54d578ed6b8\", element=\"78B53788C40AE2F564EB3078E9E09621_element_391\")>,\n",
       " <selenium.webdriver.remote.webelement.WebElement (session=\"10e8cf62ac0193061ac1e54d578ed6b8\", element=\"78B53788C40AE2F564EB3078E9E09621_element_392\")>,\n",
       " <selenium.webdriver.remote.webelement.WebElement (session=\"10e8cf62ac0193061ac1e54d578ed6b8\", element=\"78B53788C40AE2F564EB3078E9E09621_element_393\")>,\n",
       " <selenium.webdriver.remote.webelement.WebElement (session=\"10e8cf62ac0193061ac1e54d578ed6b8\", element=\"78B53788C40AE2F564EB3078E9E09621_element_394\")>,\n",
       " <selenium.webdriver.remote.webelement.WebElement (session=\"10e8cf62ac0193061ac1e54d578ed6b8\", element=\"78B53788C40AE2F564EB3078E9E09621_element_395\")>,\n",
       " <selenium.webdriver.remote.webelement.WebElement (session=\"10e8cf62ac0193061ac1e54d578ed6b8\", element=\"78B53788C40AE2F564EB3078E9E09621_element_396\")>,\n",
       " <selenium.webdriver.remote.webelement.WebElement (session=\"10e8cf62ac0193061ac1e54d578ed6b8\", element=\"78B53788C40AE2F564EB3078E9E09621_element_397\")>,\n",
       " <selenium.webdriver.remote.webelement.WebElement (session=\"10e8cf62ac0193061ac1e54d578ed6b8\", element=\"78B53788C40AE2F564EB3078E9E09621_element_398\")>,\n",
       " <selenium.webdriver.remote.webelement.WebElement (session=\"10e8cf62ac0193061ac1e54d578ed6b8\", element=\"78B53788C40AE2F564EB3078E9E09621_element_399\")>,\n",
       " <selenium.webdriver.remote.webelement.WebElement (session=\"10e8cf62ac0193061ac1e54d578ed6b8\", element=\"78B53788C40AE2F564EB3078E9E09621_element_400\")>,\n",
       " <selenium.webdriver.remote.webelement.WebElement (session=\"10e8cf62ac0193061ac1e54d578ed6b8\", element=\"78B53788C40AE2F564EB3078E9E09621_element_401\")>,\n",
       " <selenium.webdriver.remote.webelement.WebElement (session=\"10e8cf62ac0193061ac1e54d578ed6b8\", element=\"78B53788C40AE2F564EB3078E9E09621_element_402\")>,\n",
       " <selenium.webdriver.remote.webelement.WebElement (session=\"10e8cf62ac0193061ac1e54d578ed6b8\", element=\"78B53788C40AE2F564EB3078E9E09621_element_403\")>,\n",
       " <selenium.webdriver.remote.webelement.WebElement (session=\"10e8cf62ac0193061ac1e54d578ed6b8\", element=\"78B53788C40AE2F564EB3078E9E09621_element_404\")>,\n",
       " <selenium.webdriver.remote.webelement.WebElement (session=\"10e8cf62ac0193061ac1e54d578ed6b8\", element=\"78B53788C40AE2F564EB3078E9E09621_element_405\")>,\n",
       " <selenium.webdriver.remote.webelement.WebElement (session=\"10e8cf62ac0193061ac1e54d578ed6b8\", element=\"78B53788C40AE2F564EB3078E9E09621_element_406\")>]"
      ]
     },
     "execution_count": 5,
     "metadata": {},
     "output_type": "execute_result"
    }
   ],
   "source": [
    "img = driver.find_elements(By.CSS_SELECTOR, \"#main_pack > section.sc_new.sp_nimage._fe_image_viewer_prepend_target > div.api_subject_bx._fe_image_tab_list_root.ani_fadein > div > div > div.image_tile._fe_image_tab_grid > div > div > div > div > img\")\n",
    "img"
   ]
  },
  {
   "cell_type": "code",
   "execution_count": 7,
   "id": "507f1925",
   "metadata": {},
   "outputs": [
    {
     "data": {
      "text/plain": [
       "'https://search.pstatic.net/common/?src=http%3A%2F%2Fblogfiles.naver.net%2FMjAyMzEyMzBfMjUz%2FMDAxNzAzOTE5NDk1NDk5.S_trNG0V_oeNQB8wdCzKHRQEUgXpkHWy7wULnVzC8b0g.Tm-61E8eOLB3WST7WSBzvqy3Ly27s5Dks8K9TzgFQB4g.JPEG.yunho1124%2F%25A3%25DFb30f804e%25A3%25ADac5a%25A3%25AD4b12%25A3%25AD914e%25A3%25AD3ef1b62effb5.jpeg&type=a340'"
      ]
     },
     "execution_count": 7,
     "metadata": {},
     "output_type": "execute_result"
    }
   ],
   "source": [
    "# 이미지태그의 속성 중에 src를 가져와라!\n",
    "# get_attribute(\"속성\") -> ex) 이미지태그의 src / A태그의 href\n",
    "img[0].get_attribute(\"src\")"
   ]
  },
  {
   "cell_type": "code",
   "execution_count": 8,
   "id": "be1fb391",
   "metadata": {},
   "outputs": [],
   "source": [
    "img_list = []\n",
    "\n",
    "for i in range(len(img)):\n",
    "    img_list.append(img[i].get_attribute(\"src\"))"
   ]
  },
  {
   "cell_type": "code",
   "execution_count": 9,
   "id": "b2570d0a",
   "metadata": {
    "scrolled": true
   },
   "outputs": [
    {
     "data": {
      "text/plain": [
       "['https://search.pstatic.net/common/?src=http%3A%2F%2Fblogfiles.naver.net%2FMjAyMzEyMzBfMjUz%2FMDAxNzAzOTE5NDk1NDk5.S_trNG0V_oeNQB8wdCzKHRQEUgXpkHWy7wULnVzC8b0g.Tm-61E8eOLB3WST7WSBzvqy3Ly27s5Dks8K9TzgFQB4g.JPEG.yunho1124%2F%25A3%25DFb30f804e%25A3%25ADac5a%25A3%25AD4b12%25A3%25AD914e%25A3%25AD3ef1b62effb5.jpeg&type=a340',\n",
       " 'https://search.pstatic.net/common/?src=http%3A%2F%2Fblogfiles.naver.net%2FMjAyNDAxMDlfODkg%2FMDAxNzA0ODA3NjU2NzUw.U96l1nNLrUDi_AuUogcz4yvdrk6PuDwqX6gzCIQwiVog.d6Z_h-lDFS23kRo7qMrFRLybmEknfxNP-KLvDB1ZBLMg.JPEG.33kyokyo33%2F%25C3%25BB%25B7%25E6.JPG&type=a340',\n",
       " 'https://search.pstatic.net/common/?src=http%3A%2F%2Fblogfiles.naver.net%2FMjAyNDAxMDJfMjcg%2FMDAxNzA0MjA3NDcxMTY5.ktvdHTSIcpFZVQRmtezXJd-sMGzYJgf4HuwB_6Bfn6Yg.-5tuAHSfioo5irwHGRZdcbxST3ar6DT28qXCy9fc1oMg.PNG.177sms%2FDALL%25A1%25A4E_2024-01-02_23.57.28_-_In_a_spacious%252C_open_square%252C_a_magnificent_Blue_.png&type=a340',\n",
       " 'https://search.pstatic.net/common/?src=http%3A%2F%2Fblogfiles.naver.net%2FMjAyMzEyMzBfNzQg%2FMDAxNzAzODc5MjQzMDY2.zyhfIcbrOcoux1lb0yhEIYp83v4peQYIKdsG6cDOMDEg.GrtWqUARPEG0nIo7wuhPGj6rc1VWSqe-ZAABCcpVzm4g.JPEG.lowell05%2F%25BA%25ED%25B7%25E7%25B5%25E5%25B7%25A1%25B0%25EF.jpg&type=a340',\n",
       " 'https://search.pstatic.net/common/?src=http%3A%2F%2Fblogfiles.naver.net%2FMjAyMzEyMzBfMjUw%2FMDAxNzAzOTM5OTY1MzEw.xdtvEquu1yh9fRh04c0DYmSsUKSaWVoLUCl2L4HOskUg.xIi2hKV5CL-QWz6LK-hPS9PrViqxJZaBI6Hmxrmvkkkg.JPEG.freddy%2Ffile%25A3%25AD4w0qxVduEHQw1mwxa2sTJFcL.jpg&type=a340',\n",
       " 'https://search.pstatic.net/common/?src=http%3A%2F%2Fblogfiles.naver.net%2FMjAyMzEyMDZfMTk5%2FMDAxNzAxODI5Mzg3NjIw.7h0Y3vlXLkYfVh7l2R4W8XudXkx1zbeA5f_nj0s_S7Ug.oIcxt4-jiTdySaRumCf3IGZG3b4OPzXduyHjyN3kDFcg.JPEG.rmflekakfek%2FScreenshot_2023-12-06_at_09.36.25.jpg&type=a340',\n",
       " 'https://search.pstatic.net/common/?src=http%3A%2F%2Fblogfiles.naver.net%2FMjAyNDAxMTJfMTEw%2FMDAxNzA1MDQ5ODc1MzU4.uvc9q_bu01cFhyuIwkVpZl1_20CBRjnI0Bh_b8Z8wXcg.u4iX3tazj42Dc7O2tC5X5uUZ2DjuQsmDNKKLPn0KuMcg.PNG.dbdbdib888%2Fa-blue-and-dragon-flying-on-the-cloud--full-body-shot-congratulatory-motionh.png&type=a340',\n",
       " 'https://search.pstatic.net/common/?src=http%3A%2F%2Fblogfiles.naver.net%2FMjAyNDAxMDRfOTYg%2FMDAxNzA0MzMwOTAzMTc0.BmZEoFpIedSuhO0_RpB2zga2tsNjqLtVxdL0dprim2sg.8D3fJ28zZN-5jm21SZiptRJo5cwsINicDkFSqAsaE-sg.JPEG.gratias9413%2F%25B0%25A9%25C1%25F8%25B3%25E2%2528%25C3%25BB%25B7%25E6%2529_%25284%2529.jpg&type=a340',\n",
       " 'https://search.pstatic.net/common/?src=http%3A%2F%2Fblogfiles.naver.net%2FMjAyNDAxMTNfMTg5%2FMDAxNzA1MTEwNzY3OTQy.J92lzJQ8p3mChXWzgpgqaA4KqshM32JtWSyPnV2-wewg.HOoWWDqu7zl_YP4JB5u_kooZT5V_JQkXE_6IdVnINVMg.JPEG.youknow117%2F%25A3%25DF11efca37%25A3%25AD1f72%25A3%25AD4e2f%25A3%25AD8141%25A3%25AD7e18b42f46f8.jpeg&type=a340',\n",
       " 'https://search.pstatic.net/common/?src=http%3A%2F%2Fblogfiles.naver.net%2FMjAyMzEyMjFfMTIy%2FMDAxNzAzMTU2MzgzMjUy.KTVVybqVdFEX4GP-gPbQhubZOZLWIQ8VeQnCFprVRu8g.LHj7MMe1BIeCwvsg_gW8Iag44_7TyTEWzNwftVruSyUg.PNG.ckpink%2Fmn.png&type=a340',\n",
       " 'https://search.pstatic.net/common/?src=http%3A%2F%2Fcafefiles.naver.net%2FMjAyNDAxMDFfMTQw%2FMDAxNzA0MDYxMTQxNDkx.F2atmlZSieBczQttgLFHnQUCtEtMdGv74_JGCkPd7cgg.tV6-CdU420RBF94HEjw6gmrqiyyLisCyxJ_BVK7SBV4g.JPEG%2FexternalFile.jpg&type=a340',\n",
       " 'https://search.pstatic.net/common/?src=http%3A%2F%2Fblogfiles.naver.net%2FMjAyNDAxMDJfNTYg%2FMDAxNzA0MTcyMTA1NjA2.jOFvHUDA4vcWsQqdOcnk0M1bnt5E5dwuHeOZ4Me5G4Mg.VdFXOX-F2qOSSPDBE3b_2Fej7I8hmLDRtZCIfE_wtNsg.JPEG.qipaonara%2Fdepositphotos_8236575-stock-illustration-blue-dragon-vector-illustration.jpg&type=a340',\n",
       " 'https://search.pstatic.net/common/?src=http%3A%2F%2Fblogfiles.naver.net%2FMjAyNDAxMDNfMTI2%2FMDAxNzA0MjUxNTMwMjE2.R2RHKRpOrYhkMHo6bDO8OK-kO6uZSEJo5w5TLihlYr0g.AzQE79_CHLbcQUPhCRhR-ppTU3CxoqY279mhy6wVWKMg.JPEG.sexpert88%2F416152739_6928878807239661_5849783613944116204_n.jpg&type=a340',\n",
       " 'https://search.pstatic.net/common/?src=http%3A%2F%2Fblogfiles.naver.net%2FMjAyNDAxMDFfMjQ3%2FMDAxNzA0MDcyMzQyNTc5.ln0uQCdyqMetdcyJxqTcba_DrpqH1nF_rRzgpfsU1LAg.l0VSnOwpKG-5C47Sl7wzDWSr3sESQ9TT62qrIB4tDMQg.JPEG.fynnnoh%2F%25C3%25BB%25B7%25E61.jpg&type=a340',\n",
       " 'https://search.pstatic.net/common/?src=http%3A%2F%2Fblogfiles.naver.net%2FMjAyMzA1MjBfNyAg%2FMDAxNjg0NTQ1MjA5Mjky.0jLJE_6V9EY0_ECopqS7NTbsjWSRcek2lzJJMSNkHaog.Ja9tKvL8TQX8t7jVRhjpQ4s5WY4wta2Uh9xX7FvG21kg.JPEG.irossam%2F1684545204778.jpg&type=a340',\n",
       " 'https://search.pstatic.net/common/?src=http%3A%2F%2Fblogfiles.naver.net%2FMjAyMzEyMjZfMTk4%2FMDAxNzAzNTc4NDYzODI2.wV9JxGg1Js-7h72-M50kiLfpIlqrqTzMOJoRixiStPkg.5uxb3C_oTZw4bw1IOERDsmvk6F0fBMP6KpebnHjhEyAg.JPEG.mac_design_plant%2F_4dffeaee-44e3-499c-a062-b8da8dc8518f.jpg&type=a340',\n",
       " 'https://search.pstatic.net/common/?src=http%3A%2F%2Fblogfiles.naver.net%2FMjAyNDAxMTNfMTQg%2FMDAxNzA1MTI3NTU5MjE2.Xrn0QJpQgNRPL5TQtwipgnw7Z-3N_Fbt5eQyBJIg3M4g.q27pkILv-pUYPaEukSivDPeU83Km73Zz41fDbnyAZ4Ug.JPEG.sacheoncity%2F03-%25C1%25B6%25B9%25CE%252C%25C0%25CF%25BF%25F9%25BF%25C0%25BA%25C0%25B5%25B5%25B8%25A6-%25C7%25B0%25C0%25BA-%25BF%25EE%25B7%25E6%25B5%25B5-%252845x85cm%2529.jpg&type=a340',\n",
       " 'https://search.pstatic.net/sunny/?src=https%3A%2F%2Fi1.ruliweb.com%2Fimg%2F23%2F12%2F27%2F18ca6c6958353df16.jpg&type=a340',\n",
       " 'https://search.pstatic.net/common/?src=http%3A%2F%2Fblogfiles.naver.net%2FMjAyMzEyMzFfMTM5%2FMDAxNzA0MDA2MjE2ODI0.Ildocnv8zaRxokL7fF_QeIonir1Yrk-FSbJuGal1e-og.k1ibdyiDLvBr3rOV_CS_FefFnOjbQWD3aWYqMR_bRtUg.JPEG.s2350416%2F1704006215387.jpg&type=a340',\n",
       " 'https://search.pstatic.net/common/?src=http%3A%2F%2Fblogfiles.naver.net%2FMjAyMzEyMzFfMjMy%2FMDAxNzA0MDE5NDI1MDEy.Ze2ek4q5QtZ_Wt_icGXQlHdf6qMWYqDtOuIZkfp2Zvog.WX-Gv8aO25jfaCxqdcYA6cO2gLsS2Vf-xq-rT-YjBWYg.JPEG.bluecorps%2F2024_%25BB%25F5%25C7%25D82.jpg&type=a340',\n",
       " 'https://search.pstatic.net/common/?src=http%3A%2F%2Fblogfiles.naver.net%2FMjAyNDAxMDFfMTU3%2FMDAxNzA0MDc2MzgwODM2.YQ13xiT74xL13yUGry1znAt6FnLXL53JumXh5vrxWZ4g.KugQTi5_siFxckpnEuD4qAy5DH_vfQ1naxsLF2NNhskg.JPEG.bananaplant1%2F1704075374083.jpg&type=a340',\n",
       " 'https://search.pstatic.net/common/?src=http%3A%2F%2Fblogfiles.naver.net%2FMjAyMzEyMjdfODcg%2FMDAxNzAzNjc5MDc2ODMx.gzAZ1CeKqPqsIoFAW0U2trC_NtzsSh-ePsAibr-koC0g.VRs-4MVn3jMnKv-AnN-8MOn17DYdA5i313UTtfJ1cl4g.PNG.okjunte%2F676034192045288317.png&type=a340',\n",
       " 'https://search.pstatic.net/common/?src=http%3A%2F%2Fblogfiles.naver.net%2FMjAyMzEyMjdfNzQg%2FMDAxNzAzNjc1MTQzNDEx.poQumVSEjwTphmn0CkHPKISG6AGkeuf0o5a0Dh2dXYAg.3CDXTQYP946c-KUBjtyAf8kRU-rm9Lbirj4bVLIbllkg.PNG.cleverreply%2Fimage.png&type=a340',\n",
       " 'https://search.pstatic.net/common/?src=http%3A%2F%2Fblogfiles.naver.net%2FMjAyNDAxMDJfMTcz%2FMDAxNzA0MTYxOTYxNTkx.ocs4HFGXpURA26Ctzw2GqgBKTpCuR6WFPxVysJXQ3x0g.c_de23mzkI88dz25_rLjeqODy6PIUc3VbydS6uel_H4g.JPEG.radiopro%2F2024blue_dragon15.jpg&type=a340',\n",
       " 'https://search.pstatic.net/common/?src=http%3A%2F%2Fshop1.phinf.naver.net%2F20240112_272%2F1705047781659sQoWL_JPEG%2F106183670351946838_974759438.jpg&type=a340',\n",
       " 'https://search.pstatic.net/common/?src=http%3A%2F%2Fblogfiles.naver.net%2FMjAyMzEyMzBfODMg%2FMDAxNzAzOTA2MzgzNTk4.5bFVYLrIOg32voPH0Ov7uZYOsnclpqZFm2q1bzCgu9gg.i9tRFVVne8toaDKyJDmYdiAhTk95HxIkKPOOC2PkBYog.JPEG.house_of_plumblossom%2FIMG%25A3%25DF20231230%25A3%25DF121108%25A3%25DF213.jpg&type=a340',\n",
       " 'https://search.pstatic.net/common/?src=http%3A%2F%2Fblogfiles.naver.net%2FMjAyNDAxMDFfOCAg%2FMDAxNzA0MDQxNTMzODM3.QccNXMLwqqJF2EXwi3tstOjDfdiuUx-RZ4EGpA-7vLwg.VupZ1LwsOuynL-gelBZQ3wrOgXgcUEIf-7I0dHdo8Ewg.JPEG.oyes815%2F1704041533475.jpg&type=a340',\n",
       " 'https://search.pstatic.net/common/?src=http%3A%2F%2Fblogfiles.naver.net%2FMjAyMzEyMTRfMjgz%2FMDAxNzAyNTY1OTE0NTU4.0qjUdJUSgHic-UHeMnCESWePoiRRT_d5-kT_y8jroUIg.9W0VILZH42ly4TDeF1E1qdbGs1dR1EiH_TUbnkGtpeUg.JPEG.zziba%2Fpimpona_2024_Blue_Dragon_Year_Bright_Enterprising_Mood_Laughing_8ece2595-0ab.jpg&type=ofullfill340_600_png',\n",
       " 'https://search.pstatic.net/common/?src=http%3A%2F%2Fblogfiles.naver.net%2FMjAyNDAxMDRfNDkg%2FMDAxNzA0Mjk3NTk3NDk0.v0w4dZogRICQM7xv-MyM8QYpWSP1pVsa4SDPuS7O7wQg.TyO1DQesNbSTu1cGtJ5p6k-cXhDfoIPJLq9ZDPTSt9gg.JPEG.sam-gong%2F_97ef585e-233d-49ca-b2ff-3cf777f67e23.jpeg&type=a340',\n",
       " 'https://search.pstatic.net/sunny/?src=https%3A%2F%2Ft1.daumcdn.net%2Fcafeattach%2FUzlo%2Ff838182be771cdb273f93a32c56bbd2263f003d6&type=a340',\n",
       " 'https://search.pstatic.net/common/?src=http%3A%2F%2Fcafefiles.naver.net%2F20120815_16%2Flimhs95007_1345010711883CIFaa_JPEG%2Fnoname01.jpg&type=l340_165',\n",
       " 'https://search.pstatic.net/common/?src=http%3A%2F%2Fblogfiles.naver.net%2FMjAyNDAxMDdfMTE5%2FMDAxNzA0NjM1MDgwODY1.2jWO8iiy7wN806PI4XYX_vNXWZDVYofWG2pHuKg8QHEg.X-5snwGaG-ysq88p-ZKLKExfnYfP8NEuTgn9chpZfbgg.PNG.joodosa%2Fimage.png&type=l340_165',\n",
       " 'https://search.pstatic.net/common/?src=http%3A%2F%2Fblogfiles.naver.net%2FMjAyMzEyMzBfODAg%2FMDAxNzAzOTQyNDU1Mjgw.7dTM2L7lzjLXjOwXMWfneaNZQ9vvd59TzCbo9HC7tyAg.evT0EQpRn-6NKuWy9DW-JNpWTyISaRPan3qy78qkTpIg.JPEG.tae0244%2FKakaoTalk_20231216_205916769_01.jpg&type=a340',\n",
       " 'https://search.pstatic.net/common/?src=http%3A%2F%2Fimgnews.naver.net%2Fimage%2F023%2F2024%2F01%2F12%2F0003810343_010_20240112111706685.jpg&type=a340',\n",
       " 'https://search.pstatic.net/common/?src=http%3A%2F%2Fimgnews.naver.net%2Fimage%2F5773%2F2023%2F12%2F26%2F0000002474_001_20231226183202825.jpg&type=l340_165',\n",
       " 'https://search.pstatic.net/common/?src=http%3A%2F%2Fblogfiles.naver.net%2FMjAyMzEyMzFfMzYg%2FMDAxNzA0MDI5NTAzMTUx.ieTJ0njaSTNdLZ9mrioeG0PLq9s7s8u5tuYsK3XqwaYg.0XxPVtarLuWkJIOreHjt6a4dq6HbVbO0y4movyrj3C8g.JPEG.junek135%2FIMG_6660.JPG&type=a340',\n",
       " 'https://search.pstatic.net/common/?src=http%3A%2F%2Fblogfiles.naver.net%2F20110425_245%2Fleejunki514_1303680467425GlAYE_JPEG%2F%25C3%25BB%25B7%25E6_zleGAME.JPG&type=a340',\n",
       " 'https://search.pstatic.net/common/?src=http%3A%2F%2Fimgnews.naver.net%2Fimage%2F5172%2F2019%2F11%2F21%2F0000595099_001_20191121215601352.jpg&type=a340',\n",
       " 'https://search.pstatic.net/common/?src=http%3A%2F%2Fblogfiles.naver.net%2FMjAyNDAxMjJfMTIg%2FMDAxNzA1ODU0MDUwMTM0.4vlnRNw_JHLnZWgCWaFslOIU6M7TWSCnVZVPuEwhBdQg.uzc4pateaK1J4LkHM5OMilMxgOH0loIhnFL52v7WTvYg.JPEG.muutos_gangnam%2FSNS_%253F%2597%2585%25EB%25A1%259C%25EB%2593%259C%253F%259A%25A91.jpg&type=a340',\n",
       " 'https://search.pstatic.net/common/?src=http%3A%2F%2Fblogfiles.naver.net%2FMjAyNDAxMDFfMTAz%2FMDAxNzA0MDc0NjA1NzAy.UN5nvvR4-tAQEfQn2O0DnP-OwVIDM3jjFx__yKdHqCUg.KxA_vozDNuch72Xbyc0_YpQvmwKtmIVcSUXTDZ-nl0Qg.JPEG.gwoo5952%2F20240101_100757.jpg&type=a340',\n",
       " 'https://search.pstatic.net/common/?src=http%3A%2F%2Fblogfiles.naver.net%2FMjAyNDAxMDlfMjg3%2FMDAxNzA0ODAzODMwODU4.ioAkeHVMBF5nKj7usTIr0Sabb48HY3oaBUhFMHCBQPQg.9sG2179nXWSRBLsJS9eJIz6weGwjUrAbsQntuelJX0og.JPEG.fire1395%2F1704803822825.jpg&type=a340',\n",
       " 'https://search.pstatic.net/common/?src=http%3A%2F%2Fblogfiles.naver.net%2FMjAyNDAxMTBfMjc0%2FMDAxNzA0ODY5MjA1MTIy.4v0kiDtX5giaYGHEwsEKgf_dbEMus3X8jyZeHzfJ_PMg.CXw56i0CfO2pa0-EEmJCo2M-IAWplYz4AnfFoZCAPvgg.JPEG.1006hjy%2FKakaoTalk_20240110_151653810.jpg&type=a340',\n",
       " 'https://search.pstatic.net/common/?src=http%3A%2F%2Fblogfiles.naver.net%2FMjAyMzEyMDVfMjUz%2FMDAxNzAxNzUyODQwMjAy.iwVqnjEsyD2BEyQm999XFbK4lSG871Ep2fIH5874ptMg.ztxmgof_lRRpCxEenYKYSYyZIJQv9yUob6SsEFAU9p4g.JPEG.owy99%2F1%25C3%25BB%25B7%25E6_%25C1%25B6%25B0%25A8%25B5%25B5_%25BE%25DF%25B0%25E6.jpg&type=a340',\n",
       " 'https://search.pstatic.net/common/?src=http%3A%2F%2Fimgnews.naver.net%2Fimage%2F5270%2F2014%2F12%2F18%2F2014121809221454318_20141218092359_1_99_20141218092910.jpg&type=a340',\n",
       " 'data:image/gif;base64,R0lGODlhAQABAIAAAAAAAP///yH5BAEAAAAALAAAAAABAAEAAAIBRAA7',\n",
       " 'data:image/gif;base64,R0lGODlhAQABAIAAAAAAAP///yH5BAEAAAAALAAAAAABAAEAAAIBRAA7',\n",
       " 'data:image/gif;base64,R0lGODlhAQABAIAAAAAAAP///yH5BAEAAAAALAAAAAABAAEAAAIBRAA7',\n",
       " 'data:image/gif;base64,R0lGODlhAQABAIAAAAAAAP///yH5BAEAAAAALAAAAAABAAEAAAIBRAA7']"
      ]
     },
     "execution_count": 9,
     "metadata": {},
     "output_type": "execute_result"
    }
   ],
   "source": [
    "img_list"
   ]
  },
  {
   "cell_type": "code",
   "execution_count": 11,
   "id": "2010d499",
   "metadata": {},
   "outputs": [],
   "source": [
    "# url을 파일로 변환\n",
    "for i in range(len(img_list)):\n",
    "    urlretrieve(img_list[i], \"C:/Users/smhrd/Desktop/이미지/\"+str(i)+\".jpg\")\n"
   ]
  },
  {
   "cell_type": "code",
   "execution_count": null,
   "id": "13f4e98b",
   "metadata": {},
   "outputs": [],
   "source": []
  },
  {
   "cell_type": "code",
   "execution_count": null,
   "id": "f16d4207",
   "metadata": {},
   "outputs": [],
   "source": []
  },
  {
   "cell_type": "code",
   "execution_count": null,
   "id": "af520870",
   "metadata": {},
   "outputs": [],
   "source": []
  },
  {
   "cell_type": "code",
   "execution_count": null,
   "id": "0ea9d4ef",
   "metadata": {},
   "outputs": [],
   "source": []
  }
 ],
 "metadata": {
  "kernelspec": {
   "display_name": "Python 3 (ipykernel)",
   "language": "python",
   "name": "python3"
  },
  "language_info": {
   "codemirror_mode": {
    "name": "ipython",
    "version": 3
   },
   "file_extension": ".py",
   "mimetype": "text/x-python",
   "name": "python",
   "nbconvert_exporter": "python",
   "pygments_lexer": "ipython3",
   "version": "3.11.5"
  }
 },
 "nbformat": 4,
 "nbformat_minor": 5
}
