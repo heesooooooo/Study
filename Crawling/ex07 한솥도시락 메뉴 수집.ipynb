{
 "cells": [
  {
   "cell_type": "code",
   "execution_count": 2,
   "id": "c8533dd7",
   "metadata": {},
   "outputs": [],
   "source": [
    "from selenium import webdriver as wb\n",
    "from selenium.webdriver.common.by import By\n",
    "import pandas"
   ]
  },
  {
   "cell_type": "code",
   "execution_count": 35,
   "id": "e9818d23",
   "metadata": {},
   "outputs": [],
   "source": [
    "#1. 브라우저를 실행하고 사이트로 이동\n",
    "driver = wb.Chrome()\n",
    "driver.get('https://www.hsd.co.kr/menu/menu_list')"
   ]
  },
  {
   "cell_type": "markdown",
   "id": "1245a145",
   "metadata": {},
   "source": [
    "# 예외처리\n",
    "- try : 에러가 나기 전까지 실행할 코드 작성\n",
    "- except : 에러가 났을 때 실행할 코드 작성\n",
    "- 주의점!\n",
    "- 데이터를 수집하는 코드에서 사용할 때는 데이터가 없을 때 \n",
    " '없다'라는 의미의 데이터를 꼭 넣어줘야 한다 -> 데이터의 개수를 맞추기 위해서"
   ]
  },
  {
   "cell_type": "code",
   "execution_count": null,
   "id": "d26c9ddd",
   "metadata": {},
   "outputs": [],
   "source": [
    "# 사람답게 코드를 작성해야 한다.\n",
    "# 클라이언트와 서버간에 요청과 응답사이에는 반드시 시간이 필요\n",
    "# 라이브러리 -> time"
   ]
  },
  {
   "cell_type": "code",
   "execution_count": 34,
   "id": "6550772c",
   "metadata": {},
   "outputs": [],
   "source": [
    "import time"
   ]
  },
  {
   "cell_type": "code",
   "execution_count": 36,
   "id": "2777b2ed",
   "metadata": {},
   "outputs": [
    {
     "name": "stdout",
     "output_type": "stream",
     "text": [
      "더보기가 완료됐습니다.\n"
     ]
    }
   ],
   "source": [
    "try:\n",
    "    for i in range(50) :\n",
    "        btn_more = driver.find_element(By.CSS_SELECTOR, '#btn_more > span > a')\n",
    "        btn_more.click()\n",
    "        time.sleep(1) #초 단위\n",
    "except: \n",
    "    print('더보기가 완료됐습니다.')"
   ]
  },
  {
   "cell_type": "code",
   "execution_count": 22,
   "id": "2d3dff5b",
   "metadata": {
    "collapsed": true
   },
   "outputs": [
    {
     "ename": "ElementNotInteractableException",
     "evalue": "Message: element not interactable\n  (Session info: chrome=121.0.6167.185)\nStacktrace:\n\tGetHandleVerifier [0x00007FF79E577012+3522402]\n\t(No symbol) [0x00007FF79E198352]\n\t(No symbol) [0x00007FF79E04596D]\n\t(No symbol) [0x00007FF79E08D3C6]\n\t(No symbol) [0x00007FF79E081910]\n\t(No symbol) [0x00007FF79E0AF05A]\n\t(No symbol) [0x00007FF79E08120A]\n\t(No symbol) [0x00007FF79E0AF270]\n\t(No symbol) [0x00007FF79E0CBDA3]\n\t(No symbol) [0x00007FF79E0AEE03]\n\t(No symbol) [0x00007FF79E07F4D4]\n\t(No symbol) [0x00007FF79E0805F1]\n\tGetHandleVerifier [0x00007FF79E5A9B9D+3730157]\n\tGetHandleVerifier [0x00007FF79E5FF02D+4079485]\n\tGetHandleVerifier [0x00007FF79E5F75D3+4048163]\n\tGetHandleVerifier [0x00007FF79E2CA649+718233]\n\t(No symbol) [0x00007FF79E1A4A3F]\n\t(No symbol) [0x00007FF79E19FA94]\n\t(No symbol) [0x00007FF79E19FBC2]\n\t(No symbol) [0x00007FF79E18F2E4]\n\tBaseThreadInitThunk [0x00007FFE691B7344+20]\n\tRtlUserThreadStart [0x00007FFE69BE26B1+33]\n",
     "output_type": "error",
     "traceback": [
      "\u001b[1;31m---------------------------------------------------------------------------\u001b[0m",
      "\u001b[1;31mElementNotInteractableException\u001b[0m           Traceback (most recent call last)",
      "Cell \u001b[1;32mIn[22], line 5\u001b[0m\n\u001b[0;32m      3\u001b[0m \u001b[38;5;28;01mfor\u001b[39;00m i \u001b[38;5;129;01min\u001b[39;00m \u001b[38;5;28mrange\u001b[39m(\u001b[38;5;241m50\u001b[39m) :\n\u001b[0;32m      4\u001b[0m     btn_more \u001b[38;5;241m=\u001b[39m driver\u001b[38;5;241m.\u001b[39mfind_element(By\u001b[38;5;241m.\u001b[39mCSS_SELECTOR, \u001b[38;5;124m'\u001b[39m\u001b[38;5;124m#btn_more > span > a\u001b[39m\u001b[38;5;124m'\u001b[39m)\n\u001b[1;32m----> 5\u001b[0m     btn_more\u001b[38;5;241m.\u001b[39mclick()\n",
      "File \u001b[1;32m~\\anaconda3\\Lib\\site-packages\\selenium\\webdriver\\remote\\webelement.py:94\u001b[0m, in \u001b[0;36mWebElement.click\u001b[1;34m(self)\u001b[0m\n\u001b[0;32m     92\u001b[0m \u001b[38;5;28;01mdef\u001b[39;00m \u001b[38;5;21mclick\u001b[39m(\u001b[38;5;28mself\u001b[39m) \u001b[38;5;241m-\u001b[39m\u001b[38;5;241m>\u001b[39m \u001b[38;5;28;01mNone\u001b[39;00m:\n\u001b[0;32m     93\u001b[0m \u001b[38;5;250m    \u001b[39m\u001b[38;5;124;03m\"\"\"Clicks the element.\"\"\"\u001b[39;00m\n\u001b[1;32m---> 94\u001b[0m     \u001b[38;5;28mself\u001b[39m\u001b[38;5;241m.\u001b[39m_execute(Command\u001b[38;5;241m.\u001b[39mCLICK_ELEMENT)\n",
      "File \u001b[1;32m~\\anaconda3\\Lib\\site-packages\\selenium\\webdriver\\remote\\webelement.py:395\u001b[0m, in \u001b[0;36mWebElement._execute\u001b[1;34m(self, command, params)\u001b[0m\n\u001b[0;32m    393\u001b[0m     params \u001b[38;5;241m=\u001b[39m {}\n\u001b[0;32m    394\u001b[0m params[\u001b[38;5;124m\"\u001b[39m\u001b[38;5;124mid\u001b[39m\u001b[38;5;124m\"\u001b[39m] \u001b[38;5;241m=\u001b[39m \u001b[38;5;28mself\u001b[39m\u001b[38;5;241m.\u001b[39m_id\n\u001b[1;32m--> 395\u001b[0m \u001b[38;5;28;01mreturn\u001b[39;00m \u001b[38;5;28mself\u001b[39m\u001b[38;5;241m.\u001b[39m_parent\u001b[38;5;241m.\u001b[39mexecute(command, params)\n",
      "File \u001b[1;32m~\\anaconda3\\Lib\\site-packages\\selenium\\webdriver\\remote\\webdriver.py:347\u001b[0m, in \u001b[0;36mWebDriver.execute\u001b[1;34m(self, driver_command, params)\u001b[0m\n\u001b[0;32m    345\u001b[0m response \u001b[38;5;241m=\u001b[39m \u001b[38;5;28mself\u001b[39m\u001b[38;5;241m.\u001b[39mcommand_executor\u001b[38;5;241m.\u001b[39mexecute(driver_command, params)\n\u001b[0;32m    346\u001b[0m \u001b[38;5;28;01mif\u001b[39;00m response:\n\u001b[1;32m--> 347\u001b[0m     \u001b[38;5;28mself\u001b[39m\u001b[38;5;241m.\u001b[39merror_handler\u001b[38;5;241m.\u001b[39mcheck_response(response)\n\u001b[0;32m    348\u001b[0m     response[\u001b[38;5;124m\"\u001b[39m\u001b[38;5;124mvalue\u001b[39m\u001b[38;5;124m\"\u001b[39m] \u001b[38;5;241m=\u001b[39m \u001b[38;5;28mself\u001b[39m\u001b[38;5;241m.\u001b[39m_unwrap_value(response\u001b[38;5;241m.\u001b[39mget(\u001b[38;5;124m\"\u001b[39m\u001b[38;5;124mvalue\u001b[39m\u001b[38;5;124m\"\u001b[39m, \u001b[38;5;28;01mNone\u001b[39;00m))\n\u001b[0;32m    349\u001b[0m     \u001b[38;5;28;01mreturn\u001b[39;00m response\n",
      "File \u001b[1;32m~\\anaconda3\\Lib\\site-packages\\selenium\\webdriver\\remote\\errorhandler.py:229\u001b[0m, in \u001b[0;36mErrorHandler.check_response\u001b[1;34m(self, response)\u001b[0m\n\u001b[0;32m    227\u001b[0m         alert_text \u001b[38;5;241m=\u001b[39m value[\u001b[38;5;124m\"\u001b[39m\u001b[38;5;124malert\u001b[39m\u001b[38;5;124m\"\u001b[39m]\u001b[38;5;241m.\u001b[39mget(\u001b[38;5;124m\"\u001b[39m\u001b[38;5;124mtext\u001b[39m\u001b[38;5;124m\"\u001b[39m)\n\u001b[0;32m    228\u001b[0m     \u001b[38;5;28;01mraise\u001b[39;00m exception_class(message, screen, stacktrace, alert_text)  \u001b[38;5;66;03m# type: ignore[call-arg]  # mypy is not smart enough here\u001b[39;00m\n\u001b[1;32m--> 229\u001b[0m \u001b[38;5;28;01mraise\u001b[39;00m exception_class(message, screen, stacktrace)\n",
      "\u001b[1;31mElementNotInteractableException\u001b[0m: Message: element not interactable\n  (Session info: chrome=121.0.6167.185)\nStacktrace:\n\tGetHandleVerifier [0x00007FF79E577012+3522402]\n\t(No symbol) [0x00007FF79E198352]\n\t(No symbol) [0x00007FF79E04596D]\n\t(No symbol) [0x00007FF79E08D3C6]\n\t(No symbol) [0x00007FF79E081910]\n\t(No symbol) [0x00007FF79E0AF05A]\n\t(No symbol) [0x00007FF79E08120A]\n\t(No symbol) [0x00007FF79E0AF270]\n\t(No symbol) [0x00007FF79E0CBDA3]\n\t(No symbol) [0x00007FF79E0AEE03]\n\t(No symbol) [0x00007FF79E07F4D4]\n\t(No symbol) [0x00007FF79E0805F1]\n\tGetHandleVerifier [0x00007FF79E5A9B9D+3730157]\n\tGetHandleVerifier [0x00007FF79E5FF02D+4079485]\n\tGetHandleVerifier [0x00007FF79E5F75D3+4048163]\n\tGetHandleVerifier [0x00007FF79E2CA649+718233]\n\t(No symbol) [0x00007FF79E1A4A3F]\n\t(No symbol) [0x00007FF79E19FA94]\n\t(No symbol) [0x00007FF79E19FBC2]\n\t(No symbol) [0x00007FF79E18F2E4]\n\tBaseThreadInitThunk [0x00007FFE691B7344+20]\n\tRtlUserThreadStart [0x00007FFE69BE26B1+33]\n"
     ]
    }
   ],
   "source": [
    "# 더보기를 끝까지 누르는 코드\n",
    "# 코드가 실행되다가 에러가 나는 이유 = 더보기가 더이상 존재하지 않기 때문에\n",
    "# for i in range(50) :\n",
    "#    btn_more = driver.find_element(By.CSS_SELECTOR, '#btn_more > span > a')\n",
    "#    btn_more.click()"
   ]
  },
  {
   "cell_type": "code",
   "execution_count": 37,
   "id": "72a33f6f",
   "metadata": {},
   "outputs": [],
   "source": [
    "#2. 상품명 수집\n",
    "title = driver.find_elements(By.CSS_SELECTOR, 'div > div.item-text > h4')"
   ]
  },
  {
   "cell_type": "code",
   "execution_count": 38,
   "id": "d52f5b10",
   "metadata": {},
   "outputs": [],
   "source": [
    "#3. 상품 가격 수집\n",
    "price = driver.find_elements(By.CSS_SELECTOR, 'div > div.item-text > div > strong')"
   ]
  },
  {
   "cell_type": "code",
   "execution_count": 39,
   "id": "c006f96b",
   "metadata": {},
   "outputs": [
    {
     "data": {
      "text/plain": [
       "94"
      ]
     },
     "execution_count": 39,
     "metadata": {},
     "output_type": "execute_result"
    }
   ],
   "source": [
    "# 데이터의 개수가 다른 이유는 창이 실행될 때 창의 크기, 모니터의 크기, 네트워크의 환경\n",
    "len(title)"
   ]
  },
  {
   "cell_type": "code",
   "execution_count": 28,
   "id": "23d231af",
   "metadata": {},
   "outputs": [
    {
     "data": {
      "text/plain": [
       "94"
      ]
     },
     "execution_count": 28,
     "metadata": {},
     "output_type": "execute_result"
    }
   ],
   "source": [
    "len(price)"
   ]
  },
  {
   "cell_type": "code",
   "execution_count": 40,
   "id": "99e119ff",
   "metadata": {},
   "outputs": [],
   "source": [
    "# 비어있는 리스트에 글자만 담아주는 작업\n",
    "title_list = []\n",
    "price_list = []\n",
    "\n",
    "for i in range(len(title)):\n",
    "    title_list.append(title[i].text)\n",
    "    price_list.append(price[i].text)"
   ]
  },
  {
   "cell_type": "code",
   "execution_count": 41,
   "id": "2141bf6e",
   "metadata": {
    "scrolled": true
   },
   "outputs": [
    {
     "data": {
      "text/plain": [
       "['사골 조랭이떡 만둣국',\n",
       " '한우 함박스테이크 & 반달 돈까스',\n",
       " '한우함박스테이크&토네이도소세지',\n",
       " '해바라기',\n",
       " '매화',\n",
       " '진달래',\n",
       " '개나리',\n",
       " '돈까스도련님 고기고기',\n",
       " '탕수육도련님 고기고기',\n",
       " '새치 고기고기',\n",
       " '돈치 고기고기',\n",
       " '카츠카츠',\n",
       " '숯불직화구이',\n",
       " '소불고기',\n",
       " '메가치킨제육',\n",
       " '칠리 찹쌀탕수육도련님',\n",
       " '동백',\n",
       " '치킨제육',\n",
       " '돈까스도련님',\n",
       " '제육볶음',\n",
       " '돈치스팸',\n",
       " '송정식 떡갈비',\n",
       " '제육 김치찌개 정식',\n",
       " '제육 김치 부대찌개 정식',\n",
       " '돈치스팸 김치 부대찌개 정식',\n",
       " '빅치킨마요 김치 부대찌개 정식',\n",
       " '치킨마요 김치 부대찌개 정식',\n",
       " '빅치킨마요 김치찌개 정식',\n",
       " '치킨마요 김치찌개 정식',\n",
       " '빅새치마요',\n",
       " '새치마요',\n",
       " '메가스팸마요',\n",
       " '스팸마요',\n",
       " '메가치킨마요',\n",
       " '왕치킨마요',\n",
       " '빅치킨마요',\n",
       " '치킨마요',\n",
       " '참치마요',\n",
       " '돈치마요',\n",
       " '돈까스 카레',\n",
       " '잡채볶음밥(중화풍 매운맛)',\n",
       " '잡채볶음밥(오리지널)',\n",
       " '스팸 김치볶음밥',\n",
       " '김치볶음밥',\n",
       " '스팸 철판볶음밥',\n",
       " '소불고기 철판볶음밥',\n",
       " '나시고랭',\n",
       " '묵은지 김치찌개',\n",
       " '김치 부대찌개',\n",
       " '핫 치즈 닭갈비덮밥',\n",
       " '오리지널 치즈 닭갈비덮밥',\n",
       " '숯불직화구이 덮밥',\n",
       " '마파두부 덮밥',\n",
       " '왕카레돈까스덮밥',\n",
       " '새우돈까스 덮밥',\n",
       " '돈까스 덮밥',\n",
       " '아보카도 소불고기 명란 비빔밥',\n",
       " '소불고기 감초고추장 비빔밥',\n",
       " '시골제육 두부강된장 비빔밥',\n",
       " '참치야채 감초고추장 비빔밥',\n",
       " '튼튼도시락',\n",
       " '반찬 묵은지김치찌개',\n",
       " '반찬 카레',\n",
       " '반찬 순살 고등어 간장구이',\n",
       " '반찬 김치 부대찌개',\n",
       " '반찬 치킨',\n",
       " '반찬 고기고기',\n",
       " '반찬 돈까스도련님',\n",
       " '반찬 제육볶음',\n",
       " '반찬 토네이도 소세지',\n",
       " '반찬 돈까스',\n",
       " '치즈버터 해시 포테이토 스틱',\n",
       " '허니버터 해시 포테이토 스틱',\n",
       " '해시 포테이토 스틱',\n",
       " '뉴 감자고로케',\n",
       " '미니 찹쌀핫도그',\n",
       " '미니 찹쌀탕수육',\n",
       " '케이준후라이',\n",
       " '통현미 닭강정(소)',\n",
       " '통현미 닭강정(중)',\n",
       " '후라이드 순살(중)',\n",
       " '후라이드 순살(소)_양념치킨소스',\n",
       " '후라이드 순살(소)_케이준소스',\n",
       " '3종 미니반찬B',\n",
       " '3종 미니반찬A',\n",
       " '오징어젓갈',\n",
       " '한솥 두부강된장소스',\n",
       " '한솥 감초볶음고추장소스',\n",
       " '볶음김치',\n",
       " '김치',\n",
       " '무말랭이 무침',\n",
       " '한솥밥',\n",
       " '현미밥',\n",
       " '리얼꿀 미니호떡']"
      ]
     },
     "execution_count": 41,
     "metadata": {},
     "output_type": "execute_result"
    }
   ],
   "source": [
    "title_list"
   ]
  },
  {
   "cell_type": "code",
   "execution_count": 42,
   "id": "78fca03f",
   "metadata": {},
   "outputs": [],
   "source": [
    "# 데이터프레임으로 표를 제작 -> 딕셔너리 데이터 제작\n",
    "import pandas as pd"
   ]
  },
  {
   "cell_type": "code",
   "execution_count": 45,
   "id": "4fcc5946",
   "metadata": {},
   "outputs": [],
   "source": [
    "dic = {'상품명':title_list, '가격':price_list}"
   ]
  },
  {
   "cell_type": "code",
   "execution_count": 46,
   "id": "6b1be2f1",
   "metadata": {},
   "outputs": [],
   "source": [
    "hansot = pd.DataFrame(dic)"
   ]
  },
  {
   "cell_type": "code",
   "execution_count": null,
   "id": "4b3cbc7c",
   "metadata": {},
   "outputs": [],
   "source": [
    "# 한글이 깨지지 않게 csv로 저장"
   ]
  },
  {
   "cell_type": "code",
   "execution_count": 47,
   "id": "fbff4fe1",
   "metadata": {},
   "outputs": [],
   "source": [
    "hansot.to_csv('한솥메뉴.csv', encoding='euc-kr')"
   ]
  },
  {
   "cell_type": "code",
   "execution_count": null,
   "id": "0942763f",
   "metadata": {},
   "outputs": [],
   "source": []
  },
  {
   "cell_type": "code",
   "execution_count": null,
   "id": "97e2f64e",
   "metadata": {},
   "outputs": [],
   "source": []
  },
  {
   "cell_type": "code",
   "execution_count": null,
   "id": "b485bab9",
   "metadata": {},
   "outputs": [],
   "source": []
  }
 ],
 "metadata": {
  "kernelspec": {
   "display_name": "Python 3 (ipykernel)",
   "language": "python",
   "name": "python3"
  },
  "language_info": {
   "codemirror_mode": {
    "name": "ipython",
    "version": 3
   },
   "file_extension": ".py",
   "mimetype": "text/x-python",
   "name": "python",
   "nbconvert_exporter": "python",
   "pygments_lexer": "ipython3",
   "version": "3.11.5"
  }
 },
 "nbformat": 4,
 "nbformat_minor": 5
}
