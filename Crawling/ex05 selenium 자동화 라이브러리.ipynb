{
 "cells": [
  {
   "cell_type": "code",
   "execution_count": 1,
   "id": "9dfc349f",
   "metadata": {
    "collapsed": true
   },
   "outputs": [
    {
     "name": "stdout",
     "output_type": "stream",
     "text": [
      "Requirement already satisfied: selenium in c:\\users\\smhrd\\anaconda3\\lib\\site-packages (4.18.1)\n",
      "Requirement already satisfied: urllib3[socks]<3,>=1.26 in c:\\users\\smhrd\\anaconda3\\lib\\site-packages (from selenium) (1.26.16)\n",
      "Requirement already satisfied: trio~=0.17 in c:\\users\\smhrd\\anaconda3\\lib\\site-packages (from selenium) (0.24.0)\n",
      "Requirement already satisfied: trio-websocket~=0.9 in c:\\users\\smhrd\\anaconda3\\lib\\site-packages (from selenium) (0.11.1)\n",
      "Requirement already satisfied: certifi>=2021.10.8 in c:\\users\\smhrd\\anaconda3\\lib\\site-packages (from selenium) (2023.7.22)\n",
      "Requirement already satisfied: typing_extensions>=4.9.0 in c:\\users\\smhrd\\anaconda3\\lib\\site-packages (from selenium) (4.9.0)\n",
      "Requirement already satisfied: attrs>=20.1.0 in c:\\users\\smhrd\\anaconda3\\lib\\site-packages (from trio~=0.17->selenium) (22.1.0)\n",
      "Requirement already satisfied: sortedcontainers in c:\\users\\smhrd\\anaconda3\\lib\\site-packages (from trio~=0.17->selenium) (2.4.0)\n",
      "Requirement already satisfied: idna in c:\\users\\smhrd\\anaconda3\\lib\\site-packages (from trio~=0.17->selenium) (3.4)\n",
      "Requirement already satisfied: outcome in c:\\users\\smhrd\\anaconda3\\lib\\site-packages (from trio~=0.17->selenium) (1.3.0.post0)\n",
      "Requirement already satisfied: sniffio>=1.3.0 in c:\\users\\smhrd\\anaconda3\\lib\\site-packages (from trio~=0.17->selenium) (1.3.0)\n",
      "Requirement already satisfied: cffi>=1.14 in c:\\users\\smhrd\\anaconda3\\lib\\site-packages (from trio~=0.17->selenium) (1.15.1)\n",
      "Requirement already satisfied: wsproto>=0.14 in c:\\users\\smhrd\\anaconda3\\lib\\site-packages (from trio-websocket~=0.9->selenium) (1.2.0)\n",
      "Requirement already satisfied: PySocks!=1.5.7,<2.0,>=1.5.6 in c:\\users\\smhrd\\anaconda3\\lib\\site-packages (from urllib3[socks]<3,>=1.26->selenium) (1.7.1)\n",
      "Requirement already satisfied: pycparser in c:\\users\\smhrd\\anaconda3\\lib\\site-packages (from cffi>=1.14->trio~=0.17->selenium) (2.21)\n",
      "Requirement already satisfied: h11<1,>=0.9.0 in c:\\users\\smhrd\\anaconda3\\lib\\site-packages (from wsproto>=0.14->trio-websocket~=0.9->selenium) (0.14.0)\n"
     ]
    }
   ],
   "source": [
    "# 라이브러리 설치\n",
    "# 라이브러리 설치는 한번만 진행 (PC 바뀐 경우에는 새로 설치)\n",
    "!pip install selenium "
   ]
  },
  {
   "cell_type": "code",
   "execution_count": 2,
   "id": "49aa513c",
   "metadata": {},
   "outputs": [],
   "source": [
    "#1. 브라우저 역할을 하는 라이브러리\n",
    "from selenium import webdriver as wb\n",
    "#2. 컴퓨터용 키보드 라이브러리\n",
    "from selenium.webdriver.common.keys import Keys\n",
    "#3. 선택자를 구분지어 주는 라이브러리\n",
    "from selenium.webdriver.common.by import By"
   ]
  },
  {
   "cell_type": "code",
   "execution_count": 3,
   "id": "a8d4c013",
   "metadata": {},
   "outputs": [],
   "source": [
    "#1. 크롬창을 실행\n",
    "# Chrome(\"크롬 드라이버 경로\")\n",
    "# 구버전에서는 크롬드라이버를 설치하라고 나온다. 그러나 신버전은 알아서 설치됨!\n",
    "# 실수로 크롬드라이버를 설치하면 충돌 발생 -> 크롬드라이버 삭제\n",
    "driver = wb.Chrome()"
   ]
  },
  {
   "cell_type": "code",
   "execution_count": 4,
   "id": "11eccee1",
   "metadata": {},
   "outputs": [],
   "source": [
    "#2. 네이버 페이지 요청\n",
    "driver.get('http://www.naver.com')"
   ]
  },
  {
   "cell_type": "code",
   "execution_count": 5,
   "id": "8d9faaf3",
   "metadata": {},
   "outputs": [],
   "source": [
    "#3. 검색창에 \"이강인\" 검색\n",
    "# 검색창 선택\n",
    "search = driver.find_element(By.ID, \"query\")\n",
    "\n",
    "# 구버전 코드 (참고)\n",
    "# driver.find_element_by_id(\"query\")"
   ]
  },
  {
   "cell_type": "code",
   "execution_count": 6,
   "id": "5b2e9661",
   "metadata": {},
   "outputs": [],
   "source": [
    "#4. 검색창에 \"이강인\" 값을 보내줘~\n",
    "search.send_keys('이강인')"
   ]
  },
  {
   "cell_type": "code",
   "execution_count": 7,
   "id": "cee1244d",
   "metadata": {},
   "outputs": [],
   "source": [
    "#4-1. ENTER 눌러보기\n",
    "search.send_keys(Keys.ENTER)"
   ]
  },
  {
   "cell_type": "code",
   "execution_count": 8,
   "id": "1d317dbb",
   "metadata": {},
   "outputs": [],
   "source": [
    "#5. 화면의 스크롤을 최하단으로 이동\n",
    "# body태그에게 키보드의 END값을 보내기\n",
    "body = driver.find_element(By.TAG_NAME,'body')\n",
    "body.send_keys(Keys.END)"
   ]
  },
  {
   "cell_type": "code",
   "execution_count": 9,
   "id": "e68a37f3",
   "metadata": {},
   "outputs": [],
   "source": [
    "#6. 뒤로가기\n",
    "driver.back()"
   ]
  },
  {
   "cell_type": "code",
   "execution_count": 10,
   "id": "d10f9067",
   "metadata": {},
   "outputs": [],
   "source": [
    "#7. 검색창에 손흥민 검색\n",
    "# ** 페이지가 바뀌면 모든 데이터가 초기화 -> 태그, 요소를 반드시 다시 찾아줘야한다.\n",
    "# 클라이언트가 서버에게 새로운 요청을 보내면, 서버는 새로운 데이터를 리턴\n",
    "search = driver.find_element(By.ID, \"query\")\n",
    "search.send_keys(\"손흥민\")"
   ]
  },
  {
   "cell_type": "code",
   "execution_count": 11,
   "id": "43f37e77",
   "metadata": {},
   "outputs": [],
   "source": [
    "#8. 검색버튼 클릭\n",
    "# 선택자를 구분지을때 가장 많이 사용되는 건 CSS_SELECTOR -> 선택자를 그냥 입력\n",
    "btn = driver.find_element(By.CSS_SELECTOR, '#sform > fieldset > button')\n",
    "btn.click()"
   ]
  },
  {
   "cell_type": "code",
   "execution_count": 12,
   "id": "bcad5759",
   "metadata": {},
   "outputs": [],
   "source": [
    "#9. 창을 종료\n",
    "driver.close()"
   ]
  },
  {
   "cell_type": "code",
   "execution_count": 8,
   "id": "4ed34f35",
   "metadata": {},
   "outputs": [
    {
     "data": {
      "text/plain": [
       "[<selenium.webdriver.remote.webelement.WebElement (session=\"e34836cf7b16a1386f34b0593f7308fe\", element=\"97D2A2D4AD0C0F5580756C157DF4408E_element_150\")>,\n",
       " <selenium.webdriver.remote.webelement.WebElement (session=\"e34836cf7b16a1386f34b0593f7308fe\", element=\"97D2A2D4AD0C0F5580756C157DF4408E_element_151\")>,\n",
       " <selenium.webdriver.remote.webelement.WebElement (session=\"e34836cf7b16a1386f34b0593f7308fe\", element=\"97D2A2D4AD0C0F5580756C157DF4408E_element_152\")>,\n",
       " <selenium.webdriver.remote.webelement.WebElement (session=\"e34836cf7b16a1386f34b0593f7308fe\", element=\"97D2A2D4AD0C0F5580756C157DF4408E_element_153\")>]"
      ]
     },
     "execution_count": 8,
     "metadata": {},
     "output_type": "execute_result"
    }
   ],
   "source": [
    "#10. 글자 수집\n",
    "title = driver.find_elements(By.CSS_SELECTOR, 'div.news_wrap.api_ani_send > div > div.news_contents > a.news_tit')\n",
    "title"
   ]
  },
  {
   "cell_type": "code",
   "execution_count": 19,
   "id": "e68b1aa9",
   "metadata": {},
   "outputs": [
    {
     "name": "stdout",
     "output_type": "stream",
     "text": [
      "'하극상 논란' 이강인, 소속팀서 밝은 미소…PSG \"생일 축하해\"\n",
      "음바페, 이강인 생일에 SNS 남긴 메시지는…“생축, 마이 브로”\n",
      "아라치 치킨, 이강인과 모델 계약 연장 안 한다\n",
      "\"이강인 PSG서 방출, FIFA는 이적 금지\"…가짜뉴스 확산\n"
     ]
    }
   ],
   "source": [
    "#11. 순수한 텍스트만 출력\n",
    "title_list = []\n",
    "for i in title:\n",
    "    print(i.text)\n",
    "    title_list.append(i.text)"
   ]
  },
  {
   "cell_type": "code",
   "execution_count": 20,
   "id": "b0f163a2",
   "metadata": {},
   "outputs": [
    {
     "data": {
      "text/plain": [
       "['\\'하극상 논란\\' 이강인, 소속팀서 밝은 미소…PSG \"생일 축하해\"',\n",
       " '음바페, 이강인 생일에 SNS 남긴 메시지는…“생축, 마이 브로”',\n",
       " '아라치 치킨, 이강인과 모델 계약 연장 안 한다',\n",
       " '\"이강인 PSG서 방출, FIFA는 이적 금지\"…가짜뉴스 확산']"
      ]
     },
     "execution_count": 20,
     "metadata": {},
     "output_type": "execute_result"
    }
   ],
   "source": [
    "title_list"
   ]
  },
  {
   "cell_type": "code",
   "execution_count": null,
   "id": "9b45dbdd",
   "metadata": {},
   "outputs": [],
   "source": []
  }
 ],
 "metadata": {
  "kernelspec": {
   "display_name": "Python 3 (ipykernel)",
   "language": "python",
   "name": "python3"
  },
  "language_info": {
   "codemirror_mode": {
    "name": "ipython",
    "version": 3
   },
   "file_extension": ".py",
   "mimetype": "text/x-python",
   "name": "python",
   "nbconvert_exporter": "python",
   "pygments_lexer": "ipython3",
   "version": "3.11.5"
  }
 },
 "nbformat": 4,
 "nbformat_minor": 5
}
