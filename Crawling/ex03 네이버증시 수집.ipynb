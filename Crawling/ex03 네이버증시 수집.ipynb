{
 "cells": [
  {
   "cell_type": "code",
   "execution_count": 1,
   "id": "bb7da0bd",
   "metadata": {},
   "outputs": [],
   "source": [
    "import requests as req\n",
    "from bs4 import BeautifulSoup as bs"
   ]
  },
  {
   "cell_type": "code",
   "execution_count": 3,
   "id": "2bd8b51b",
   "metadata": {},
   "outputs": [],
   "source": [
    "#1. req를 활용해서 페이지 정보를 요청\n",
    "res = req.get('https://finance.naver.com/sise/sise_market_sum.naver')"
   ]
  },
  {
   "cell_type": "code",
   "execution_count": 6,
   "id": "7549d98b",
   "metadata": {},
   "outputs": [],
   "source": [
    "#2. bs를 통해서 soup데이터로 변형\n",
    "soup = bs(res.text, 'lxml')"
   ]
  },
  {
   "cell_type": "code",
   "execution_count": 11,
   "id": "08ca3ee6",
   "metadata": {},
   "outputs": [],
   "source": [
    "#3. 종목명을 수집\n",
    "title = soup.select('a.tltle')"
   ]
  },
  {
   "cell_type": "code",
   "execution_count": 12,
   "id": "a18b7878",
   "metadata": {},
   "outputs": [
    {
     "data": {
      "text/plain": [
       "50"
      ]
     },
     "execution_count": 12,
     "metadata": {},
     "output_type": "execute_result"
    }
   ],
   "source": [
    "len(title)"
   ]
  },
  {
   "cell_type": "code",
   "execution_count": 14,
   "id": "149ce964",
   "metadata": {},
   "outputs": [
    {
     "data": {
      "text/plain": [
       "[<td class=\"number\">73,300</td>,\n",
       " <td class=\"number\">150,400</td>,\n",
       " <td class=\"number\">393,500</td>,\n",
       " <td class=\"number\">821,000</td>,\n",
       " <td class=\"number\">249,500</td>,\n",
       " <td class=\"number\">62,700</td>,\n",
       " <td class=\"number\">117,700</td>,\n",
       " <td class=\"number\">180,700</td>,\n",
       " <td class=\"number\">435,000</td>,\n",
       " <td class=\"number\">493,500</td>,\n",
       " <td class=\"number\">204,000</td>,\n",
       " <td class=\"number\">168,800</td>,\n",
       " <td class=\"number\">68,500</td>,\n",
       " <td class=\"number\">386,500</td>,\n",
       " <td class=\"number\">59,200</td>,\n",
       " <td class=\"number\">242,500</td>,\n",
       " <td class=\"number\">44,250</td>,\n",
       " <td class=\"number\">287,000</td>,\n",
       " <td class=\"number\">58,500</td>,\n",
       " <td class=\"number\">84,900</td>,\n",
       " <td class=\"number\">99,500</td>,\n",
       " <td class=\"number\">101,600</td>,\n",
       " <td class=\"number\">78,200</td>,\n",
       " <td class=\"number\">204,000</td>,\n",
       " <td class=\"number\">311,500</td>,\n",
       " <td class=\"number\">22,950</td>,\n",
       " <td class=\"number\">30,250</td>,\n",
       " <td class=\"number\">127,000</td>,\n",
       " <td class=\"number\">163,500</td>,\n",
       " <td class=\"number\">18,280</td>,\n",
       " <td class=\"number\">177,700</td>,\n",
       " <td class=\"number\">91,400</td>,\n",
       " <td class=\"number\">53,100</td>,\n",
       " <td class=\"number\">235,500</td>,\n",
       " <td class=\"number\">15,060</td>,\n",
       " <td class=\"number\">14,100</td>,\n",
       " <td class=\"number\">41,450</td>,\n",
       " <td class=\"number\">137,200</td>,\n",
       " <td class=\"number\">57,900</td>,\n",
       " <td class=\"number\">15,510</td>,\n",
       " <td class=\"number\">110,300</td>,\n",
       " <td class=\"number\">464,500</td>,\n",
       " <td class=\"number\">69,700</td>,\n",
       " <td class=\"number\">58,000</td>,\n",
       " <td class=\"number\">23,500</td>,\n",
       " <td class=\"number\">75,000</td>,\n",
       " <td class=\"number\">119,100</td>,\n",
       " <td class=\"number\">202,000</td>,\n",
       " <td class=\"number\">157,700</td>,\n",
       " <td class=\"number\">1,027,310</td>]"
      ]
     },
     "execution_count": 14,
     "metadata": {},
     "output_type": "execute_result"
    }
   ],
   "source": [
    "#4. 가격을 수집\n",
    "# 선택자를 한번에 복사해 오는 방법\n",
    "# 개발자도구 -> 원하는 요소 -> 우클릭 -> copy -> copyselctor\n",
    "# 주의점! 반드시 내가 선택한 요소 한개의 선택자만 반환\n",
    "# 복수개를 수집할 때는 반드시 선택자를 수정\n",
    "# 단수개를 의미하는 선택자를 제거 (id, nth-child(n))\n",
    "\n",
    "soup.select('#contentarea > div.box_type_l > table.type_2 > tbody > tr > td:nth-child(3)')"
   ]
  },
  {
   "cell_type": "code",
   "execution_count": null,
   "id": "7e338834",
   "metadata": {},
   "outputs": [],
   "source": []
  }
 ],
 "metadata": {
  "kernelspec": {
   "display_name": "Python 3 (ipykernel)",
   "language": "python",
   "name": "python3"
  },
  "language_info": {
   "codemirror_mode": {
    "name": "ipython",
    "version": 3
   },
   "file_extension": ".py",
   "mimetype": "text/x-python",
   "name": "python",
   "nbconvert_exporter": "python",
   "pygments_lexer": "ipython3",
   "version": "3.11.5"
  }
 },
 "nbformat": 4,
 "nbformat_minor": 5
}
