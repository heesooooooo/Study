{
 "cells": [
  {
   "cell_type": "code",
   "execution_count": 1,
   "id": "9ca11cf6",
   "metadata": {},
   "outputs": [],
   "source": [
    "from selenium import webdriver as wb\n",
    "from selenium.webdriver.common.keys import Keys\n",
    "from selenium.webdriver.common.by import By"
   ]
  },
  {
   "cell_type": "code",
   "execution_count": 6,
   "id": "69e604ef",
   "metadata": {},
   "outputs": [],
   "source": [
    "#1. 브라우저를 실행해서 naver페이지로 이동\n",
    "driver = wb.Chrome()"
   ]
  },
  {
   "cell_type": "code",
   "execution_count": 17,
   "id": "021343bd",
   "metadata": {},
   "outputs": [],
   "source": [
    "driver.get('http://www.naver.com')"
   ]
  },
  {
   "cell_type": "code",
   "execution_count": 19,
   "id": "1cb72a7e",
   "metadata": {},
   "outputs": [],
   "source": [
    "#2. 검색창에 \"이강인\" 검색 후, 엔터 쳐서 내용 보기\n",
    "search=driver.find_element(By.ID, \"query\")\n",
    "# driver.find_element(By.CSS_SELECTOR, \"#query\")"
   ]
  },
  {
   "cell_type": "code",
   "execution_count": 20,
   "id": "6ae9201a",
   "metadata": {},
   "outputs": [],
   "source": [
    "search.send_keys('이강인')"
   ]
  },
  {
   "cell_type": "code",
   "execution_count": 21,
   "id": "3d2bde5c",
   "metadata": {},
   "outputs": [],
   "source": [
    "search.send_keys(Keys.ENTER)"
   ]
  },
  {
   "cell_type": "code",
   "execution_count": 26,
   "id": "1c891d41",
   "metadata": {},
   "outputs": [],
   "source": [
    "#3. 메뉴 상단의 '뉴스' 탭을 클릭\n",
    "btn = driver.find_element(By.CSS_SELECTOR, '#lnb > div.lnb_group > div > div.lnb_nav_area._nav_area_root > div > div.api_flicking_wrap._conveyer_root > div:nth-child(1) > a')\n",
    "btn.click()\n",
    "# 버튼 클릭"
   ]
  },
  {
   "cell_type": "code",
   "execution_count": null,
   "id": "06cadcc1",
   "metadata": {},
   "outputs": [],
   "source": [
    "#4. 화면을 최하단으로 이동\n"
   ]
  },
  {
   "cell_type": "code",
   "execution_count": 45,
   "id": "0ad68216",
   "metadata": {},
   "outputs": [],
   "source": [
    "#5. 뉴스타이틀을 수집하고 순수한 텍스트 정보가 담긴 리스트 제작\n",
    "title = driver.find_elements(By.CSS_SELECTOR, 'div.news_wrap.api_ani_send > div > div.news_contents > a.news_tit')\n"
   ]
  },
  {
   "cell_type": "code",
   "execution_count": 47,
   "id": "46550190",
   "metadata": {},
   "outputs": [],
   "source": [
    "title_list = [] \n",
    "for i in title :\n",
    "    title_list.append(i.text)"
   ]
  },
  {
   "cell_type": "code",
   "execution_count": 48,
   "id": "adccfff8",
   "metadata": {},
   "outputs": [
    {
     "data": {
      "text/plain": [
       "['[속보]이강인, 런던서 손흥민 직접 만나 사죄했다 “절대로 해서는 안될 행동...',\n",
       " '이강인, 손흥민 찾아가 직접 사과 “절대 해선 안 될 행동”',\n",
       " '손흥민 \"강인이가 좋은 선수로 성장하도록 보살필 것\" [전문]',\n",
       " '이강인-손흥민 런던서 화해‥\"진심으로 사과\" \"너그러운 마음으로‥\"',\n",
       " '음바페, 이강인 생일에 SNS 남긴 메시지는…“생축, 마이 브로”',\n",
       " '“한국·PSG에 재앙” 佛보도에도…이강인, 웃으며 훈련',\n",
       " '사과받은 손흥민 \"강인이를 너그러운 마음으로 용서해달라\"',\n",
       " '“포위된 이강인, 한국·PSG 모두에 재앙”...프랑스 언론 분석은',\n",
       " '\"성지순례 왔어요\"…5개월 전 \\'이강인 사주\\' 어땠길래',\n",
       " '이강인 지운 아라치 치킨']"
      ]
     },
     "execution_count": 48,
     "metadata": {},
     "output_type": "execute_result"
    }
   ],
   "source": [
    "title_list"
   ]
  },
  {
   "cell_type": "code",
   "execution_count": null,
   "id": "19ad76fd",
   "metadata": {},
   "outputs": [],
   "source": []
  },
  {
   "cell_type": "code",
   "execution_count": null,
   "id": "e8d00b2d",
   "metadata": {},
   "outputs": [],
   "source": []
  },
  {
   "cell_type": "code",
   "execution_count": null,
   "id": "4beff683",
   "metadata": {},
   "outputs": [],
   "source": []
  },
  {
   "cell_type": "code",
   "execution_count": null,
   "id": "f83577bd",
   "metadata": {},
   "outputs": [],
   "source": []
  }
 ],
 "metadata": {
  "kernelspec": {
   "display_name": "Python 3 (ipykernel)",
   "language": "python",
   "name": "python3"
  },
  "language_info": {
   "codemirror_mode": {
    "name": "ipython",
    "version": 3
   },
   "file_extension": ".py",
   "mimetype": "text/x-python",
   "name": "python",
   "nbconvert_exporter": "python",
   "pygments_lexer": "ipython3",
   "version": "3.11.5"
  }
 },
 "nbformat": 4,
 "nbformat_minor": 5
}
