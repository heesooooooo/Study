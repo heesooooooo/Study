{
 "cells": [
  {
   "cell_type": "markdown",
   "id": "3f3bc2bb",
   "metadata": {},
   "source": [
    "#### 문제 1-1. \n",
    "선형 회귀란 독립변수 x를 사용해 종속변수 y의 움직임을 예측하고 설명하는 작업을 의미한다.\n",
    "로지스틱 회귀란 참과 거짓 중 하나의 결과를 내놓아, 그 사이를 구분하는 S자 형태의 선을 그어주는 작업을 의미한다."
   ]
  },
  {
   "cell_type": "markdown",
   "id": "55e1c782",
   "metadata": {},
   "source": [
    "#### 문제 1-2.\n",
    "평균제곱오차란, 실제값과 예측값 사이의 오차들을 제곱한 후 모두 더해 평균값을 낸 것으로, 손실함수이다."
   ]
  },
  {
   "cell_type": "markdown",
   "id": "8e22a78c",
   "metadata": {},
   "source": [
    "#### 문제 1-3. \n",
    "경사하강법은 오차의 변화에 따라 이차 함수 그래프를 만들고 적절한 학습률을 설정해 미분 값이 0인 지점을 구하는 것이다."
   ]
  },
  {
   "cell_type": "markdown",
   "id": "6f951c6a",
   "metadata": {},
   "source": [
    "#### 문제 1-4. \n",
    "시그모이드 함수는 활성화 함수 중 하나로, 0 ~ 1사이의 S자 곡선형태이다.\n",
    "0과 1을 나눠주는 기준점은 0.5이다."
   ]
  },
  {
   "cell_type": "markdown",
   "id": "e858eeb7",
   "metadata": {},
   "source": [
    "#### 문제 2-1. \n",
    "딥러닝은 인간의 신경망을 모방하여 데이터를 학습하고 예측하는 기술인데 이 딥러닝 모델을 구성하는 가장 작은 단위가 퍼셉트론이다. 퍼셉트론은 선형모델+활성화함수로 이루어져 있다.\n",
    "<br>모델링 순서는 \n",
    "1. 신경망 모델 구조설계 \n",
    "    뼈대생성(Sequential)\n",
    "    입력층(InputLayer(input_shape)\n",
    "    중간층 (Hidden layer) (Dense(units = ?, activation = ?))\n",
    "    출력층\n",
    "2. 신경망 모델 학습방법 및 평가방법 설정 compile(loss,optimizer,metrics)\n",
    "3. 신경망 모델 학습 fit\n",
    "4. 신경망 모델 평가 evaluate이다."
   ]
  },
  {
   "cell_type": "markdown",
   "id": "3f625f4a",
   "metadata": {},
   "source": [
    "#### 문제 2-2. \n",
    "XOR문제는 사각형 종이의 모서리에 <br>\n",
    "●   ○\n",
    "\n",
    "○   ● 이런 점이 위치해있을 때 , 하나의 직선으로는 흰색점과 검은색 점을 구분할 수 없다는 것이다.\n",
    "논리 회로에 등장하는 개념으로, 컴퓨터는 두가지의 디지털값, 즉 0과 1을 입력해 하나의 값을 출력하는 회로가 모여 만들어지는데, 이 회로를 '게이트'라고 한다. 이때 XOR게이트는 둘 중 하나만 1일 때 1이 출력된다."
   ]
  },
  {
   "cell_type": "markdown",
   "id": "aa914d85",
   "metadata": {},
   "source": [
    "#### 문제 2-3. \n",
    "오차 역전파란, \n",
    "순전파 이후 나온 에러값을 가지고 최적화 함수를 통해 가중치를 조절한 후 출력층 > 중간층 > 입력층으로 수정된 가중치를 전달하면서 가중치 업데이트 진행하는 것을 말한다."
   ]
  },
  {
   "cell_type": "markdown",
   "id": "680776a8",
   "metadata": {},
   "source": [
    "#### 문제 2-4. \n",
    "오차 역전파 시 문제 발생하면 오차를 낮추는 가중치를 찾기위해 경사하강법을 진행한다.\n",
    "최적화 함수를 통해서 에러가 낮아지는 가중치를 찾을때 값이 너무 작아져 기울기를 감지하기 힘들어지면 학습이 제대로 안된다. 이를 기울기 소실이라고 한다."
   ]
  },
  {
   "cell_type": "markdown",
   "id": "29d098a1",
   "metadata": {},
   "source": [
    "#### 문제 2-5. \n",
    "과적합은 층이 너무 많거나 변수가 복잡해서 발생하기도 하고 테스트셋과 학습셋이 중복될 때 생기기도 한다."
   ]
  },
  {
   "cell_type": "markdown",
   "id": "2f6a0dc4",
   "metadata": {},
   "source": [
    "#### 문제 2-6. \n",
    "활성화 함수란 입력된 값을 다음 층으로 넘길 때 각 값을 어떻게 처리할지 결정하는 함수를 말한다. \n",
    "linear, sigmoid, softmax 등이 있다."
   ]
  },
  {
   "cell_type": "markdown",
   "id": "576c6577",
   "metadata": {},
   "source": [
    "#### 문제 3-2"
   ]
  },
  {
   "cell_type": "code",
   "execution_count": 1,
   "id": "a3dbb36c",
   "metadata": {
    "collapsed": true
   },
   "outputs": [
    {
     "ename": "ModuleNotFoundError",
     "evalue": "No module named 'tensorflow'",
     "output_type": "error",
     "traceback": [
      "\u001b[1;31m---------------------------------------------------------------------------\u001b[0m",
      "\u001b[1;31mModuleNotFoundError\u001b[0m                       Traceback (most recent call last)",
      "Cell \u001b[1;32mIn[1], line 1\u001b[0m\n\u001b[1;32m----> 1\u001b[0m \u001b[38;5;28;01mfrom\u001b[39;00m \u001b[38;5;21;01mtensorflow\u001b[39;00m\u001b[38;5;21;01m.\u001b[39;00m\u001b[38;5;21;01mkeras\u001b[39;00m\u001b[38;5;21;01m.\u001b[39;00m\u001b[38;5;21;01mmodels\u001b[39;00m \u001b[38;5;28;01mimport\u001b[39;00m Sequential\n\u001b[0;32m      2\u001b[0m \u001b[38;5;28;01mfrom\u001b[39;00m \u001b[38;5;21;01mtensorflow\u001b[39;00m\u001b[38;5;21;01m.\u001b[39;00m\u001b[38;5;21;01mkeras\u001b[39;00m\u001b[38;5;21;01m.\u001b[39;00m\u001b[38;5;21;01mlayers\u001b[39;00m \u001b[38;5;28;01mimport\u001b[39;00m InputLayer, Dense\n\u001b[0;32m      4\u001b[0m model \u001b[38;5;241m=\u001b[39m Sequential()\n",
      "\u001b[1;31mModuleNotFoundError\u001b[0m: No module named 'tensorflow'"
     ]
    }
   ],
   "source": [
    "from tensorflow.keras.models import Sequential\n",
    "from tensorflow.keras.layers import InputLayer, Dense\n",
    "\n",
    "model=Sequential()\n",
    "\n",
    "model.add(InputLayer(input_shape=(10,)))\n",
    "\n",
    "model.add(Dense(units=64, activation='relu'))\n",
    "model.add(Dense(units=32, activation='relu'))\n",
    "\n",
    "model.add(Dense(units=3, activation='softmax'))\n"
   ]
  },
  {
   "cell_type": "markdown",
   "id": "c50588e1",
   "metadata": {},
   "source": [
    "#### 문제 3-2"
   ]
  },
  {
   "cell_type": "code",
   "execution_count": null,
   "id": "bee67ec0",
   "metadata": {},
   "outputs": [],
   "source": [
    "model.compile(loss='categorical_crossentropy', \n",
    "              optimizer='adam',\n",
    "              metrics=['accuracy'] \n",
    "              )\n",
    "\n",
    "model.fit(X_train, y_train,\n",
    "          validation_split=0.25,\n",
    "          batch_size=20,\n",
    "          epochs=100)"
   ]
  },
  {
   "cell_type": "markdown",
   "id": "961f39d8",
   "metadata": {},
   "source": [
    "#### 문제 3-3"
   ]
  },
  {
   "cell_type": "code",
   "execution_count": null,
   "id": "2fd2f8c1",
   "metadata": {},
   "outputs": [],
   "source": [
    "model.evaluate(X_test, y_test)"
   ]
  }
 ],
 "metadata": {
  "kernelspec": {
   "display_name": "Python 3 (ipykernel)",
   "language": "python",
   "name": "python3"
  },
  "language_info": {
   "codemirror_mode": {
    "name": "ipython",
    "version": 3
   },
   "file_extension": ".py",
   "mimetype": "text/x-python",
   "name": "python",
   "nbconvert_exporter": "python",
   "pygments_lexer": "ipython3",
   "version": "3.11.5"
  }
 },
 "nbformat": 4,
 "nbformat_minor": 5
}
