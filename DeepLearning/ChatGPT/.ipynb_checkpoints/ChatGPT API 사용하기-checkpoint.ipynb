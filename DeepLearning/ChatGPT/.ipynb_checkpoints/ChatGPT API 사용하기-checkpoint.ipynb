{
 "cells": [
  {
   "cell_type": "code",
   "execution_count": 1,
   "id": "7cb83553-908e-43fc-b30a-2c91dfda3246",
   "metadata": {},
   "outputs": [],
   "source": [
    "from openai import OpenAI"
   ]
  },
  {
   "cell_type": "code",
   "execution_count": 2,
   "id": "63ecb24d-a83e-46dd-8b3d-60a042041abd",
   "metadata": {},
   "outputs": [],
   "source": [
    "# chatgpt api 키\n",
    "key = ''"
   ]
  },
  {
   "cell_type": "code",
   "execution_count": 3,
   "id": "dec5f806-9f8f-4b14-a974-01e20a587ddd",
   "metadata": {},
   "outputs": [],
   "source": [
    "client = OpenAI(api_key = key)"
   ]
  },
  {
   "cell_type": "code",
   "execution_count": 4,
   "id": "afc229b3-a2a3-4df4-8c32-ec698cf3c1f1",
   "metadata": {},
   "outputs": [],
   "source": [
    "# 사용할 엔진\n",
    "model_engine = 'gpt-3.5-turbo'"
   ]
  },
  {
   "cell_type": "code",
   "execution_count": 13,
   "id": "cf9be7ca-d95d-425f-801c-5c8e7625717c",
   "metadata": {},
   "outputs": [
    {
     "name": "stdout",
     "output_type": "stream",
     "text": [
      "😲 아람씨 안녕하세요!!!\n"
     ]
    }
   ],
   "source": [
    "# 질문 내용\n",
    "prompt = 'Feel : Surprised 아람씨 안녕하세요'\n",
    "\n",
    "result = client.chat.completions.create(\n",
    "    model = model_engine,\n",
    "    max_tokens = 50, # 최대 단어수\n",
    "    messages = [\n",
    "        # 질문하는 상황\n",
    "        {'role':'system','content':'감정을 이모지와 이름과 느낌표로 표현합니다'},\n",
    "        # 질문 내용\n",
    "        {'role':'user','content':prompt}\n",
    "    ]\n",
    ")\n",
    "\n",
    "print(result.choices[0].message.content.strip())"
   ]
  },
  {
   "cell_type": "code",
   "execution_count": null,
   "id": "8aff0425-fd9b-41a8-952c-b3c340699053",
   "metadata": {},
   "outputs": [],
   "source": [
    "# 특정상황에서 대답할 특정 양식을 학습시켜보자\n",
    "\n",
    "# 질문 = 'Feel : Smile 아람씨 안녕하세요'\n",
    "# 첫 대답 = 😊 아람씨 안녕하세요!! \n",
    "# 원하는 대답 = :) ㅎㅎ 아람!\n",
    "\n",
    "# 질문 = 'Feel : Sad 아람씨 안녕하세요'\n",
    "# 원하는 대답 = :( ㅜㅜ 안녕하세요 \n",
    "\n",
    "# 특정 양식으로 대답을 유도할 수 있다.\n",
    "# 특정 값으로 대답을 유도할 수 있다."
   ]
  },
  {
   "cell_type": "code",
   "execution_count": 18,
   "id": "e249f768-f066-49c5-98ef-8b7f4ee41369",
   "metadata": {},
   "outputs": [
    {
     "data": {
      "text/plain": [
       "FileObject(id='file-p9PWwtNNvECyUpSDxnJBYo9U', bytes=3150, created_at=1716793086, filename='data.jsonl', object='file', purpose='fine-tune', status='processed', status_details=None)"
      ]
     },
     "execution_count": 18,
     "metadata": {},
     "output_type": "execute_result"
    }
   ],
   "source": [
    "# 추가 학습이 필요 \n",
    "# 학습할 데이터를 만들어야 함 > 특정 상황에서 특정 물음에 해야하는 특정 대답\n",
    "# data.jsonl 파일에 학습내용 담겨있음\n",
    "\n",
    "# 학습 자료 업로드\n",
    "client.files.create(\n",
    "    file = open('data.jsonl','rb'),\n",
    "    purpose = 'fine-tune'\n",
    ")"
   ]
  },
  {
   "cell_type": "code",
   "execution_count": 19,
   "id": "0f6e1bc1-8ff7-421f-819a-d23d14a8e7af",
   "metadata": {},
   "outputs": [
    {
     "data": {
      "text/plain": [
       "FineTuningJob(id='ftjob-xgUS0YtOl8o9gmjyoaAD265s', created_at=1716793112, error=Error(code=None, message=None, param=None), fine_tuned_model=None, finished_at=None, hyperparameters=Hyperparameters(n_epochs='auto', batch_size='auto', learning_rate_multiplier='auto'), model='gpt-3.5-turbo-0125', object='fine_tuning.job', organization_id='org-0eGfjWotkvKSTc6Kxnk4A7hH', result_files=[], seed=845113699, status='validating_files', trained_tokens=None, training_file='file-p9PWwtNNvECyUpSDxnJBYo9U', validation_file=None, estimated_finish=None, integrations=[], user_provided_suffix=None)"
      ]
     },
     "execution_count": 19,
     "metadata": {},
     "output_type": "execute_result"
    }
   ],
   "source": [
    "# 추가학습(fine-tuning)\n",
    "client.fine_tuning.jobs.create(\n",
    "    training_file = 'file-p9PWwtNNvECyUpSDxnJBYo9U',\n",
    "    model = model_engine)"
   ]
  },
  {
   "cell_type": "code",
   "execution_count": 22,
   "id": "8141f86e-3ec8-48c1-a907-f4f3ba4aeeab",
   "metadata": {},
   "outputs": [
    {
     "data": {
      "text/plain": [
       "FineTuningJob(id='ftjob-xgUS0YtOl8o9gmjyoaAD265s', created_at=1716793112, error=Error(code='invalid_training_file', message='The job failed due to an invalid training file. Expected file to have JSONL format, where every line is a valid JSON dictionary. Line 1 is not a dictionary.', param='training_file'), fine_tuned_model=None, finished_at=None, hyperparameters=Hyperparameters(n_epochs='auto', batch_size='auto', learning_rate_multiplier='auto'), model='gpt-3.5-turbo-0125', object='fine_tuning.job', organization_id='org-0eGfjWotkvKSTc6Kxnk4A7hH', result_files=[], seed=845113699, status='failed', trained_tokens=None, training_file='file-p9PWwtNNvECyUpSDxnJBYo9U', validation_file=None, estimated_finish=None, integrations=[], user_provided_suffix=None)"
      ]
     },
     "execution_count": 22,
     "metadata": {},
     "output_type": "execute_result"
    }
   ],
   "source": [
    "# 학습 과정 확인\n",
    "# status='validating_files' 파일확인중\n",
    "# status = 'queued' 대기중\n",
    "# status = 'running' 실행중\n",
    "# status = 'succeeded' 완료\n",
    "client.fine_tuning.jobs.retrieve('ftjob-xgUS0YtOl8o9gmjyoaAD265s')"
   ]
  },
  {
   "cell_type": "code",
   "execution_count": null,
   "id": "85b6f96e-27f8-410b-a54a-0988010075b9",
   "metadata": {},
   "outputs": [],
   "source": []
  },
  {
   "cell_type": "code",
   "execution_count": null,
   "id": "03916bc4-9c11-403f-b42b-b65b3614fecc",
   "metadata": {},
   "outputs": [],
   "source": []
  },
  {
   "cell_type": "code",
   "execution_count": null,
   "id": "9710c618-55ac-4fee-9ac8-cd77396d86b2",
   "metadata": {},
   "outputs": [],
   "source": []
  },
  {
   "cell_type": "code",
   "execution_count": null,
   "id": "c0bfc4fb-b885-4eeb-a56b-be69158f56fc",
   "metadata": {},
   "outputs": [],
   "source": []
  },
  {
   "cell_type": "code",
   "execution_count": null,
   "id": "53ac31e6-6d21-458c-b78d-f78d2bd45422",
   "metadata": {},
   "outputs": [],
   "source": []
  },
  {
   "cell_type": "code",
   "execution_count": null,
   "id": "e3ee8b0d-1849-45b5-a1a4-ed49099e5f75",
   "metadata": {},
   "outputs": [],
   "source": []
  }
 ],
 "metadata": {
  "kernelspec": {
   "display_name": "Python 3 (ipykernel)",
   "language": "python",
   "name": "python3"
  },
  "language_info": {
   "codemirror_mode": {
    "name": "ipython",
    "version": 3
   },
   "file_extension": ".py",
   "mimetype": "text/x-python",
   "name": "python",
   "nbconvert_exporter": "python",
   "pygments_lexer": "ipython3",
   "version": "3.9.0"
  }
 },
 "nbformat": 4,
 "nbformat_minor": 5
}
